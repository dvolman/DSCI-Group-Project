{
 "cells": [
  {
   "cell_type": "markdown",
   "id": "9511eb7c-8dd4-4a8d-b79f-82524e87d3ce",
   "metadata": {},
   "source": [
    "Load necessary libraries."
   ]
  },
  {
   "cell_type": "code",
   "execution_count": 1,
   "id": "4b5c7d87-4503-4487-b1c0-91ca4f5e351a",
   "metadata": {},
   "outputs": [
    {
     "name": "stderr",
     "output_type": "stream",
     "text": [
      "Warning message:\n",
      "“package ‘ggplot2’ was built under R version 4.3.2”\n",
      "── \u001b[1mAttaching core tidyverse packages\u001b[22m ──────────────────────── tidyverse 2.0.0 ──\n",
      "\u001b[32m✔\u001b[39m \u001b[34mdplyr    \u001b[39m 1.1.3     \u001b[32m✔\u001b[39m \u001b[34mreadr    \u001b[39m 2.1.4\n",
      "\u001b[32m✔\u001b[39m \u001b[34mforcats  \u001b[39m 1.0.0     \u001b[32m✔\u001b[39m \u001b[34mstringr  \u001b[39m 1.5.0\n",
      "\u001b[32m✔\u001b[39m \u001b[34mggplot2  \u001b[39m 3.5.0     \u001b[32m✔\u001b[39m \u001b[34mtibble   \u001b[39m 3.2.1\n",
      "\u001b[32m✔\u001b[39m \u001b[34mlubridate\u001b[39m 1.9.2     \u001b[32m✔\u001b[39m \u001b[34mtidyr    \u001b[39m 1.3.0\n",
      "\u001b[32m✔\u001b[39m \u001b[34mpurrr    \u001b[39m 1.0.2     \n",
      "── \u001b[1mConflicts\u001b[22m ────────────────────────────────────────── tidyverse_conflicts() ──\n",
      "\u001b[31m✖\u001b[39m \u001b[34mdplyr\u001b[39m::\u001b[32mfilter()\u001b[39m masks \u001b[34mstats\u001b[39m::filter()\n",
      "\u001b[31m✖\u001b[39m \u001b[34mdplyr\u001b[39m::\u001b[32mlag()\u001b[39m    masks \u001b[34mstats\u001b[39m::lag()\n",
      "\u001b[36mℹ\u001b[39m Use the conflicted package (\u001b[3m\u001b[34m<http://conflicted.r-lib.org/>\u001b[39m\u001b[23m) to force all conflicts to become errors\n",
      "── \u001b[1mAttaching packages\u001b[22m ────────────────────────────────────── tidymodels 1.1.1 ──\n",
      "\n",
      "\u001b[32m✔\u001b[39m \u001b[34mbroom       \u001b[39m 1.0.5     \u001b[32m✔\u001b[39m \u001b[34mrsample     \u001b[39m 1.2.0\n",
      "\u001b[32m✔\u001b[39m \u001b[34mdials       \u001b[39m 1.2.0     \u001b[32m✔\u001b[39m \u001b[34mtune        \u001b[39m 1.1.2\n",
      "\u001b[32m✔\u001b[39m \u001b[34minfer       \u001b[39m 1.0.5     \u001b[32m✔\u001b[39m \u001b[34mworkflows   \u001b[39m 1.1.3\n",
      "\u001b[32m✔\u001b[39m \u001b[34mmodeldata   \u001b[39m 1.2.0     \u001b[32m✔\u001b[39m \u001b[34mworkflowsets\u001b[39m 1.0.1\n",
      "\u001b[32m✔\u001b[39m \u001b[34mparsnip     \u001b[39m 1.1.1     \u001b[32m✔\u001b[39m \u001b[34myardstick   \u001b[39m 1.2.0\n",
      "\u001b[32m✔\u001b[39m \u001b[34mrecipes     \u001b[39m 1.0.8     \n",
      "\n",
      "── \u001b[1mConflicts\u001b[22m ───────────────────────────────────────── tidymodels_conflicts() ──\n",
      "\u001b[31m✖\u001b[39m \u001b[34mscales\u001b[39m::\u001b[32mdiscard()\u001b[39m masks \u001b[34mpurrr\u001b[39m::discard()\n",
      "\u001b[31m✖\u001b[39m \u001b[34mdplyr\u001b[39m::\u001b[32mfilter()\u001b[39m   masks \u001b[34mstats\u001b[39m::filter()\n",
      "\u001b[31m✖\u001b[39m \u001b[34mrecipes\u001b[39m::\u001b[32mfixed()\u001b[39m  masks \u001b[34mstringr\u001b[39m::fixed()\n",
      "\u001b[31m✖\u001b[39m \u001b[34mdplyr\u001b[39m::\u001b[32mlag()\u001b[39m      masks \u001b[34mstats\u001b[39m::lag()\n",
      "\u001b[31m✖\u001b[39m \u001b[34myardstick\u001b[39m::\u001b[32mspec()\u001b[39m masks \u001b[34mreadr\u001b[39m::spec()\n",
      "\u001b[31m✖\u001b[39m \u001b[34mrecipes\u001b[39m::\u001b[32mstep()\u001b[39m   masks \u001b[34mstats\u001b[39m::step()\n",
      "\u001b[34m•\u001b[39m Use \u001b[32mtidymodels_prefer()\u001b[39m to resolve common conflicts.\n",
      "\n"
     ]
    }
   ],
   "source": [
    "library(tidyverse)\n",
    "library(tidymodels)\n",
    "library(repr)\n",
    "options(repr.matrix.max.rows = 6)\n",
    "set.seed(5)"
   ]
  },
  {
   "cell_type": "markdown",
   "id": "5444b5d1-a63d-46be-88c3-447117c2e246",
   "metadata": {},
   "source": [
    "Download data from web."
   ]
  },
  {
   "cell_type": "code",
   "execution_count": 2,
   "id": "c2f0a027-1261-4078-9519-423ed0591ed1",
   "metadata": {},
   "outputs": [
    {
     "name": "stderr",
     "output_type": "stream",
     "text": [
      "\u001b[1mRows: \u001b[22m\u001b[34m900\u001b[39m \u001b[1mColumns: \u001b[22m\u001b[34m8\u001b[39m\n",
      "\u001b[36m──\u001b[39m \u001b[1mColumn specification\u001b[22m \u001b[36m────────────────────────────────────────────────────────\u001b[39m\n",
      "\u001b[1mDelimiter:\u001b[22m \",\"\n",
      "\u001b[31mchr\u001b[39m (1): Class\n",
      "\u001b[32mdbl\u001b[39m (7): Area, MajorAxisLength, MinorAxisLength, Eccentricity, ConvexArea, E...\n",
      "\n",
      "\u001b[36mℹ\u001b[39m Use `spec()` to retrieve the full column specification for this data.\n",
      "\u001b[36mℹ\u001b[39m Specify the column types or set `show_col_types = FALSE` to quiet this message.\n"
     ]
    },
    {
     "data": {
      "text/html": [
       "<table class=\"dataframe\">\n",
       "<caption>A spec_tbl_df: 900 × 8</caption>\n",
       "<thead>\n",
       "\t<tr><th scope=col>Area</th><th scope=col>MajorAxisLength</th><th scope=col>MinorAxisLength</th><th scope=col>Eccentricity</th><th scope=col>ConvexArea</th><th scope=col>Extent</th><th scope=col>Perimeter</th><th scope=col>Class</th></tr>\n",
       "\t<tr><th scope=col>&lt;dbl&gt;</th><th scope=col>&lt;dbl&gt;</th><th scope=col>&lt;dbl&gt;</th><th scope=col>&lt;dbl&gt;</th><th scope=col>&lt;dbl&gt;</th><th scope=col>&lt;dbl&gt;</th><th scope=col>&lt;dbl&gt;</th><th scope=col>&lt;chr&gt;</th></tr>\n",
       "</thead>\n",
       "<tbody>\n",
       "\t<tr><td>87524</td><td>442.2460</td><td>253.2912</td><td>0.8197384</td><td>90546</td><td>0.7586506</td><td>1184.040</td><td>Kecimen</td></tr>\n",
       "\t<tr><td>75166</td><td>406.6907</td><td>243.0324</td><td>0.8018052</td><td>78789</td><td>0.6841296</td><td>1121.786</td><td>Kecimen</td></tr>\n",
       "\t<tr><td>90856</td><td>442.2670</td><td>266.3283</td><td>0.7983536</td><td>93717</td><td>0.6376128</td><td>1208.575</td><td>Kecimen</td></tr>\n",
       "\t<tr><td>⋮</td><td>⋮</td><td>⋮</td><td>⋮</td><td>⋮</td><td>⋮</td><td>⋮</td><td>⋮</td></tr>\n",
       "\t<tr><td>99657</td><td>431.7070</td><td>298.8373</td><td>0.7216841</td><td>106264</td><td>0.7410985</td><td>1292.828</td><td>Besni</td></tr>\n",
       "\t<tr><td>93523</td><td>476.3441</td><td>254.1761</td><td>0.8457385</td><td> 97653</td><td>0.6587983</td><td>1258.548</td><td>Besni</td></tr>\n",
       "\t<tr><td>85609</td><td>512.0818</td><td>215.2720</td><td>0.9073454</td><td> 89197</td><td>0.6320200</td><td>1272.862</td><td>Besni</td></tr>\n",
       "</tbody>\n",
       "</table>\n"
      ],
      "text/latex": [
       "A spec\\_tbl\\_df: 900 × 8\n",
       "\\begin{tabular}{llllllll}\n",
       " Area & MajorAxisLength & MinorAxisLength & Eccentricity & ConvexArea & Extent & Perimeter & Class\\\\\n",
       " <dbl> & <dbl> & <dbl> & <dbl> & <dbl> & <dbl> & <dbl> & <chr>\\\\\n",
       "\\hline\n",
       "\t 87524 & 442.2460 & 253.2912 & 0.8197384 & 90546 & 0.7586506 & 1184.040 & Kecimen\\\\\n",
       "\t 75166 & 406.6907 & 243.0324 & 0.8018052 & 78789 & 0.6841296 & 1121.786 & Kecimen\\\\\n",
       "\t 90856 & 442.2670 & 266.3283 & 0.7983536 & 93717 & 0.6376128 & 1208.575 & Kecimen\\\\\n",
       "\t ⋮ & ⋮ & ⋮ & ⋮ & ⋮ & ⋮ & ⋮ & ⋮\\\\\n",
       "\t 99657 & 431.7070 & 298.8373 & 0.7216841 & 106264 & 0.7410985 & 1292.828 & Besni\\\\\n",
       "\t 93523 & 476.3441 & 254.1761 & 0.8457385 &  97653 & 0.6587983 & 1258.548 & Besni\\\\\n",
       "\t 85609 & 512.0818 & 215.2720 & 0.9073454 &  89197 & 0.6320200 & 1272.862 & Besni\\\\\n",
       "\\end{tabular}\n"
      ],
      "text/markdown": [
       "\n",
       "A spec_tbl_df: 900 × 8\n",
       "\n",
       "| Area &lt;dbl&gt; | MajorAxisLength &lt;dbl&gt; | MinorAxisLength &lt;dbl&gt; | Eccentricity &lt;dbl&gt; | ConvexArea &lt;dbl&gt; | Extent &lt;dbl&gt; | Perimeter &lt;dbl&gt; | Class &lt;chr&gt; |\n",
       "|---|---|---|---|---|---|---|---|\n",
       "| 87524 | 442.2460 | 253.2912 | 0.8197384 | 90546 | 0.7586506 | 1184.040 | Kecimen |\n",
       "| 75166 | 406.6907 | 243.0324 | 0.8018052 | 78789 | 0.6841296 | 1121.786 | Kecimen |\n",
       "| 90856 | 442.2670 | 266.3283 | 0.7983536 | 93717 | 0.6376128 | 1208.575 | Kecimen |\n",
       "| ⋮ | ⋮ | ⋮ | ⋮ | ⋮ | ⋮ | ⋮ | ⋮ |\n",
       "| 99657 | 431.7070 | 298.8373 | 0.7216841 | 106264 | 0.7410985 | 1292.828 | Besni |\n",
       "| 93523 | 476.3441 | 254.1761 | 0.8457385 |  97653 | 0.6587983 | 1258.548 | Besni |\n",
       "| 85609 | 512.0818 | 215.2720 | 0.9073454 |  89197 | 0.6320200 | 1272.862 | Besni |\n",
       "\n"
      ],
      "text/plain": [
       "    Area  MajorAxisLength MinorAxisLength Eccentricity ConvexArea Extent   \n",
       "1   87524 442.2460        253.2912        0.8197384    90546      0.7586506\n",
       "2   75166 406.6907        243.0324        0.8018052    78789      0.6841296\n",
       "3   90856 442.2670        266.3283        0.7983536    93717      0.6376128\n",
       "⋮   ⋮     ⋮               ⋮               ⋮            ⋮          ⋮        \n",
       "898 99657 431.7070        298.8373        0.7216841    106264     0.7410985\n",
       "899 93523 476.3441        254.1761        0.8457385     97653     0.6587983\n",
       "900 85609 512.0818        215.2720        0.9073454     89197     0.6320200\n",
       "    Perimeter Class  \n",
       "1   1184.040  Kecimen\n",
       "2   1121.786  Kecimen\n",
       "3   1208.575  Kecimen\n",
       "⋮   ⋮         ⋮      \n",
       "898 1292.828  Besni  \n",
       "899 1258.548  Besni  \n",
       "900 1272.862  Besni  "
      ]
     },
     "metadata": {},
     "output_type": "display_data"
    }
   ],
   "source": [
    "url <- \"https://raw.githubusercontent.com/dvolman/DSCI-Group-Project/main/Raisin_Dataset.csv\"\n",
    "raisin_data <- read_csv(url)\n",
    "raisin_data"
   ]
  },
  {
   "cell_type": "markdown",
   "id": "dddefa8e-0eb2-47fc-b80b-5d81cd7d5ea9",
   "metadata": {},
   "source": [
    "Convert `Class` to factor and rename columns for readability."
   ]
  },
  {
   "cell_type": "code",
   "execution_count": 3,
   "id": "5e29ecdb-041d-4bf4-a988-c365b20f1e05",
   "metadata": {},
   "outputs": [
    {
     "data": {
      "text/html": [
       "<table class=\"dataframe\">\n",
       "<caption>A tibble: 900 × 8</caption>\n",
       "<thead>\n",
       "\t<tr><th scope=col>Area</th><th scope=col>Major_Axis_Length</th><th scope=col>Minor_Axis_Length</th><th scope=col>Eccentricity</th><th scope=col>Convex_Area</th><th scope=col>Extent</th><th scope=col>Perimeter</th><th scope=col>Class</th></tr>\n",
       "\t<tr><th scope=col>&lt;dbl&gt;</th><th scope=col>&lt;dbl&gt;</th><th scope=col>&lt;dbl&gt;</th><th scope=col>&lt;dbl&gt;</th><th scope=col>&lt;dbl&gt;</th><th scope=col>&lt;dbl&gt;</th><th scope=col>&lt;dbl&gt;</th><th scope=col>&lt;fct&gt;</th></tr>\n",
       "</thead>\n",
       "<tbody>\n",
       "\t<tr><td>87524</td><td>442.2460</td><td>253.2912</td><td>0.8197384</td><td>90546</td><td>0.7586506</td><td>1184.040</td><td>Kecimen</td></tr>\n",
       "\t<tr><td>75166</td><td>406.6907</td><td>243.0324</td><td>0.8018052</td><td>78789</td><td>0.6841296</td><td>1121.786</td><td>Kecimen</td></tr>\n",
       "\t<tr><td>90856</td><td>442.2670</td><td>266.3283</td><td>0.7983536</td><td>93717</td><td>0.6376128</td><td>1208.575</td><td>Kecimen</td></tr>\n",
       "\t<tr><td>⋮</td><td>⋮</td><td>⋮</td><td>⋮</td><td>⋮</td><td>⋮</td><td>⋮</td><td>⋮</td></tr>\n",
       "\t<tr><td>99657</td><td>431.7070</td><td>298.8373</td><td>0.7216841</td><td>106264</td><td>0.7410985</td><td>1292.828</td><td>Besni</td></tr>\n",
       "\t<tr><td>93523</td><td>476.3441</td><td>254.1761</td><td>0.8457385</td><td> 97653</td><td>0.6587983</td><td>1258.548</td><td>Besni</td></tr>\n",
       "\t<tr><td>85609</td><td>512.0818</td><td>215.2720</td><td>0.9073454</td><td> 89197</td><td>0.6320200</td><td>1272.862</td><td>Besni</td></tr>\n",
       "</tbody>\n",
       "</table>\n"
      ],
      "text/latex": [
       "A tibble: 900 × 8\n",
       "\\begin{tabular}{llllllll}\n",
       " Area & Major\\_Axis\\_Length & Minor\\_Axis\\_Length & Eccentricity & Convex\\_Area & Extent & Perimeter & Class\\\\\n",
       " <dbl> & <dbl> & <dbl> & <dbl> & <dbl> & <dbl> & <dbl> & <fct>\\\\\n",
       "\\hline\n",
       "\t 87524 & 442.2460 & 253.2912 & 0.8197384 & 90546 & 0.7586506 & 1184.040 & Kecimen\\\\\n",
       "\t 75166 & 406.6907 & 243.0324 & 0.8018052 & 78789 & 0.6841296 & 1121.786 & Kecimen\\\\\n",
       "\t 90856 & 442.2670 & 266.3283 & 0.7983536 & 93717 & 0.6376128 & 1208.575 & Kecimen\\\\\n",
       "\t ⋮ & ⋮ & ⋮ & ⋮ & ⋮ & ⋮ & ⋮ & ⋮\\\\\n",
       "\t 99657 & 431.7070 & 298.8373 & 0.7216841 & 106264 & 0.7410985 & 1292.828 & Besni\\\\\n",
       "\t 93523 & 476.3441 & 254.1761 & 0.8457385 &  97653 & 0.6587983 & 1258.548 & Besni\\\\\n",
       "\t 85609 & 512.0818 & 215.2720 & 0.9073454 &  89197 & 0.6320200 & 1272.862 & Besni\\\\\n",
       "\\end{tabular}\n"
      ],
      "text/markdown": [
       "\n",
       "A tibble: 900 × 8\n",
       "\n",
       "| Area &lt;dbl&gt; | Major_Axis_Length &lt;dbl&gt; | Minor_Axis_Length &lt;dbl&gt; | Eccentricity &lt;dbl&gt; | Convex_Area &lt;dbl&gt; | Extent &lt;dbl&gt; | Perimeter &lt;dbl&gt; | Class &lt;fct&gt; |\n",
       "|---|---|---|---|---|---|---|---|\n",
       "| 87524 | 442.2460 | 253.2912 | 0.8197384 | 90546 | 0.7586506 | 1184.040 | Kecimen |\n",
       "| 75166 | 406.6907 | 243.0324 | 0.8018052 | 78789 | 0.6841296 | 1121.786 | Kecimen |\n",
       "| 90856 | 442.2670 | 266.3283 | 0.7983536 | 93717 | 0.6376128 | 1208.575 | Kecimen |\n",
       "| ⋮ | ⋮ | ⋮ | ⋮ | ⋮ | ⋮ | ⋮ | ⋮ |\n",
       "| 99657 | 431.7070 | 298.8373 | 0.7216841 | 106264 | 0.7410985 | 1292.828 | Besni |\n",
       "| 93523 | 476.3441 | 254.1761 | 0.8457385 |  97653 | 0.6587983 | 1258.548 | Besni |\n",
       "| 85609 | 512.0818 | 215.2720 | 0.9073454 |  89197 | 0.6320200 | 1272.862 | Besni |\n",
       "\n"
      ],
      "text/plain": [
       "    Area  Major_Axis_Length Minor_Axis_Length Eccentricity Convex_Area\n",
       "1   87524 442.2460          253.2912          0.8197384    90546      \n",
       "2   75166 406.6907          243.0324          0.8018052    78789      \n",
       "3   90856 442.2670          266.3283          0.7983536    93717      \n",
       "⋮   ⋮     ⋮                 ⋮                 ⋮            ⋮          \n",
       "898 99657 431.7070          298.8373          0.7216841    106264     \n",
       "899 93523 476.3441          254.1761          0.8457385     97653     \n",
       "900 85609 512.0818          215.2720          0.9073454     89197     \n",
       "    Extent    Perimeter Class  \n",
       "1   0.7586506 1184.040  Kecimen\n",
       "2   0.6841296 1121.786  Kecimen\n",
       "3   0.6376128 1208.575  Kecimen\n",
       "⋮   ⋮         ⋮         ⋮      \n",
       "898 0.7410985 1292.828  Besni  \n",
       "899 0.6587983 1258.548  Besni  \n",
       "900 0.6320200 1272.862  Besni  "
      ]
     },
     "metadata": {},
     "output_type": "display_data"
    }
   ],
   "source": [
    "raisin_data <- raisin_data |>\n",
    "                mutate(Class = as_factor(Class))\n",
    "colnames(raisin_data) <- c(\"Area\", \"Major_Axis_Length\", \"Minor_Axis_Length\", \"Eccentricity\", \"Convex_Area\", \"Extent\", \"Perimeter\", \"Class\")\n",
    "raisin_data"
   ]
  },
  {
   "cell_type": "markdown",
   "id": "2433d2ad-5216-4077-bf26-cd263b0ec45b",
   "metadata": {},
   "source": [
    "Separate into training and testing sets."
   ]
  },
  {
   "cell_type": "code",
   "execution_count": 4,
   "id": "939f5a2c-26c6-4d65-93dd-99ee4a6e19c5",
   "metadata": {},
   "outputs": [
    {
     "data": {
      "text/html": [
       "<table class=\"dataframe\">\n",
       "<caption>A tibble: 674 × 8</caption>\n",
       "<thead>\n",
       "\t<tr><th scope=col>Area</th><th scope=col>Major_Axis_Length</th><th scope=col>Minor_Axis_Length</th><th scope=col>Eccentricity</th><th scope=col>Convex_Area</th><th scope=col>Extent</th><th scope=col>Perimeter</th><th scope=col>Class</th></tr>\n",
       "\t<tr><th scope=col>&lt;dbl&gt;</th><th scope=col>&lt;dbl&gt;</th><th scope=col>&lt;dbl&gt;</th><th scope=col>&lt;dbl&gt;</th><th scope=col>&lt;dbl&gt;</th><th scope=col>&lt;dbl&gt;</th><th scope=col>&lt;dbl&gt;</th><th scope=col>&lt;fct&gt;</th></tr>\n",
       "</thead>\n",
       "<tbody>\n",
       "\t<tr><td>137583</td><td>649.5415</td><td>273.2603</td><td>0.9072011</td><td>142650</td><td>0.7316377</td><td>1590.354</td><td>Besni</td></tr>\n",
       "\t<tr><td>117592</td><td>533.2929</td><td>288.5583</td><td>0.8409660</td><td>123587</td><td>0.7300677</td><td>1432.006</td><td>Besni</td></tr>\n",
       "\t<tr><td> 95546</td><td>487.1783</td><td>251.9602</td><td>0.8558749</td><td> 99166</td><td>0.7227820</td><td>1276.807</td><td>Besni</td></tr>\n",
       "\t<tr><td>⋮</td><td>⋮</td><td>⋮</td><td>⋮</td><td>⋮</td><td>⋮</td><td>⋮</td><td>⋮</td></tr>\n",
       "\t<tr><td>67874</td><td>360.0235</td><td>243.2720</td><td>0.7371662</td><td>69889</td><td>0.6783194</td><td>1035.277</td><td>Kecimen</td></tr>\n",
       "\t<tr><td>50312</td><td>354.2356</td><td>182.3121</td><td>0.8573923</td><td>52070</td><td>0.6233522</td><td> 961.439</td><td>Kecimen</td></tr>\n",
       "\t<tr><td>41995</td><td>259.2089</td><td>210.3508</td><td>0.5843375</td><td>43443</td><td>0.7297006</td><td> 801.526</td><td>Kecimen</td></tr>\n",
       "</tbody>\n",
       "</table>\n"
      ],
      "text/latex": [
       "A tibble: 674 × 8\n",
       "\\begin{tabular}{llllllll}\n",
       " Area & Major\\_Axis\\_Length & Minor\\_Axis\\_Length & Eccentricity & Convex\\_Area & Extent & Perimeter & Class\\\\\n",
       " <dbl> & <dbl> & <dbl> & <dbl> & <dbl> & <dbl> & <dbl> & <fct>\\\\\n",
       "\\hline\n",
       "\t 137583 & 649.5415 & 273.2603 & 0.9072011 & 142650 & 0.7316377 & 1590.354 & Besni\\\\\n",
       "\t 117592 & 533.2929 & 288.5583 & 0.8409660 & 123587 & 0.7300677 & 1432.006 & Besni\\\\\n",
       "\t  95546 & 487.1783 & 251.9602 & 0.8558749 &  99166 & 0.7227820 & 1276.807 & Besni\\\\\n",
       "\t ⋮ & ⋮ & ⋮ & ⋮ & ⋮ & ⋮ & ⋮ & ⋮\\\\\n",
       "\t 67874 & 360.0235 & 243.2720 & 0.7371662 & 69889 & 0.6783194 & 1035.277 & Kecimen\\\\\n",
       "\t 50312 & 354.2356 & 182.3121 & 0.8573923 & 52070 & 0.6233522 &  961.439 & Kecimen\\\\\n",
       "\t 41995 & 259.2089 & 210.3508 & 0.5843375 & 43443 & 0.7297006 &  801.526 & Kecimen\\\\\n",
       "\\end{tabular}\n"
      ],
      "text/markdown": [
       "\n",
       "A tibble: 674 × 8\n",
       "\n",
       "| Area &lt;dbl&gt; | Major_Axis_Length &lt;dbl&gt; | Minor_Axis_Length &lt;dbl&gt; | Eccentricity &lt;dbl&gt; | Convex_Area &lt;dbl&gt; | Extent &lt;dbl&gt; | Perimeter &lt;dbl&gt; | Class &lt;fct&gt; |\n",
       "|---|---|---|---|---|---|---|---|\n",
       "| 137583 | 649.5415 | 273.2603 | 0.9072011 | 142650 | 0.7316377 | 1590.354 | Besni |\n",
       "| 117592 | 533.2929 | 288.5583 | 0.8409660 | 123587 | 0.7300677 | 1432.006 | Besni |\n",
       "|  95546 | 487.1783 | 251.9602 | 0.8558749 |  99166 | 0.7227820 | 1276.807 | Besni |\n",
       "| ⋮ | ⋮ | ⋮ | ⋮ | ⋮ | ⋮ | ⋮ | ⋮ |\n",
       "| 67874 | 360.0235 | 243.2720 | 0.7371662 | 69889 | 0.6783194 | 1035.277 | Kecimen |\n",
       "| 50312 | 354.2356 | 182.3121 | 0.8573923 | 52070 | 0.6233522 |  961.439 | Kecimen |\n",
       "| 41995 | 259.2089 | 210.3508 | 0.5843375 | 43443 | 0.7297006 |  801.526 | Kecimen |\n",
       "\n"
      ],
      "text/plain": [
       "    Area   Major_Axis_Length Minor_Axis_Length Eccentricity Convex_Area\n",
       "1   137583 649.5415          273.2603          0.9072011    142650     \n",
       "2   117592 533.2929          288.5583          0.8409660    123587     \n",
       "3    95546 487.1783          251.9602          0.8558749     99166     \n",
       "⋮   ⋮      ⋮                 ⋮                 ⋮            ⋮          \n",
       "672 67874  360.0235          243.2720          0.7371662    69889      \n",
       "673 50312  354.2356          182.3121          0.8573923    52070      \n",
       "674 41995  259.2089          210.3508          0.5843375    43443      \n",
       "    Extent    Perimeter Class  \n",
       "1   0.7316377 1590.354  Besni  \n",
       "2   0.7300677 1432.006  Besni  \n",
       "3   0.7227820 1276.807  Besni  \n",
       "⋮   ⋮         ⋮         ⋮      \n",
       "672 0.6783194 1035.277  Kecimen\n",
       "673 0.6233522  961.439  Kecimen\n",
       "674 0.7297006  801.526  Kecimen"
      ]
     },
     "metadata": {},
     "output_type": "display_data"
    },
    {
     "data": {
      "text/html": [
       "<table class=\"dataframe\">\n",
       "<caption>A tibble: 226 × 8</caption>\n",
       "<thead>\n",
       "\t<tr><th scope=col>Area</th><th scope=col>Major_Axis_Length</th><th scope=col>Minor_Axis_Length</th><th scope=col>Eccentricity</th><th scope=col>Convex_Area</th><th scope=col>Extent</th><th scope=col>Perimeter</th><th scope=col>Class</th></tr>\n",
       "\t<tr><th scope=col>&lt;dbl&gt;</th><th scope=col>&lt;dbl&gt;</th><th scope=col>&lt;dbl&gt;</th><th scope=col>&lt;dbl&gt;</th><th scope=col>&lt;dbl&gt;</th><th scope=col>&lt;dbl&gt;</th><th scope=col>&lt;dbl&gt;</th><th scope=col>&lt;fct&gt;</th></tr>\n",
       "</thead>\n",
       "<tbody>\n",
       "\t<tr><td>87524</td><td>442.2460</td><td>253.2912</td><td>0.8197384</td><td>90546</td><td>0.7586506</td><td>1184.040</td><td>Kecimen</td></tr>\n",
       "\t<tr><td>75166</td><td>406.6907</td><td>243.0324</td><td>0.8018052</td><td>78789</td><td>0.6841296</td><td>1121.786</td><td>Kecimen</td></tr>\n",
       "\t<tr><td>79408</td><td>352.1908</td><td>290.8275</td><td>0.5640113</td><td>81463</td><td>0.7927719</td><td>1073.251</td><td>Kecimen</td></tr>\n",
       "\t<tr><td>⋮</td><td>⋮</td><td>⋮</td><td>⋮</td><td>⋮</td><td>⋮</td><td>⋮</td><td>⋮</td></tr>\n",
       "\t<tr><td>94282</td><td>494.1630</td><td>244.8039</td><td>0.8686701</td><td>97707</td><td>0.7023862</td><td>1269.680</td><td>Besni</td></tr>\n",
       "\t<tr><td>68799</td><td>356.5678</td><td>253.2547</td><td>0.7039427</td><td>71879</td><td>0.7009292</td><td>1041.270</td><td>Besni</td></tr>\n",
       "\t<tr><td>93523</td><td>476.3441</td><td>254.1761</td><td>0.8457385</td><td>97653</td><td>0.6587983</td><td>1258.548</td><td>Besni</td></tr>\n",
       "</tbody>\n",
       "</table>\n"
      ],
      "text/latex": [
       "A tibble: 226 × 8\n",
       "\\begin{tabular}{llllllll}\n",
       " Area & Major\\_Axis\\_Length & Minor\\_Axis\\_Length & Eccentricity & Convex\\_Area & Extent & Perimeter & Class\\\\\n",
       " <dbl> & <dbl> & <dbl> & <dbl> & <dbl> & <dbl> & <dbl> & <fct>\\\\\n",
       "\\hline\n",
       "\t 87524 & 442.2460 & 253.2912 & 0.8197384 & 90546 & 0.7586506 & 1184.040 & Kecimen\\\\\n",
       "\t 75166 & 406.6907 & 243.0324 & 0.8018052 & 78789 & 0.6841296 & 1121.786 & Kecimen\\\\\n",
       "\t 79408 & 352.1908 & 290.8275 & 0.5640113 & 81463 & 0.7927719 & 1073.251 & Kecimen\\\\\n",
       "\t ⋮ & ⋮ & ⋮ & ⋮ & ⋮ & ⋮ & ⋮ & ⋮\\\\\n",
       "\t 94282 & 494.1630 & 244.8039 & 0.8686701 & 97707 & 0.7023862 & 1269.680 & Besni\\\\\n",
       "\t 68799 & 356.5678 & 253.2547 & 0.7039427 & 71879 & 0.7009292 & 1041.270 & Besni\\\\\n",
       "\t 93523 & 476.3441 & 254.1761 & 0.8457385 & 97653 & 0.6587983 & 1258.548 & Besni\\\\\n",
       "\\end{tabular}\n"
      ],
      "text/markdown": [
       "\n",
       "A tibble: 226 × 8\n",
       "\n",
       "| Area &lt;dbl&gt; | Major_Axis_Length &lt;dbl&gt; | Minor_Axis_Length &lt;dbl&gt; | Eccentricity &lt;dbl&gt; | Convex_Area &lt;dbl&gt; | Extent &lt;dbl&gt; | Perimeter &lt;dbl&gt; | Class &lt;fct&gt; |\n",
       "|---|---|---|---|---|---|---|---|\n",
       "| 87524 | 442.2460 | 253.2912 | 0.8197384 | 90546 | 0.7586506 | 1184.040 | Kecimen |\n",
       "| 75166 | 406.6907 | 243.0324 | 0.8018052 | 78789 | 0.6841296 | 1121.786 | Kecimen |\n",
       "| 79408 | 352.1908 | 290.8275 | 0.5640113 | 81463 | 0.7927719 | 1073.251 | Kecimen |\n",
       "| ⋮ | ⋮ | ⋮ | ⋮ | ⋮ | ⋮ | ⋮ | ⋮ |\n",
       "| 94282 | 494.1630 | 244.8039 | 0.8686701 | 97707 | 0.7023862 | 1269.680 | Besni |\n",
       "| 68799 | 356.5678 | 253.2547 | 0.7039427 | 71879 | 0.7009292 | 1041.270 | Besni |\n",
       "| 93523 | 476.3441 | 254.1761 | 0.8457385 | 97653 | 0.6587983 | 1258.548 | Besni |\n",
       "\n"
      ],
      "text/plain": [
       "    Area  Major_Axis_Length Minor_Axis_Length Eccentricity Convex_Area\n",
       "1   87524 442.2460          253.2912          0.8197384    90546      \n",
       "2   75166 406.6907          243.0324          0.8018052    78789      \n",
       "3   79408 352.1908          290.8275          0.5640113    81463      \n",
       "⋮   ⋮     ⋮                 ⋮                 ⋮            ⋮          \n",
       "224 94282 494.1630          244.8039          0.8686701    97707      \n",
       "225 68799 356.5678          253.2547          0.7039427    71879      \n",
       "226 93523 476.3441          254.1761          0.8457385    97653      \n",
       "    Extent    Perimeter Class  \n",
       "1   0.7586506 1184.040  Kecimen\n",
       "2   0.6841296 1121.786  Kecimen\n",
       "3   0.7927719 1073.251  Kecimen\n",
       "⋮   ⋮         ⋮         ⋮      \n",
       "224 0.7023862 1269.680  Besni  \n",
       "225 0.7009292 1041.270  Besni  \n",
       "226 0.6587983 1258.548  Besni  "
      ]
     },
     "metadata": {},
     "output_type": "display_data"
    }
   ],
   "source": [
    "set.seed(5)\n",
    "\n",
    "raisin_split <- initial_split(raisin_data, prop = 0.75, strata = Class)\n",
    "raisin_train <- training(raisin_split)\n",
    "raisin_test <- testing(raisin_split)\n",
    "raisin_train\n",
    "raisin_test"
   ]
  },
  {
   "cell_type": "markdown",
   "id": "03bea574-bbaa-4367-a65d-18a8eb17ca76",
   "metadata": {},
   "source": [
    "Cross validation."
   ]
  },
  {
   "cell_type": "code",
   "execution_count": 17,
   "id": "bfcf6196-ba77-4b6e-b80e-9170d2ded3b1",
   "metadata": {},
   "outputs": [],
   "source": [
    "raisin_vfold <- vfold_cv(raisin_train, v = 10, strata = Class)"
   ]
  },
  {
   "cell_type": "markdown",
   "id": "2415e6d4-c468-45ea-82e0-cab4ad3adf17",
   "metadata": {},
   "source": [
    "Recipe with training set."
   ]
  },
  {
   "cell_type": "code",
   "execution_count": 6,
   "id": "fe5a8d7e-8722-4b45-b54e-f624ffbdb31a",
   "metadata": {},
   "outputs": [],
   "source": [
    "raisin_recipe <- recipe(Class ~ Area + Major_Axis_Length + Convex_Area + Perimeter, data = raisin_train) |>\n",
    "  step_scale(all_predictors()) |>\n",
    "  step_center(all_predictors())"
   ]
  },
  {
   "cell_type": "markdown",
   "id": "8a222f1d-2593-4537-b5d7-5817af30f8da",
   "metadata": {},
   "source": [
    "Model specification with k-nearest neighbors tuned."
   ]
  },
  {
   "cell_type": "code",
   "execution_count": 7,
   "id": "bce8c7c2-e969-42a5-b53e-75c89020bbfd",
   "metadata": {},
   "outputs": [],
   "source": [
    "knn_spec <- nearest_neighbor(weight_func = \"rectangular\",\n",
    "                            neighbors = tune()) |>\n",
    "                            set_engine(\"kknn\") |>\n",
    "                            set_mode(\"classification\")"
   ]
  },
  {
   "cell_type": "markdown",
   "id": "0e3dee68-9d76-4f2a-948e-b2f94f683b0d",
   "metadata": {},
   "source": [
    "Fit into workflow."
   ]
  },
  {
   "cell_type": "code",
   "execution_count": 8,
   "id": "ae115f01-f876-4a9f-9680-d4eaef4ae66f",
   "metadata": {},
   "outputs": [
    {
     "data": {
      "text/html": [
       "<table class=\"dataframe\">\n",
       "<caption>A tibble: 20 × 7</caption>\n",
       "<thead>\n",
       "\t<tr><th scope=col>neighbors</th><th scope=col>.metric</th><th scope=col>.estimator</th><th scope=col>mean</th><th scope=col>n</th><th scope=col>std_err</th><th scope=col>.config</th></tr>\n",
       "\t<tr><th scope=col>&lt;dbl&gt;</th><th scope=col>&lt;chr&gt;</th><th scope=col>&lt;chr&gt;</th><th scope=col>&lt;dbl&gt;</th><th scope=col>&lt;int&gt;</th><th scope=col>&lt;dbl&gt;</th><th scope=col>&lt;chr&gt;</th></tr>\n",
       "</thead>\n",
       "<tbody>\n",
       "\t<tr><td> 1</td><td>accuracy</td><td>binary</td><td>0.8042335</td><td>10</td><td>0.01606972</td><td>Preprocessor1_Model01</td></tr>\n",
       "\t<tr><td> 6</td><td>accuracy</td><td>binary</td><td>0.8605615</td><td>10</td><td>0.01806892</td><td>Preprocessor1_Model02</td></tr>\n",
       "\t<tr><td>11</td><td>accuracy</td><td>binary</td><td>0.8695187</td><td>10</td><td>0.01685016</td><td>Preprocessor1_Model03</td></tr>\n",
       "\t<tr><td>⋮</td><td>⋮</td><td>⋮</td><td>⋮</td><td>⋮</td><td>⋮</td><td>⋮</td></tr>\n",
       "\t<tr><td>86</td><td>accuracy</td><td>binary</td><td>0.8636809</td><td>10</td><td>0.01859279</td><td>Preprocessor1_Model18</td></tr>\n",
       "\t<tr><td>91</td><td>accuracy</td><td>binary</td><td>0.8637255</td><td>10</td><td>0.01791074</td><td>Preprocessor1_Model19</td></tr>\n",
       "\t<tr><td>96</td><td>accuracy</td><td>binary</td><td>0.8607398</td><td>10</td><td>0.01769202</td><td>Preprocessor1_Model20</td></tr>\n",
       "</tbody>\n",
       "</table>\n"
      ],
      "text/latex": [
       "A tibble: 20 × 7\n",
       "\\begin{tabular}{lllllll}\n",
       " neighbors & .metric & .estimator & mean & n & std\\_err & .config\\\\\n",
       " <dbl> & <chr> & <chr> & <dbl> & <int> & <dbl> & <chr>\\\\\n",
       "\\hline\n",
       "\t  1 & accuracy & binary & 0.8042335 & 10 & 0.01606972 & Preprocessor1\\_Model01\\\\\n",
       "\t  6 & accuracy & binary & 0.8605615 & 10 & 0.01806892 & Preprocessor1\\_Model02\\\\\n",
       "\t 11 & accuracy & binary & 0.8695187 & 10 & 0.01685016 & Preprocessor1\\_Model03\\\\\n",
       "\t ⋮ & ⋮ & ⋮ & ⋮ & ⋮ & ⋮ & ⋮\\\\\n",
       "\t 86 & accuracy & binary & 0.8636809 & 10 & 0.01859279 & Preprocessor1\\_Model18\\\\\n",
       "\t 91 & accuracy & binary & 0.8637255 & 10 & 0.01791074 & Preprocessor1\\_Model19\\\\\n",
       "\t 96 & accuracy & binary & 0.8607398 & 10 & 0.01769202 & Preprocessor1\\_Model20\\\\\n",
       "\\end{tabular}\n"
      ],
      "text/markdown": [
       "\n",
       "A tibble: 20 × 7\n",
       "\n",
       "| neighbors &lt;dbl&gt; | .metric &lt;chr&gt; | .estimator &lt;chr&gt; | mean &lt;dbl&gt; | n &lt;int&gt; | std_err &lt;dbl&gt; | .config &lt;chr&gt; |\n",
       "|---|---|---|---|---|---|---|\n",
       "|  1 | accuracy | binary | 0.8042335 | 10 | 0.01606972 | Preprocessor1_Model01 |\n",
       "|  6 | accuracy | binary | 0.8605615 | 10 | 0.01806892 | Preprocessor1_Model02 |\n",
       "| 11 | accuracy | binary | 0.8695187 | 10 | 0.01685016 | Preprocessor1_Model03 |\n",
       "| ⋮ | ⋮ | ⋮ | ⋮ | ⋮ | ⋮ | ⋮ |\n",
       "| 86 | accuracy | binary | 0.8636809 | 10 | 0.01859279 | Preprocessor1_Model18 |\n",
       "| 91 | accuracy | binary | 0.8637255 | 10 | 0.01791074 | Preprocessor1_Model19 |\n",
       "| 96 | accuracy | binary | 0.8607398 | 10 | 0.01769202 | Preprocessor1_Model20 |\n",
       "\n"
      ],
      "text/plain": [
       "   neighbors .metric  .estimator mean      n  std_err    .config              \n",
       "1   1        accuracy binary     0.8042335 10 0.01606972 Preprocessor1_Model01\n",
       "2   6        accuracy binary     0.8605615 10 0.01806892 Preprocessor1_Model02\n",
       "3  11        accuracy binary     0.8695187 10 0.01685016 Preprocessor1_Model03\n",
       "⋮  ⋮         ⋮        ⋮          ⋮         ⋮  ⋮          ⋮                    \n",
       "18 86        accuracy binary     0.8636809 10 0.01859279 Preprocessor1_Model18\n",
       "19 91        accuracy binary     0.8637255 10 0.01791074 Preprocessor1_Model19\n",
       "20 96        accuracy binary     0.8607398 10 0.01769202 Preprocessor1_Model20"
      ]
     },
     "metadata": {},
     "output_type": "display_data"
    }
   ],
   "source": [
    "k_vals <- tibble(neighbors = seq(from = 1, to = 100, by = 5))\n",
    "\n",
    "knn_workflow <- workflow() |>\n",
    "  add_recipe(raisin_recipe) |>\n",
    "  add_model(knn_spec) |>\n",
    "  tune_grid(resamples = raisin_vfold, grid = k_vals) |>\n",
    "  collect_metrics()\n",
    "\n",
    "accuracy <- knn_workflow |>\n",
    "  filter(.metric == \"accuracy\")\n",
    "\n",
    "accuracy"
   ]
  },
  {
   "cell_type": "markdown",
   "id": "203c7458-9bcb-4c26-8933-7daa8396b31a",
   "metadata": {},
   "source": [
    "Plotting accuracy to find best k value."
   ]
  },
  {
   "cell_type": "code",
   "execution_count": 9,
   "id": "c5554e6d-1df3-4280-99a6-35b11f26bf1c",
   "metadata": {},
   "outputs": [
    {
     "data": {
      "application/pdf": "[encoded data removed]",
      "image/jpeg": "[encoded data removed]",
      "image/png": "[encoded data removed]",
      "image/svg+xml": [
       "<?xml version=\"1.0\" encoding=\"UTF-8\"?>\n",
       "<svg xmlns=\"http://www.w3.org/2000/svg\" xmlns:xlink=\"http://www.w3.org/1999/xlink\" width=\"504pt\" height=\"504pt\" viewBox=\"0 0 504 504\" version=\"1.1\">\n",
       "<defs>\n",
       "<g>\n",
       "<symbol overflow=\"visible\" id=\"glyph0-0\">\n",
       "<path style=\"stroke:none;\" d=\"M 0.3125 0 L 0.3125 -6.390625 L 2.859375 -6.390625 L 2.859375 0 Z M 0.640625 -0.3125 L 2.546875 -0.3125 L 2.546875 -6.078125 L 0.640625 -6.078125 Z M 0.640625 -0.3125 \"/>\n",
       "</symbol>\n",
       "<symbol overflow=\"visible\" id=\"glyph0-1\">\n",
       "<path style=\"stroke:none;\" d=\"M 4.953125 -3.296875 C 4.953125 -2.671875 4.890625 -2.140625 4.765625 -1.703125 C 4.648438 -1.265625 4.488281 -0.910156 4.28125 -0.640625 C 4.082031 -0.378906 3.84375 -0.191406 3.5625 -0.078125 C 3.28125 0.0351562 2.976562 0.09375 2.65625 0.09375 C 2.332031 0.09375 2.03125 0.0351562 1.75 -0.078125 C 1.476562 -0.191406 1.238281 -0.378906 1.03125 -0.640625 C 0.820312 -0.910156 0.660156 -1.257812 0.546875 -1.6875 C 0.429688 -2.125 0.375 -2.660156 0.375 -3.296875 C 0.375 -3.960938 0.429688 -4.515625 0.546875 -4.953125 C 0.660156 -5.390625 0.820312 -5.738281 1.03125 -6 C 1.238281 -6.257812 1.484375 -6.441406 1.765625 -6.546875 C 2.046875 -6.648438 2.351562 -6.703125 2.6875 -6.703125 C 3 -6.703125 3.289062 -6.648438 3.5625 -6.546875 C 3.84375 -6.441406 4.085938 -6.257812 4.296875 -6 C 4.503906 -5.738281 4.664062 -5.390625 4.78125 -4.953125 C 4.894531 -4.515625 4.953125 -3.960938 4.953125 -3.296875 Z M 4.109375 -3.296875 C 4.109375 -3.828125 4.078125 -4.265625 4.015625 -4.609375 C 3.953125 -4.960938 3.859375 -5.238281 3.734375 -5.4375 C 3.609375 -5.644531 3.457031 -5.789062 3.28125 -5.875 C 3.101562 -5.96875 2.90625 -6.015625 2.6875 -6.015625 C 2.445312 -6.015625 2.234375 -5.96875 2.046875 -5.875 C 1.867188 -5.789062 1.71875 -5.644531 1.59375 -5.4375 C 1.476562 -5.226562 1.390625 -4.945312 1.328125 -4.59375 C 1.265625 -4.25 1.234375 -3.816406 1.234375 -3.296875 C 1.234375 -2.796875 1.265625 -2.367188 1.328125 -2.015625 C 1.390625 -1.671875 1.484375 -1.394531 1.609375 -1.1875 C 1.734375 -0.976562 1.882812 -0.828125 2.0625 -0.734375 C 2.238281 -0.640625 2.441406 -0.59375 2.671875 -0.59375 C 2.890625 -0.59375 3.085938 -0.640625 3.265625 -0.734375 C 3.441406 -0.828125 3.59375 -0.976562 3.71875 -1.1875 C 3.84375 -1.394531 3.9375 -1.671875 4 -2.015625 C 4.070312 -2.367188 4.109375 -2.796875 4.109375 -3.296875 Z M 4.109375 -3.296875 \"/>\n",
       "</symbol>\n",
       "<symbol overflow=\"visible\" id=\"glyph0-2\">\n",
       "<path style=\"stroke:none;\" d=\"M 0.875 0 L 0.875 -1.03125 L 1.796875 -1.03125 L 1.796875 0 Z M 0.875 0 \"/>\n",
       "</symbol>\n",
       "<symbol overflow=\"visible\" id=\"glyph0-3\">\n",
       "<path style=\"stroke:none;\" d=\"M 4.921875 -1.84375 C 4.921875 -1.5625 4.875 -1.300781 4.78125 -1.0625 C 4.695312 -0.832031 4.5625 -0.628906 4.375 -0.453125 C 4.195312 -0.285156 3.960938 -0.148438 3.671875 -0.046875 C 3.390625 0.046875 3.054688 0.09375 2.671875 0.09375 C 2.285156 0.09375 1.945312 0.046875 1.65625 -0.046875 C 1.375 -0.148438 1.140625 -0.285156 0.953125 -0.453125 C 0.773438 -0.617188 0.640625 -0.820312 0.546875 -1.0625 C 0.460938 -1.300781 0.421875 -1.554688 0.421875 -1.828125 C 0.421875 -2.066406 0.457031 -2.28125 0.53125 -2.46875 C 0.601562 -2.65625 0.695312 -2.816406 0.8125 -2.953125 C 0.9375 -3.085938 1.078125 -3.195312 1.234375 -3.28125 C 1.398438 -3.363281 1.566406 -3.421875 1.734375 -3.453125 L 1.734375 -3.46875 C 1.546875 -3.507812 1.378906 -3.578125 1.234375 -3.671875 C 1.085938 -3.773438 0.960938 -3.894531 0.859375 -4.03125 C 0.765625 -4.164062 0.691406 -4.316406 0.640625 -4.484375 C 0.597656 -4.648438 0.578125 -4.820312 0.578125 -5 C 0.578125 -5.238281 0.617188 -5.457031 0.703125 -5.65625 C 0.796875 -5.863281 0.925781 -6.046875 1.09375 -6.203125 C 1.269531 -6.359375 1.488281 -6.476562 1.75 -6.5625 C 2.007812 -6.65625 2.3125 -6.703125 2.65625 -6.703125 C 3.007812 -6.703125 3.316406 -6.65625 3.578125 -6.5625 C 3.847656 -6.46875 4.066406 -6.34375 4.234375 -6.1875 C 4.410156 -6.039062 4.539062 -5.863281 4.625 -5.65625 C 4.707031 -5.445312 4.75 -5.226562 4.75 -5 C 4.75 -4.820312 4.722656 -4.648438 4.671875 -4.484375 C 4.617188 -4.316406 4.546875 -4.164062 4.453125 -4.03125 C 4.359375 -3.894531 4.238281 -3.773438 4.09375 -3.671875 C 3.945312 -3.578125 3.773438 -3.515625 3.578125 -3.484375 L 3.578125 -3.46875 C 3.773438 -3.4375 3.953125 -3.378906 4.109375 -3.296875 C 4.273438 -3.210938 4.414062 -3.101562 4.53125 -2.96875 C 4.65625 -2.832031 4.75 -2.671875 4.8125 -2.484375 C 4.882812 -2.296875 4.921875 -2.082031 4.921875 -1.84375 Z M 3.875 -4.953125 C 3.875 -5.117188 3.851562 -5.269531 3.8125 -5.40625 C 3.769531 -5.539062 3.703125 -5.65625 3.609375 -5.75 C 3.515625 -5.851562 3.390625 -5.929688 3.234375 -5.984375 C 3.078125 -6.046875 2.882812 -6.078125 2.65625 -6.078125 C 2.425781 -6.078125 2.234375 -6.046875 2.078125 -5.984375 C 1.929688 -5.929688 1.804688 -5.851562 1.703125 -5.75 C 1.609375 -5.65625 1.539062 -5.539062 1.5 -5.40625 C 1.457031 -5.269531 1.4375 -5.117188 1.4375 -4.953125 C 1.4375 -4.816406 1.453125 -4.679688 1.484375 -4.546875 C 1.515625 -4.410156 1.578125 -4.285156 1.671875 -4.171875 C 1.765625 -4.054688 1.890625 -3.960938 2.046875 -3.890625 C 2.203125 -3.828125 2.40625 -3.796875 2.65625 -3.796875 C 2.925781 -3.796875 3.140625 -3.828125 3.296875 -3.890625 C 3.460938 -3.960938 3.585938 -4.054688 3.671875 -4.171875 C 3.753906 -4.285156 3.804688 -4.410156 3.828125 -4.546875 C 3.859375 -4.679688 3.875 -4.816406 3.875 -4.953125 Z M 4.046875 -1.921875 C 4.046875 -2.078125 4.019531 -2.226562 3.96875 -2.375 C 3.925781 -2.53125 3.851562 -2.664062 3.75 -2.78125 C 3.644531 -2.894531 3.5 -2.984375 3.3125 -3.046875 C 3.132812 -3.117188 2.914062 -3.15625 2.65625 -3.15625 C 2.40625 -3.15625 2.191406 -3.117188 2.015625 -3.046875 C 1.847656 -2.984375 1.707031 -2.890625 1.59375 -2.765625 C 1.488281 -2.648438 1.410156 -2.515625 1.359375 -2.359375 C 1.304688 -2.210938 1.28125 -2.0625 1.28125 -1.90625 C 1.28125 -1.695312 1.304688 -1.507812 1.359375 -1.34375 C 1.410156 -1.175781 1.488281 -1.03125 1.59375 -0.90625 C 1.707031 -0.789062 1.851562 -0.695312 2.03125 -0.625 C 2.207031 -0.5625 2.421875 -0.53125 2.671875 -0.53125 C 2.929688 -0.53125 3.148438 -0.5625 3.328125 -0.625 C 3.503906 -0.695312 3.644531 -0.789062 3.75 -0.90625 C 3.851562 -1.03125 3.925781 -1.175781 3.96875 -1.34375 C 4.019531 -1.519531 4.046875 -1.710938 4.046875 -1.921875 Z M 4.046875 -1.921875 \"/>\n",
       "</symbol>\n",
       "<symbol overflow=\"visible\" id=\"glyph0-4\">\n",
       "<path style=\"stroke:none;\" d=\"M 0.484375 0 L 0.484375 -0.59375 C 0.640625 -0.957031 0.832031 -1.28125 1.0625 -1.5625 C 1.289062 -1.84375 1.53125 -2.09375 1.78125 -2.3125 C 2.039062 -2.539062 2.289062 -2.75 2.53125 -2.9375 C 2.78125 -3.132812 3.003906 -3.332031 3.203125 -3.53125 C 3.410156 -3.726562 3.578125 -3.929688 3.703125 -4.140625 C 3.828125 -4.347656 3.890625 -4.585938 3.890625 -4.859375 C 3.890625 -5.046875 3.859375 -5.207031 3.796875 -5.34375 C 3.742188 -5.488281 3.660156 -5.609375 3.546875 -5.703125 C 3.441406 -5.804688 3.316406 -5.878906 3.171875 -5.921875 C 3.023438 -5.972656 2.859375 -6 2.671875 -6 C 2.503906 -6 2.347656 -5.972656 2.203125 -5.921875 C 2.054688 -5.878906 1.925781 -5.8125 1.8125 -5.71875 C 1.695312 -5.625 1.601562 -5.507812 1.53125 -5.375 C 1.457031 -5.238281 1.40625 -5.078125 1.375 -4.890625 L 0.515625 -4.96875 C 0.546875 -5.207031 0.613281 -5.429688 0.71875 -5.640625 C 0.820312 -5.847656 0.960938 -6.03125 1.140625 -6.1875 C 1.328125 -6.34375 1.546875 -6.46875 1.796875 -6.5625 C 2.046875 -6.65625 2.335938 -6.703125 2.671875 -6.703125 C 3.003906 -6.703125 3.296875 -6.660156 3.546875 -6.578125 C 3.804688 -6.503906 4.023438 -6.390625 4.203125 -6.234375 C 4.378906 -6.078125 4.515625 -5.882812 4.609375 -5.65625 C 4.703125 -5.4375 4.75 -5.179688 4.75 -4.890625 C 4.75 -4.671875 4.707031 -4.457031 4.625 -4.25 C 4.550781 -4.050781 4.445312 -3.863281 4.3125 -3.6875 C 4.175781 -3.507812 4.019531 -3.332031 3.84375 -3.15625 C 3.675781 -2.988281 3.492188 -2.820312 3.296875 -2.65625 C 3.109375 -2.5 2.914062 -2.34375 2.71875 -2.1875 C 2.53125 -2.03125 2.347656 -1.867188 2.171875 -1.703125 C 2.003906 -1.546875 1.851562 -1.382812 1.71875 -1.21875 C 1.582031 -1.0625 1.476562 -0.894531 1.40625 -0.71875 L 4.859375 -0.71875 L 4.859375 0 Z M 0.484375 0 \"/>\n",
       "</symbol>\n",
       "<symbol overflow=\"visible\" id=\"glyph0-5\">\n",
       "<path style=\"stroke:none;\" d=\"M 4.125 -1.5 L 4.125 0 L 3.328125 0 L 3.328125 -1.5 L 0.21875 -1.5 L 0.21875 -2.15625 L 3.234375 -6.59375 L 4.125 -6.59375 L 4.125 -2.15625 L 5.046875 -2.15625 L 5.046875 -1.5 Z M 3.328125 -5.65625 C 3.328125 -5.632812 3.3125 -5.597656 3.28125 -5.546875 C 3.257812 -5.503906 3.234375 -5.457031 3.203125 -5.40625 C 3.171875 -5.351562 3.132812 -5.296875 3.09375 -5.234375 C 3.0625 -5.171875 3.035156 -5.125 3.015625 -5.09375 L 1.328125 -2.59375 C 1.304688 -2.570312 1.28125 -2.539062 1.25 -2.5 C 1.226562 -2.457031 1.203125 -2.414062 1.171875 -2.375 C 1.140625 -2.332031 1.109375 -2.289062 1.078125 -2.25 C 1.046875 -2.207031 1.019531 -2.175781 1 -2.15625 L 3.328125 -2.15625 Z M 3.328125 -5.65625 \"/>\n",
       "</symbol>\n",
       "<symbol overflow=\"visible\" id=\"glyph0-6\">\n",
       "<path style=\"stroke:none;\" d=\"M 4.90625 -2.15625 C 4.90625 -1.820312 4.859375 -1.515625 4.765625 -1.234375 C 4.679688 -0.960938 4.546875 -0.726562 4.359375 -0.53125 C 4.179688 -0.332031 3.957031 -0.175781 3.6875 -0.0625 C 3.425781 0.0390625 3.125 0.09375 2.78125 0.09375 C 2.394531 0.09375 2.054688 0.0195312 1.765625 -0.125 C 1.484375 -0.269531 1.242188 -0.476562 1.046875 -0.75 C 0.859375 -1.03125 0.71875 -1.367188 0.625 -1.765625 C 0.53125 -2.171875 0.484375 -2.628906 0.484375 -3.140625 C 0.484375 -3.734375 0.535156 -4.25 0.640625 -4.6875 C 0.753906 -5.132812 0.910156 -5.503906 1.109375 -5.796875 C 1.316406 -6.097656 1.566406 -6.320312 1.859375 -6.46875 C 2.148438 -6.625 2.476562 -6.703125 2.84375 -6.703125 C 3.070312 -6.703125 3.285156 -6.675781 3.484375 -6.625 C 3.679688 -6.582031 3.859375 -6.507812 4.015625 -6.40625 C 4.179688 -6.300781 4.320312 -6.160156 4.4375 -5.984375 C 4.5625 -5.816406 4.660156 -5.609375 4.734375 -5.359375 L 3.921875 -5.203125 C 3.835938 -5.492188 3.695312 -5.703125 3.5 -5.828125 C 3.3125 -5.953125 3.09375 -6.015625 2.84375 -6.015625 C 2.601562 -6.015625 2.390625 -5.957031 2.203125 -5.84375 C 2.023438 -5.738281 1.867188 -5.578125 1.734375 -5.359375 C 1.597656 -5.140625 1.492188 -4.863281 1.421875 -4.53125 C 1.359375 -4.207031 1.328125 -3.828125 1.328125 -3.390625 C 1.484375 -3.679688 1.695312 -3.898438 1.96875 -4.046875 C 2.25 -4.191406 2.566406 -4.265625 2.921875 -4.265625 C 3.222656 -4.265625 3.492188 -4.21875 3.734375 -4.125 C 3.984375 -4.03125 4.191406 -3.890625 4.359375 -3.703125 C 4.535156 -3.515625 4.671875 -3.289062 4.765625 -3.03125 C 4.859375 -2.769531 4.90625 -2.476562 4.90625 -2.15625 Z M 4.0625 -2.125 C 4.0625 -2.351562 4.03125 -2.554688 3.96875 -2.734375 C 3.914062 -2.921875 3.832031 -3.078125 3.71875 -3.203125 C 3.601562 -3.335938 3.460938 -3.4375 3.296875 -3.5 C 3.128906 -3.570312 2.9375 -3.609375 2.71875 -3.609375 C 2.570312 -3.609375 2.421875 -3.585938 2.265625 -3.546875 C 2.109375 -3.503906 1.96875 -3.429688 1.84375 -3.328125 C 1.71875 -3.222656 1.613281 -3.085938 1.53125 -2.921875 C 1.445312 -2.753906 1.40625 -2.554688 1.40625 -2.328125 C 1.40625 -2.078125 1.4375 -1.847656 1.5 -1.640625 C 1.5625 -1.429688 1.648438 -1.25 1.765625 -1.09375 C 1.890625 -0.9375 2.03125 -0.8125 2.1875 -0.71875 C 2.351562 -0.625 2.539062 -0.578125 2.75 -0.578125 C 2.957031 -0.578125 3.140625 -0.613281 3.296875 -0.6875 C 3.460938 -0.757812 3.597656 -0.859375 3.703125 -0.984375 C 3.816406 -1.117188 3.90625 -1.28125 3.96875 -1.46875 C 4.03125 -1.664062 4.0625 -1.882812 4.0625 -2.125 Z M 4.0625 -2.125 \"/>\n",
       "</symbol>\n",
       "<symbol overflow=\"visible\" id=\"glyph0-7\">\n",
       "<path style=\"stroke:none;\" d=\"M 4.9375 -2.15625 C 4.9375 -1.820312 4.882812 -1.515625 4.78125 -1.234375 C 4.6875 -0.960938 4.539062 -0.726562 4.34375 -0.53125 C 4.144531 -0.332031 3.898438 -0.175781 3.609375 -0.0625 C 3.316406 0.0390625 2.976562 0.09375 2.59375 0.09375 C 2.25 0.09375 1.945312 0.0507812 1.6875 -0.03125 C 1.425781 -0.113281 1.207031 -0.222656 1.03125 -0.359375 C 0.851562 -0.503906 0.710938 -0.671875 0.609375 -0.859375 C 0.503906 -1.046875 0.429688 -1.25 0.390625 -1.46875 L 1.234375 -1.578125 C 1.265625 -1.453125 1.3125 -1.328125 1.375 -1.203125 C 1.4375 -1.085938 1.519531 -0.984375 1.625 -0.890625 C 1.738281 -0.804688 1.875 -0.734375 2.03125 -0.671875 C 2.1875 -0.617188 2.378906 -0.59375 2.609375 -0.59375 C 2.828125 -0.59375 3.023438 -0.625 3.203125 -0.6875 C 3.378906 -0.757812 3.53125 -0.859375 3.65625 -0.984375 C 3.78125 -1.117188 3.878906 -1.28125 3.953125 -1.46875 C 4.023438 -1.664062 4.0625 -1.882812 4.0625 -2.125 C 4.0625 -2.332031 4.023438 -2.519531 3.953125 -2.6875 C 3.890625 -2.863281 3.796875 -3.007812 3.671875 -3.125 C 3.554688 -3.25 3.410156 -3.34375 3.234375 -3.40625 C 3.054688 -3.476562 2.851562 -3.515625 2.625 -3.515625 C 2.488281 -3.515625 2.359375 -3.503906 2.234375 -3.484375 C 2.117188 -3.460938 2.007812 -3.425781 1.90625 -3.375 C 1.800781 -3.332031 1.707031 -3.28125 1.625 -3.21875 C 1.550781 -3.164062 1.476562 -3.109375 1.40625 -3.046875 L 0.578125 -3.046875 L 0.796875 -6.59375 L 4.546875 -6.59375 L 4.546875 -5.890625 L 1.5625 -5.890625 L 1.4375 -3.796875 C 1.582031 -3.910156 1.769531 -4.007812 2 -4.09375 C 2.226562 -4.175781 2.492188 -4.21875 2.796875 -4.21875 C 3.128906 -4.21875 3.425781 -4.164062 3.6875 -4.0625 C 3.945312 -3.957031 4.171875 -3.8125 4.359375 -3.625 C 4.546875 -3.445312 4.6875 -3.234375 4.78125 -2.984375 C 4.882812 -2.734375 4.9375 -2.457031 4.9375 -2.15625 Z M 4.9375 -2.15625 \"/>\n",
       "</symbol>\n",
       "<symbol overflow=\"visible\" id=\"glyph0-8\">\n",
       "<path style=\"stroke:none;\" d=\"M 4.859375 -5.921875 C 4.523438 -5.410156 4.21875 -4.921875 3.9375 -4.453125 C 3.65625 -3.984375 3.414062 -3.515625 3.21875 -3.046875 C 3.019531 -2.578125 2.863281 -2.09375 2.75 -1.59375 C 2.644531 -1.09375 2.59375 -0.5625 2.59375 0 L 1.703125 0 C 1.703125 -0.53125 1.765625 -1.046875 1.890625 -1.546875 C 2.015625 -2.054688 2.179688 -2.554688 2.390625 -3.046875 C 2.609375 -3.535156 2.859375 -4.015625 3.140625 -4.484375 C 3.421875 -4.953125 3.71875 -5.421875 4.03125 -5.890625 L 0.484375 -5.890625 L 0.484375 -6.59375 L 4.859375 -6.59375 Z M 4.859375 -5.921875 \"/>\n",
       "</symbol>\n",
       "<symbol overflow=\"visible\" id=\"glyph0-9\">\n",
       "<path style=\"stroke:none;\" d=\"M 0.734375 0 L 0.734375 -0.71875 L 2.40625 -0.71875 L 2.40625 -5.796875 L 0.921875 -4.734375 L 0.921875 -5.53125 L 2.484375 -6.59375 L 3.265625 -6.59375 L 3.265625 -0.71875 L 4.859375 -0.71875 L 4.859375 0 Z M 0.734375 0 \"/>\n",
       "</symbol>\n",
       "<symbol overflow=\"visible\" id=\"glyph1-0\">\n",
       "<path style=\"stroke:none;\" d=\"M 0.40625 0 L 0.40625 -8 L 3.59375 -8 L 3.59375 0 Z M 0.796875 -0.40625 L 3.1875 -0.40625 L 3.1875 -7.59375 L 0.796875 -7.59375 Z M 0.796875 -0.40625 \"/>\n",
       "</symbol>\n",
       "<symbol overflow=\"visible\" id=\"glyph1-1\">\n",
       "<path style=\"stroke:none;\" d=\"M 6.34375 0 L 1.921875 -7.03125 C 1.929688 -6.84375 1.941406 -6.65625 1.953125 -6.46875 C 1.960938 -6.300781 1.96875 -6.128906 1.96875 -5.953125 C 1.976562 -5.773438 1.984375 -5.617188 1.984375 -5.484375 L 1.984375 0 L 0.984375 0 L 0.984375 -8.25 L 2.28125 -8.25 L 6.75 -1.171875 C 6.738281 -1.367188 6.726562 -1.5625 6.71875 -1.75 C 6.707031 -1.914062 6.695312 -2.09375 6.6875 -2.28125 C 6.6875 -2.476562 6.6875 -2.664062 6.6875 -2.84375 L 6.6875 -8.25 L 7.6875 -8.25 L 7.6875 0 Z M 6.34375 0 \"/>\n",
       "</symbol>\n",
       "<symbol overflow=\"visible\" id=\"glyph1-2\">\n",
       "<path style=\"stroke:none;\" d=\"M 1.625 -2.953125 C 1.625 -2.617188 1.65625 -2.3125 1.71875 -2.03125 C 1.789062 -1.75 1.894531 -1.507812 2.03125 -1.3125 C 2.175781 -1.113281 2.359375 -0.957031 2.578125 -0.84375 C 2.804688 -0.726562 3.078125 -0.671875 3.390625 -0.671875 C 3.847656 -0.671875 4.210938 -0.757812 4.484375 -0.9375 C 4.765625 -1.125 4.953125 -1.359375 5.046875 -1.640625 L 5.96875 -1.390625 C 5.90625 -1.210938 5.8125 -1.035156 5.6875 -0.859375 C 5.570312 -0.679688 5.414062 -0.519531 5.21875 -0.375 C 5.019531 -0.226562 4.769531 -0.109375 4.46875 -0.015625 C 4.164062 0.078125 3.804688 0.125 3.390625 0.125 C 2.453125 0.125 1.738281 -0.15625 1.25 -0.71875 C 0.757812 -1.28125 0.515625 -2.113281 0.515625 -3.21875 C 0.515625 -3.8125 0.585938 -4.3125 0.734375 -4.71875 C 0.878906 -5.132812 1.082031 -5.46875 1.34375 -5.71875 C 1.601562 -5.976562 1.90625 -6.164062 2.25 -6.28125 C 2.59375 -6.394531 2.957031 -6.453125 3.34375 -6.453125 C 3.875 -6.453125 4.316406 -6.363281 4.671875 -6.1875 C 5.035156 -6.019531 5.320312 -5.785156 5.53125 -5.484375 C 5.75 -5.179688 5.90625 -4.820312 6 -4.40625 C 6.09375 -4 6.140625 -3.5625 6.140625 -3.09375 L 6.140625 -2.953125 Z M 5.046875 -3.75 C 4.992188 -4.425781 4.828125 -4.914062 4.546875 -5.21875 C 4.265625 -5.519531 3.859375 -5.671875 3.328125 -5.671875 C 3.148438 -5.671875 2.960938 -5.644531 2.765625 -5.59375 C 2.578125 -5.539062 2.398438 -5.441406 2.234375 -5.296875 C 2.078125 -5.148438 1.941406 -4.953125 1.828125 -4.703125 C 1.710938 -4.453125 1.644531 -4.132812 1.625 -3.75 Z M 5.046875 -3.75 \"/>\n",
       "</symbol>\n",
       "<symbol overflow=\"visible\" id=\"glyph1-3\">\n",
       "<path style=\"stroke:none;\" d=\"M 0.796875 -7.6875 L 0.796875 -8.703125 L 1.859375 -8.703125 L 1.859375 -7.6875 Z M 0.796875 0 L 0.796875 -6.34375 L 1.859375 -6.34375 L 1.859375 0 Z M 0.796875 0 \"/>\n",
       "</symbol>\n",
       "<symbol overflow=\"visible\" id=\"glyph1-4\">\n",
       "<path style=\"stroke:none;\" d=\"M 3.21875 2.484375 C 2.851562 2.484375 2.53125 2.445312 2.25 2.375 C 1.96875 2.300781 1.722656 2.195312 1.515625 2.0625 C 1.316406 1.925781 1.15625 1.757812 1.03125 1.5625 C 0.90625 1.375 0.816406 1.160156 0.765625 0.921875 L 1.828125 0.78125 C 1.898438 1.070312 2.054688 1.296875 2.296875 1.453125 C 2.535156 1.609375 2.847656 1.6875 3.234375 1.6875 C 3.472656 1.6875 3.691406 1.648438 3.890625 1.578125 C 4.085938 1.515625 4.253906 1.410156 4.390625 1.265625 C 4.523438 1.117188 4.628906 0.925781 4.703125 0.6875 C 4.773438 0.457031 4.8125 0.175781 4.8125 -0.15625 L 4.8125 -1.171875 C 4.726562 -1.015625 4.628906 -0.863281 4.515625 -0.71875 C 4.398438 -0.570312 4.257812 -0.441406 4.09375 -0.328125 C 3.925781 -0.210938 3.734375 -0.117188 3.515625 -0.046875 C 3.296875 0.015625 3.046875 0.046875 2.765625 0.046875 C 2.359375 0.046875 2.007812 -0.0195312 1.71875 -0.15625 C 1.4375 -0.289062 1.203125 -0.492188 1.015625 -0.765625 C 0.835938 -1.035156 0.707031 -1.367188 0.625 -1.765625 C 0.539062 -2.171875 0.5 -2.632812 0.5 -3.15625 C 0.5 -3.664062 0.539062 -4.125 0.625 -4.53125 C 0.707031 -4.9375 0.84375 -5.28125 1.03125 -5.5625 C 1.226562 -5.84375 1.476562 -6.054688 1.78125 -6.203125 C 2.082031 -6.359375 2.453125 -6.4375 2.890625 -6.4375 C 3.335938 -6.4375 3.722656 -6.332031 4.046875 -6.125 C 4.378906 -5.925781 4.632812 -5.632812 4.8125 -5.25 L 4.828125 -5.25 C 4.828125 -5.351562 4.828125 -5.460938 4.828125 -5.578125 C 4.835938 -5.703125 4.84375 -5.816406 4.84375 -5.921875 C 4.851562 -6.035156 4.863281 -6.128906 4.875 -6.203125 C 4.882812 -6.285156 4.894531 -6.332031 4.90625 -6.34375 L 5.90625 -6.34375 C 5.894531 -6.300781 5.890625 -6.238281 5.890625 -6.15625 C 5.890625 -6.070312 5.882812 -5.972656 5.875 -5.859375 C 5.875 -5.742188 5.867188 -5.613281 5.859375 -5.46875 C 5.859375 -5.320312 5.859375 -5.175781 5.859375 -5.03125 L 5.859375 -0.1875 C 5.859375 0.707031 5.640625 1.375 5.203125 1.8125 C 4.773438 2.257812 4.113281 2.484375 3.21875 2.484375 Z M 4.8125 -3.171875 C 4.8125 -3.609375 4.765625 -3.984375 4.671875 -4.296875 C 4.578125 -4.617188 4.453125 -4.878906 4.296875 -5.078125 C 4.140625 -5.273438 3.957031 -5.421875 3.75 -5.515625 C 3.550781 -5.609375 3.347656 -5.65625 3.140625 -5.65625 C 2.867188 -5.65625 2.632812 -5.609375 2.4375 -5.515625 C 2.25 -5.421875 2.09375 -5.269531 1.96875 -5.0625 C 1.84375 -4.863281 1.75 -4.609375 1.6875 -4.296875 C 1.625 -3.984375 1.59375 -3.609375 1.59375 -3.171875 C 1.59375 -2.710938 1.625 -2.328125 1.6875 -2.015625 C 1.75 -1.703125 1.84375 -1.453125 1.96875 -1.265625 C 2.09375 -1.078125 2.25 -0.941406 2.4375 -0.859375 C 2.625 -0.773438 2.851562 -0.734375 3.125 -0.734375 C 3.332031 -0.734375 3.535156 -0.773438 3.734375 -0.859375 C 3.941406 -0.953125 4.125 -1.097656 4.28125 -1.296875 C 4.445312 -1.492188 4.578125 -1.742188 4.671875 -2.046875 C 4.765625 -2.359375 4.8125 -2.734375 4.8125 -3.171875 Z M 4.8125 -3.171875 \"/>\n",
       "</symbol>\n",
       "<symbol overflow=\"visible\" id=\"glyph1-5\">\n",
       "<path style=\"stroke:none;\" d=\"M 1.859375 -5.25 C 1.972656 -5.46875 2.097656 -5.648438 2.234375 -5.796875 C 2.367188 -5.953125 2.519531 -6.078125 2.6875 -6.171875 C 2.851562 -6.273438 3.03125 -6.347656 3.21875 -6.390625 C 3.414062 -6.429688 3.640625 -6.453125 3.890625 -6.453125 C 4.296875 -6.453125 4.628906 -6.394531 4.890625 -6.28125 C 5.148438 -6.175781 5.351562 -6.023438 5.5 -5.828125 C 5.644531 -5.628906 5.742188 -5.394531 5.796875 -5.125 C 5.859375 -4.851562 5.890625 -4.550781 5.890625 -4.21875 L 5.890625 0 L 4.828125 0 L 4.828125 -4.015625 C 4.828125 -4.285156 4.8125 -4.519531 4.78125 -4.71875 C 4.75 -4.925781 4.6875 -5.097656 4.59375 -5.234375 C 4.5 -5.367188 4.363281 -5.46875 4.1875 -5.53125 C 4.019531 -5.601562 3.800781 -5.640625 3.53125 -5.640625 C 3.28125 -5.640625 3.050781 -5.59375 2.84375 -5.5 C 2.644531 -5.414062 2.472656 -5.289062 2.328125 -5.125 C 2.191406 -4.957031 2.082031 -4.753906 2 -4.515625 C 1.925781 -4.285156 1.890625 -4.023438 1.890625 -3.734375 L 1.890625 0 L 0.828125 0 L 0.828125 -8.703125 L 1.890625 -8.703125 L 1.890625 -6.4375 C 1.890625 -6.300781 1.882812 -6.171875 1.875 -6.046875 C 1.875 -5.921875 1.867188 -5.800781 1.859375 -5.6875 C 1.859375 -5.582031 1.851562 -5.488281 1.84375 -5.40625 C 1.84375 -5.332031 1.84375 -5.28125 1.84375 -5.25 Z M 1.859375 -5.25 \"/>\n",
       "</symbol>\n",
       "<symbol overflow=\"visible\" id=\"glyph1-6\">\n",
       "<path style=\"stroke:none;\" d=\"M 6.171875 -3.203125 C 6.171875 -0.984375 5.394531 0.125 3.84375 0.125 C 3.363281 0.125 2.960938 0.0351562 2.640625 -0.140625 C 2.316406 -0.316406 2.054688 -0.597656 1.859375 -0.984375 C 1.859375 -0.878906 1.851562 -0.769531 1.84375 -0.65625 C 1.832031 -0.550781 1.820312 -0.453125 1.8125 -0.359375 C 1.8125 -0.265625 1.804688 -0.1875 1.796875 -0.125 C 1.796875 -0.0625 1.796875 -0.0195312 1.796875 0 L 0.78125 0 C 0.78125 -0.03125 0.78125 -0.0859375 0.78125 -0.171875 C 0.789062 -0.265625 0.796875 -0.367188 0.796875 -0.484375 C 0.796875 -0.597656 0.796875 -0.722656 0.796875 -0.859375 C 0.804688 -1.003906 0.8125 -1.15625 0.8125 -1.3125 L 0.8125 -8.703125 L 1.859375 -8.703125 L 1.859375 -6.21875 C 1.859375 -6.101562 1.859375 -5.988281 1.859375 -5.875 C 1.859375 -5.769531 1.859375 -5.675781 1.859375 -5.59375 C 1.847656 -5.5 1.84375 -5.410156 1.84375 -5.328125 L 1.859375 -5.328125 C 2.054688 -5.734375 2.316406 -6.019531 2.640625 -6.1875 C 2.960938 -6.363281 3.363281 -6.453125 3.84375 -6.453125 C 4.644531 -6.453125 5.234375 -6.179688 5.609375 -5.640625 C 5.984375 -5.109375 6.171875 -4.296875 6.171875 -3.203125 Z M 5.0625 -3.171875 C 5.0625 -3.609375 5.035156 -3.984375 4.984375 -4.296875 C 4.929688 -4.609375 4.84375 -4.863281 4.71875 -5.0625 C 4.59375 -5.257812 4.4375 -5.40625 4.25 -5.5 C 4.0625 -5.59375 3.832031 -5.640625 3.5625 -5.640625 C 3.289062 -5.640625 3.046875 -5.59375 2.828125 -5.5 C 2.617188 -5.414062 2.441406 -5.273438 2.296875 -5.078125 C 2.160156 -4.878906 2.050781 -4.613281 1.96875 -4.28125 C 1.894531 -3.957031 1.859375 -3.5625 1.859375 -3.09375 C 1.859375 -2.644531 1.894531 -2.265625 1.96875 -1.953125 C 2.050781 -1.648438 2.160156 -1.398438 2.296875 -1.203125 C 2.441406 -1.015625 2.617188 -0.875 2.828125 -0.78125 C 3.035156 -0.695312 3.28125 -0.65625 3.5625 -0.65625 C 3.8125 -0.65625 4.03125 -0.703125 4.21875 -0.796875 C 4.40625 -0.890625 4.5625 -1.035156 4.6875 -1.234375 C 4.8125 -1.429688 4.90625 -1.6875 4.96875 -2 C 5.03125 -2.320312 5.0625 -2.710938 5.0625 -3.171875 Z M 5.0625 -3.171875 \"/>\n",
       "</symbol>\n",
       "<symbol overflow=\"visible\" id=\"glyph1-7\">\n",
       "<path style=\"stroke:none;\" d=\"M 6.171875 -3.171875 C 6.171875 -2.066406 5.925781 -1.238281 5.4375 -0.6875 C 4.945312 -0.144531 4.238281 0.125 3.3125 0.125 C 2.875 0.125 2.476562 0.0546875 2.125 -0.078125 C 1.78125 -0.210938 1.488281 -0.414062 1.25 -0.6875 C 1.007812 -0.96875 0.820312 -1.3125 0.6875 -1.71875 C 0.5625 -2.132812 0.5 -2.617188 0.5 -3.171875 C 0.5 -5.359375 1.445312 -6.453125 3.34375 -6.453125 C 3.832031 -6.453125 4.253906 -6.382812 4.609375 -6.25 C 4.972656 -6.113281 5.269531 -5.910156 5.5 -5.640625 C 5.726562 -5.367188 5.894531 -5.023438 6 -4.609375 C 6.113281 -4.203125 6.171875 -3.722656 6.171875 -3.171875 Z M 5.0625 -3.171875 C 5.0625 -3.671875 5.019531 -4.078125 4.9375 -4.390625 C 4.863281 -4.710938 4.753906 -4.96875 4.609375 -5.15625 C 4.460938 -5.351562 4.285156 -5.488281 4.078125 -5.5625 C 3.867188 -5.632812 3.628906 -5.671875 3.359375 -5.671875 C 3.085938 -5.671875 2.84375 -5.628906 2.625 -5.546875 C 2.414062 -5.472656 2.234375 -5.335938 2.078125 -5.140625 C 1.929688 -4.953125 1.816406 -4.695312 1.734375 -4.375 C 1.648438 -4.050781 1.609375 -3.648438 1.609375 -3.171875 C 1.609375 -2.679688 1.648438 -2.273438 1.734375 -1.953125 C 1.828125 -1.628906 1.945312 -1.367188 2.09375 -1.171875 C 2.25 -0.984375 2.425781 -0.847656 2.625 -0.765625 C 2.832031 -0.691406 3.054688 -0.65625 3.296875 -0.65625 C 3.566406 -0.65625 3.8125 -0.691406 4.03125 -0.765625 C 4.25 -0.847656 4.429688 -0.984375 4.578125 -1.171875 C 4.734375 -1.367188 4.851562 -1.628906 4.9375 -1.953125 C 5.019531 -2.273438 5.0625 -2.679688 5.0625 -3.171875 Z M 5.0625 -3.171875 \"/>\n",
       "</symbol>\n",
       "<symbol overflow=\"visible\" id=\"glyph1-8\">\n",
       "<path style=\"stroke:none;\" d=\"M 0.828125 0 L 0.828125 -4.859375 C 0.828125 -4.992188 0.828125 -5.128906 0.828125 -5.265625 C 0.828125 -5.410156 0.820312 -5.546875 0.8125 -5.671875 C 0.8125 -5.796875 0.804688 -5.914062 0.796875 -6.03125 C 0.796875 -6.144531 0.796875 -6.25 0.796875 -6.34375 L 1.796875 -6.34375 C 1.796875 -6.25 1.796875 -6.144531 1.796875 -6.03125 C 1.804688 -5.914062 1.8125 -5.796875 1.8125 -5.671875 C 1.820312 -5.554688 1.828125 -5.441406 1.828125 -5.328125 C 1.835938 -5.210938 1.84375 -5.117188 1.84375 -5.046875 L 1.859375 -5.046875 C 1.929688 -5.285156 2.007812 -5.492188 2.09375 -5.671875 C 2.1875 -5.847656 2.285156 -5.992188 2.390625 -6.109375 C 2.503906 -6.222656 2.640625 -6.304688 2.796875 -6.359375 C 2.953125 -6.421875 3.144531 -6.453125 3.375 -6.453125 C 3.457031 -6.453125 3.535156 -6.445312 3.609375 -6.4375 C 3.691406 -6.425781 3.753906 -6.414062 3.796875 -6.40625 L 3.796875 -5.4375 C 3.722656 -5.457031 3.640625 -5.46875 3.546875 -5.46875 C 3.453125 -5.476562 3.347656 -5.484375 3.234375 -5.484375 C 2.992188 -5.484375 2.785156 -5.425781 2.609375 -5.3125 C 2.441406 -5.207031 2.304688 -5.054688 2.203125 -4.859375 C 2.097656 -4.671875 2.019531 -4.441406 1.96875 -4.171875 C 1.914062 -3.910156 1.890625 -3.625 1.890625 -3.3125 L 1.890625 0 Z M 0.828125 0 \"/>\n",
       "</symbol>\n",
       "<symbol overflow=\"visible\" id=\"glyph1-9\">\n",
       "<path style=\"stroke:none;\" d=\"M 5.5625 -1.75 C 5.5625 -1.457031 5.503906 -1.191406 5.390625 -0.953125 C 5.273438 -0.722656 5.109375 -0.53125 4.890625 -0.375 C 4.671875 -0.21875 4.398438 -0.09375 4.078125 0 C 3.765625 0.0820312 3.40625 0.125 3 0.125 C 2.625 0.125 2.289062 0.09375 2 0.03125 C 1.707031 -0.0195312 1.445312 -0.109375 1.21875 -0.234375 C 1 -0.359375 0.8125 -0.523438 0.65625 -0.734375 C 0.507812 -0.941406 0.398438 -1.191406 0.328125 -1.484375 L 1.265625 -1.671875 C 1.359375 -1.328125 1.546875 -1.078125 1.828125 -0.921875 C 2.109375 -0.765625 2.5 -0.6875 3 -0.6875 C 3.21875 -0.6875 3.421875 -0.703125 3.609375 -0.734375 C 3.804688 -0.765625 3.972656 -0.816406 4.109375 -0.890625 C 4.242188 -0.972656 4.347656 -1.078125 4.421875 -1.203125 C 4.503906 -1.328125 4.546875 -1.484375 4.546875 -1.671875 C 4.546875 -1.859375 4.5 -2.015625 4.40625 -2.140625 C 4.3125 -2.265625 4.1875 -2.367188 4.03125 -2.453125 C 3.875 -2.535156 3.679688 -2.601562 3.453125 -2.65625 C 3.222656 -2.71875 2.972656 -2.785156 2.703125 -2.859375 C 2.441406 -2.929688 2.1875 -3.007812 1.9375 -3.09375 C 1.6875 -3.175781 1.460938 -3.28125 1.265625 -3.40625 C 1.066406 -3.539062 0.90625 -3.707031 0.78125 -3.90625 C 0.65625 -4.113281 0.59375 -4.367188 0.59375 -4.671875 C 0.59375 -5.242188 0.796875 -5.679688 1.203125 -5.984375 C 1.617188 -6.285156 2.21875 -6.4375 3 -6.4375 C 3.707031 -6.4375 4.265625 -6.3125 4.671875 -6.0625 C 5.085938 -5.820312 5.347656 -5.429688 5.453125 -4.890625 L 4.5 -4.765625 C 4.46875 -4.929688 4.40625 -5.066406 4.3125 -5.171875 C 4.21875 -5.285156 4.101562 -5.378906 3.96875 -5.453125 C 3.84375 -5.523438 3.695312 -5.570312 3.53125 -5.59375 C 3.363281 -5.625 3.1875 -5.640625 3 -5.640625 C 2.53125 -5.640625 2.179688 -5.566406 1.953125 -5.421875 C 1.722656 -5.273438 1.609375 -5.054688 1.609375 -4.765625 C 1.609375 -4.597656 1.648438 -4.457031 1.734375 -4.34375 C 1.816406 -4.226562 1.929688 -4.132812 2.078125 -4.0625 C 2.234375 -3.988281 2.414062 -3.921875 2.625 -3.859375 C 2.84375 -3.804688 3.078125 -3.75 3.328125 -3.6875 C 3.492188 -3.644531 3.664062 -3.597656 3.84375 -3.546875 C 4.019531 -3.492188 4.191406 -3.429688 4.359375 -3.359375 C 4.523438 -3.296875 4.679688 -3.21875 4.828125 -3.125 C 4.972656 -3.039062 5.097656 -2.929688 5.203125 -2.796875 C 5.316406 -2.671875 5.40625 -2.519531 5.46875 -2.34375 C 5.53125 -2.175781 5.5625 -1.976562 5.5625 -1.75 Z M 5.5625 -1.75 \"/>\n",
       "</symbol>\n",
       "<symbol overflow=\"visible\" id=\"glyph2-0\">\n",
       "<path style=\"stroke:none;\" d=\"M 0 -0.40625 L -8 -0.40625 L -8 -3.59375 L 0 -3.59375 Z M -0.40625 -0.796875 L -0.40625 -3.1875 L -7.59375 -3.1875 L -7.59375 -0.796875 Z M -0.40625 -0.796875 \"/>\n",
       "</symbol>\n",
       "<symbol overflow=\"visible\" id=\"glyph2-1\">\n",
       "<path style=\"stroke:none;\" d=\"M 0 -6.84375 L -2.421875 -5.890625 L -2.421875 -2.140625 L 0 -1.1875 L 0 -0.03125 L -8.25 -3.390625 L -8.25 -4.671875 L 0 -7.984375 Z M -6.015625 -4.5 C -6.171875 -4.4375 -6.328125 -4.375 -6.484375 -4.3125 C -6.648438 -4.257812 -6.796875 -4.210938 -6.921875 -4.171875 C -7.054688 -4.128906 -7.164062 -4.09375 -7.25 -4.0625 C -7.34375 -4.03125 -7.394531 -4.015625 -7.40625 -4.015625 C -7.394531 -4.003906 -7.34375 -3.984375 -7.25 -3.953125 C -7.15625 -3.929688 -7.039062 -3.894531 -6.90625 -3.84375 C -6.78125 -3.800781 -6.632812 -3.75 -6.46875 -3.6875 C -6.3125 -3.632812 -6.15625 -3.582031 -6 -3.53125 L -3.28125 -2.46875 L -3.28125 -5.5625 Z M -6.015625 -4.5 \"/>\n",
       "</symbol>\n",
       "<symbol overflow=\"visible\" id=\"glyph2-2\">\n",
       "<path style=\"stroke:none;\" d=\"M -3.203125 -1.609375 C -2.835938 -1.609375 -2.5 -1.632812 -2.1875 -1.6875 C -1.882812 -1.738281 -1.625 -1.828125 -1.40625 -1.953125 C -1.1875 -2.078125 -1.015625 -2.242188 -0.890625 -2.453125 C -0.773438 -2.660156 -0.71875 -2.914062 -0.71875 -3.21875 C -0.71875 -3.59375 -0.816406 -3.90625 -1.015625 -4.15625 C -1.222656 -4.40625 -1.535156 -4.5625 -1.953125 -4.625 L -1.890625 -5.6875 C -1.628906 -5.644531 -1.375 -5.566406 -1.125 -5.453125 C -0.882812 -5.335938 -0.671875 -5.175781 -0.484375 -4.96875 C -0.304688 -4.769531 -0.160156 -4.523438 -0.046875 -4.234375 C 0.0664062 -3.953125 0.125 -3.617188 0.125 -3.234375 C 0.125 -2.742188 0.0390625 -2.320312 -0.125 -1.96875 C -0.300781 -1.625 -0.535156 -1.34375 -0.828125 -1.125 C -1.117188 -0.90625 -1.460938 -0.75 -1.859375 -0.65625 C -2.265625 -0.5625 -2.703125 -0.515625 -3.171875 -0.515625 C -3.597656 -0.515625 -3.972656 -0.546875 -4.296875 -0.609375 C -4.628906 -0.679688 -4.914062 -0.78125 -5.15625 -0.90625 C -5.40625 -1.039062 -5.613281 -1.191406 -5.78125 -1.359375 C -5.945312 -1.535156 -6.078125 -1.722656 -6.171875 -1.921875 C -6.273438 -2.117188 -6.347656 -2.328125 -6.390625 -2.546875 C -6.429688 -2.773438 -6.453125 -3.003906 -6.453125 -3.234375 C -6.453125 -3.585938 -6.40625 -3.898438 -6.3125 -4.171875 C -6.21875 -4.453125 -6.082031 -4.691406 -5.90625 -4.890625 C -5.738281 -5.097656 -5.539062 -5.265625 -5.3125 -5.390625 C -5.082031 -5.515625 -4.832031 -5.601562 -4.5625 -5.65625 L -4.484375 -4.5625 C -4.835938 -4.507812 -5.113281 -4.367188 -5.3125 -4.140625 C -5.519531 -3.921875 -5.625 -3.609375 -5.625 -3.203125 C -5.625 -2.898438 -5.570312 -2.644531 -5.46875 -2.4375 C -5.375 -2.238281 -5.226562 -2.078125 -5.03125 -1.953125 C -4.832031 -1.828125 -4.578125 -1.738281 -4.265625 -1.6875 C -3.960938 -1.632812 -3.609375 -1.609375 -3.203125 -1.609375 Z M -3.203125 -1.609375 \"/>\n",
       "</symbol>\n",
       "<symbol overflow=\"visible\" id=\"glyph2-3\">\n",
       "<path style=\"stroke:none;\" d=\"M -6.34375 -1.84375 L -2.328125 -1.84375 C -2.015625 -1.84375 -1.753906 -1.863281 -1.546875 -1.90625 C -1.335938 -1.945312 -1.171875 -2.019531 -1.046875 -2.125 C -0.921875 -2.226562 -0.832031 -2.363281 -0.78125 -2.53125 C -0.726562 -2.695312 -0.703125 -2.898438 -0.703125 -3.140625 C -0.703125 -3.390625 -0.742188 -3.613281 -0.828125 -3.8125 C -0.921875 -4.019531 -1.046875 -4.191406 -1.203125 -4.328125 C -1.367188 -4.472656 -1.570312 -4.582031 -1.8125 -4.65625 C -2.0625 -4.738281 -2.347656 -4.78125 -2.671875 -4.78125 L -6.34375 -4.78125 L -6.34375 -5.84375 L -1.359375 -5.84375 C -1.222656 -5.84375 -1.082031 -5.84375 -0.9375 -5.84375 C -0.789062 -5.84375 -0.648438 -5.84375 -0.515625 -5.84375 C -0.390625 -5.851562 -0.28125 -5.859375 -0.1875 -5.859375 C -0.09375 -5.867188 -0.03125 -5.875 0 -5.875 L 0 -4.875 C -0.0195312 -4.875 -0.0703125 -4.867188 -0.15625 -4.859375 C -0.238281 -4.859375 -0.335938 -4.851562 -0.453125 -4.84375 C -0.566406 -4.84375 -0.679688 -4.835938 -0.796875 -4.828125 C -0.910156 -4.828125 -1.003906 -4.828125 -1.078125 -4.828125 L -1.078125 -4.8125 C -0.898438 -4.71875 -0.734375 -4.609375 -0.578125 -4.484375 C -0.429688 -4.359375 -0.304688 -4.21875 -0.203125 -4.0625 C -0.0976562 -3.90625 -0.0195312 -3.722656 0.03125 -3.515625 C 0.09375 -3.304688 0.125 -3.066406 0.125 -2.796875 C 0.125 -2.441406 0.0820312 -2.132812 0 -1.875 C -0.09375 -1.625 -0.226562 -1.414062 -0.40625 -1.25 C -0.59375 -1.09375 -0.828125 -0.972656 -1.109375 -0.890625 C -1.390625 -0.816406 -1.722656 -0.78125 -2.109375 -0.78125 L -6.34375 -0.78125 Z M -6.34375 -1.84375 \"/>\n",
       "</symbol>\n",
       "<symbol overflow=\"visible\" id=\"glyph2-4\">\n",
       "<path style=\"stroke:none;\" d=\"M 0 -0.828125 L -4.859375 -0.828125 C -4.992188 -0.828125 -5.128906 -0.828125 -5.265625 -0.828125 C -5.410156 -0.828125 -5.546875 -0.820312 -5.671875 -0.8125 C -5.796875 -0.8125 -5.914062 -0.804688 -6.03125 -0.796875 C -6.144531 -0.796875 -6.25 -0.796875 -6.34375 -0.796875 L -6.34375 -1.796875 C -6.25 -1.796875 -6.144531 -1.796875 -6.03125 -1.796875 C -5.914062 -1.804688 -5.796875 -1.8125 -5.671875 -1.8125 C -5.554688 -1.820312 -5.441406 -1.828125 -5.328125 -1.828125 C -5.210938 -1.835938 -5.117188 -1.84375 -5.046875 -1.84375 L -5.046875 -1.859375 C -5.285156 -1.929688 -5.492188 -2.007812 -5.671875 -2.09375 C -5.847656 -2.1875 -5.992188 -2.285156 -6.109375 -2.390625 C -6.222656 -2.503906 -6.304688 -2.640625 -6.359375 -2.796875 C -6.421875 -2.953125 -6.453125 -3.144531 -6.453125 -3.375 C -6.453125 -3.457031 -6.445312 -3.535156 -6.4375 -3.609375 C -6.425781 -3.691406 -6.414062 -3.753906 -6.40625 -3.796875 L -5.4375 -3.796875 C -5.457031 -3.722656 -5.46875 -3.640625 -5.46875 -3.546875 C -5.476562 -3.453125 -5.484375 -3.347656 -5.484375 -3.234375 C -5.484375 -2.992188 -5.425781 -2.785156 -5.3125 -2.609375 C -5.207031 -2.441406 -5.054688 -2.304688 -4.859375 -2.203125 C -4.671875 -2.097656 -4.441406 -2.019531 -4.171875 -1.96875 C -3.910156 -1.914062 -3.625 -1.890625 -3.3125 -1.890625 L 0 -1.890625 Z M 0 -0.828125 \"/>\n",
       "</symbol>\n",
       "<symbol overflow=\"visible\" id=\"glyph2-5\">\n",
       "<path style=\"stroke:none;\" d=\"M 0.125 -2.421875 C 0.125 -1.785156 -0.0390625 -1.304688 -0.375 -0.984375 C -0.71875 -0.671875 -1.179688 -0.515625 -1.765625 -0.515625 C -2.179688 -0.515625 -2.523438 -0.59375 -2.796875 -0.75 C -3.066406 -0.90625 -3.273438 -1.109375 -3.421875 -1.359375 C -3.578125 -1.617188 -3.679688 -1.910156 -3.734375 -2.234375 C -3.796875 -2.566406 -3.832031 -2.90625 -3.84375 -3.25 L -3.875 -4.671875 L -4.21875 -4.671875 C -4.476562 -4.671875 -4.695312 -4.640625 -4.875 -4.578125 C -5.0625 -4.523438 -5.210938 -4.441406 -5.328125 -4.328125 C -5.441406 -4.222656 -5.523438 -4.082031 -5.578125 -3.90625 C -5.628906 -3.738281 -5.65625 -3.539062 -5.65625 -3.3125 C -5.65625 -3.101562 -5.640625 -2.914062 -5.609375 -2.75 C -5.578125 -2.59375 -5.523438 -2.453125 -5.453125 -2.328125 C -5.378906 -2.210938 -5.273438 -2.113281 -5.140625 -2.03125 C -5.015625 -1.957031 -4.847656 -1.910156 -4.640625 -1.890625 L -4.75 -0.796875 C -5 -0.828125 -5.226562 -0.894531 -5.4375 -1 C -5.644531 -1.113281 -5.820312 -1.269531 -5.96875 -1.46875 C -6.125 -1.675781 -6.242188 -1.929688 -6.328125 -2.234375 C -6.410156 -2.535156 -6.453125 -2.898438 -6.453125 -3.328125 C -6.453125 -4.128906 -6.269531 -4.726562 -5.90625 -5.125 C -5.539062 -5.53125 -5.015625 -5.734375 -4.328125 -5.734375 L -1.59375 -5.734375 C -1.28125 -5.734375 -1.046875 -5.773438 -0.890625 -5.859375 C -0.734375 -5.941406 -0.65625 -6.097656 -0.65625 -6.328125 C -0.65625 -6.390625 -0.65625 -6.445312 -0.65625 -6.5 C -0.664062 -6.5625 -0.675781 -6.617188 -0.6875 -6.671875 L -0.03125 -6.671875 C 0 -6.535156 0.0195312 -6.398438 0.03125 -6.265625 C 0.0507812 -6.140625 0.0625 -6.003906 0.0625 -5.859375 C 0.0625 -5.660156 0.0351562 -5.488281 -0.015625 -5.34375 C -0.0664062 -5.207031 -0.144531 -5.09375 -0.25 -5 C -0.363281 -4.90625 -0.5 -4.832031 -0.65625 -4.78125 C -0.8125 -4.738281 -1 -4.710938 -1.21875 -4.703125 L -1.21875 -4.671875 C -1.007812 -4.554688 -0.820312 -4.429688 -0.65625 -4.296875 C -0.5 -4.160156 -0.363281 -4.003906 -0.25 -3.828125 C -0.132812 -3.648438 -0.046875 -3.445312 0.015625 -3.21875 C 0.0859375 -2.988281 0.125 -2.722656 0.125 -2.421875 Z M -0.671875 -2.671875 C -0.671875 -3.003906 -0.734375 -3.296875 -0.859375 -3.546875 C -0.984375 -3.796875 -1.140625 -4.003906 -1.328125 -4.171875 C -1.523438 -4.335938 -1.734375 -4.460938 -1.953125 -4.546875 C -2.179688 -4.628906 -2.398438 -4.671875 -2.609375 -4.671875 L -3.125 -4.671875 L -3.109375 -3.515625 C -3.097656 -3.253906 -3.078125 -3.007812 -3.046875 -2.78125 C -3.015625 -2.550781 -2.945312 -2.347656 -2.84375 -2.171875 C -2.75 -1.992188 -2.613281 -1.851562 -2.4375 -1.75 C -2.269531 -1.644531 -2.039062 -1.59375 -1.75 -1.59375 C -1.40625 -1.59375 -1.140625 -1.6875 -0.953125 -1.875 C -0.765625 -2.0625 -0.671875 -2.328125 -0.671875 -2.671875 Z M -0.671875 -2.671875 \"/>\n",
       "</symbol>\n",
       "<symbol overflow=\"visible\" id=\"glyph2-6\">\n",
       "<path style=\"stroke:none;\" d=\"M 0 -3.546875 C 0.382812 -3.390625 0.726562 -3.234375 1.03125 -3.078125 C 1.34375 -2.929688 1.601562 -2.757812 1.8125 -2.5625 C 2.03125 -2.375 2.195312 -2.160156 2.3125 -1.921875 C 2.425781 -1.691406 2.484375 -1.425781 2.484375 -1.125 C 2.484375 -0.988281 2.476562 -0.863281 2.46875 -0.75 C 2.46875 -0.632812 2.453125 -0.515625 2.421875 -0.390625 L 1.640625 -0.390625 C 1.648438 -0.460938 1.65625 -0.546875 1.65625 -0.640625 C 1.664062 -0.734375 1.671875 -0.816406 1.671875 -0.890625 C 1.671875 -1.191406 1.554688 -1.472656 1.328125 -1.734375 C 1.097656 -2.003906 0.726562 -2.238281 0.21875 -2.4375 L -0.03125 -2.546875 L -6.34375 -0.03125 L -6.34375 -1.15625 L -2.84375 -2.484375 C -2.726562 -2.523438 -2.582031 -2.578125 -2.40625 -2.640625 C -2.238281 -2.703125 -2.066406 -2.757812 -1.890625 -2.8125 C -1.710938 -2.875 -1.550781 -2.925781 -1.40625 -2.96875 C -1.269531 -3.019531 -1.1875 -3.050781 -1.15625 -3.0625 C -1.195312 -3.070312 -1.28125 -3.097656 -1.40625 -3.140625 C -1.53125 -3.191406 -1.671875 -3.242188 -1.828125 -3.296875 C -1.984375 -3.359375 -2.140625 -3.414062 -2.296875 -3.46875 C -2.460938 -3.53125 -2.601562 -3.582031 -2.71875 -3.625 L -6.34375 -4.859375 L -6.34375 -5.984375 Z M 0 -3.546875 \"/>\n",
       "</symbol>\n",
       "<symbol overflow=\"visible\" id=\"glyph2-7\">\n",
       "<path style=\"stroke:none;\" d=\"\"/>\n",
       "</symbol>\n",
       "<symbol overflow=\"visible\" id=\"glyph2-8\">\n",
       "<path style=\"stroke:none;\" d=\"M 0 -0.984375 L -8.25 -0.984375 L -8.25 -7.25 L -7.34375 -7.25 L -7.34375 -2.109375 L -4.6875 -2.109375 L -4.6875 -6.890625 L -3.796875 -6.890625 L -3.796875 -2.109375 L -0.921875 -2.109375 L -0.921875 -7.484375 L 0 -7.484375 Z M 0 -0.984375 \"/>\n",
       "</symbol>\n",
       "<symbol overflow=\"visible\" id=\"glyph2-9\">\n",
       "<path style=\"stroke:none;\" d=\"M -1.75 -5.5625 C -1.457031 -5.5625 -1.191406 -5.503906 -0.953125 -5.390625 C -0.722656 -5.273438 -0.53125 -5.109375 -0.375 -4.890625 C -0.21875 -4.671875 -0.09375 -4.398438 0 -4.078125 C 0.0820312 -3.765625 0.125 -3.40625 0.125 -3 C 0.125 -2.625 0.09375 -2.289062 0.03125 -2 C -0.0195312 -1.707031 -0.109375 -1.445312 -0.234375 -1.21875 C -0.359375 -1 -0.523438 -0.8125 -0.734375 -0.65625 C -0.941406 -0.507812 -1.191406 -0.398438 -1.484375 -0.328125 L -1.671875 -1.265625 C -1.328125 -1.359375 -1.078125 -1.546875 -0.921875 -1.828125 C -0.765625 -2.109375 -0.6875 -2.5 -0.6875 -3 C -0.6875 -3.21875 -0.703125 -3.421875 -0.734375 -3.609375 C -0.765625 -3.804688 -0.816406 -3.972656 -0.890625 -4.109375 C -0.972656 -4.242188 -1.078125 -4.347656 -1.203125 -4.421875 C -1.328125 -4.503906 -1.484375 -4.546875 -1.671875 -4.546875 C -1.859375 -4.546875 -2.015625 -4.5 -2.140625 -4.40625 C -2.265625 -4.3125 -2.367188 -4.1875 -2.453125 -4.03125 C -2.535156 -3.875 -2.601562 -3.679688 -2.65625 -3.453125 C -2.71875 -3.222656 -2.785156 -2.972656 -2.859375 -2.703125 C -2.929688 -2.441406 -3.007812 -2.1875 -3.09375 -1.9375 C -3.175781 -1.6875 -3.28125 -1.460938 -3.40625 -1.265625 C -3.539062 -1.066406 -3.707031 -0.90625 -3.90625 -0.78125 C -4.113281 -0.65625 -4.367188 -0.59375 -4.671875 -0.59375 C -5.242188 -0.59375 -5.679688 -0.796875 -5.984375 -1.203125 C -6.285156 -1.617188 -6.4375 -2.21875 -6.4375 -3 C -6.4375 -3.707031 -6.3125 -4.265625 -6.0625 -4.671875 C -5.820312 -5.085938 -5.429688 -5.347656 -4.890625 -5.453125 L -4.765625 -4.5 C -4.929688 -4.46875 -5.066406 -4.40625 -5.171875 -4.3125 C -5.285156 -4.21875 -5.378906 -4.101562 -5.453125 -3.96875 C -5.523438 -3.84375 -5.570312 -3.695312 -5.59375 -3.53125 C -5.625 -3.363281 -5.640625 -3.1875 -5.640625 -3 C -5.640625 -2.53125 -5.566406 -2.179688 -5.421875 -1.953125 C -5.273438 -1.722656 -5.054688 -1.609375 -4.765625 -1.609375 C -4.597656 -1.609375 -4.457031 -1.648438 -4.34375 -1.734375 C -4.226562 -1.816406 -4.132812 -1.929688 -4.0625 -2.078125 C -3.988281 -2.234375 -3.921875 -2.414062 -3.859375 -2.625 C -3.804688 -2.84375 -3.75 -3.078125 -3.6875 -3.328125 C -3.644531 -3.492188 -3.597656 -3.664062 -3.546875 -3.84375 C -3.492188 -4.019531 -3.429688 -4.191406 -3.359375 -4.359375 C -3.296875 -4.523438 -3.21875 -4.679688 -3.125 -4.828125 C -3.039062 -4.972656 -2.929688 -5.097656 -2.796875 -5.203125 C -2.671875 -5.316406 -2.519531 -5.40625 -2.34375 -5.46875 C -2.175781 -5.53125 -1.976562 -5.5625 -1.75 -5.5625 Z M -1.75 -5.5625 \"/>\n",
       "</symbol>\n",
       "<symbol overflow=\"visible\" id=\"glyph2-10\">\n",
       "<path style=\"stroke:none;\" d=\"M -0.046875 -3.25 C -0.00390625 -3.082031 0.0234375 -2.914062 0.046875 -2.75 C 0.078125 -2.59375 0.09375 -2.40625 0.09375 -2.1875 C 0.09375 -1.34375 -0.382812 -0.921875 -1.34375 -0.921875 L -5.578125 -0.921875 L -5.578125 -0.1875 L -6.34375 -0.1875 L -6.34375 -0.953125 L -7.765625 -1.265625 L -7.765625 -1.96875 L -6.34375 -1.96875 L -6.34375 -3.140625 L -5.578125 -3.140625 L -5.578125 -1.96875 L -1.578125 -1.96875 C -1.265625 -1.96875 -1.046875 -2.015625 -0.921875 -2.109375 C -0.804688 -2.210938 -0.75 -2.390625 -0.75 -2.640625 C -0.75 -2.742188 -0.753906 -2.84375 -0.765625 -2.9375 C -0.785156 -3.03125 -0.804688 -3.132812 -0.828125 -3.25 Z M -0.046875 -3.25 \"/>\n",
       "</symbol>\n",
       "<symbol overflow=\"visible\" id=\"glyph2-11\">\n",
       "<path style=\"stroke:none;\" d=\"M -7.6875 -0.796875 L -8.703125 -0.796875 L -8.703125 -1.859375 L -7.6875 -1.859375 Z M 0 -0.796875 L -6.34375 -0.796875 L -6.34375 -1.859375 L 0 -1.859375 Z M 0 -0.796875 \"/>\n",
       "</symbol>\n",
       "<symbol overflow=\"visible\" id=\"glyph2-12\">\n",
       "<path style=\"stroke:none;\" d=\"M 0 -4.5 L -4.015625 -4.5 C -4.328125 -4.5 -4.585938 -4.476562 -4.796875 -4.4375 C -5.003906 -4.40625 -5.171875 -4.34375 -5.296875 -4.25 C -5.421875 -4.15625 -5.507812 -4.03125 -5.5625 -3.875 C -5.613281 -3.726562 -5.640625 -3.550781 -5.640625 -3.34375 C -5.640625 -3.113281 -5.59375 -2.910156 -5.5 -2.734375 C -5.414062 -2.554688 -5.289062 -2.40625 -5.125 -2.28125 C -4.957031 -2.15625 -4.753906 -2.054688 -4.515625 -1.984375 C -4.273438 -1.910156 -3.992188 -1.875 -3.671875 -1.875 L 0 -1.875 L 0 -0.828125 L -4.984375 -0.828125 C -5.117188 -0.828125 -5.257812 -0.828125 -5.40625 -0.828125 C -5.550781 -0.828125 -5.6875 -0.820312 -5.8125 -0.8125 C -5.945312 -0.8125 -6.0625 -0.804688 -6.15625 -0.796875 C -6.25 -0.796875 -6.3125 -0.796875 -6.34375 -0.796875 L -6.34375 -1.796875 C -6.320312 -1.796875 -6.265625 -1.796875 -6.171875 -1.796875 C -6.085938 -1.804688 -5.988281 -1.8125 -5.875 -1.8125 C -5.769531 -1.820312 -5.660156 -1.828125 -5.546875 -1.828125 C -5.429688 -1.835938 -5.332031 -1.84375 -5.25 -1.84375 L -5.25 -1.859375 C -5.4375 -1.953125 -5.601562 -2.050781 -5.75 -2.15625 C -5.90625 -2.269531 -6.03125 -2.398438 -6.125 -2.546875 C -6.226562 -2.691406 -6.304688 -2.859375 -6.359375 -3.046875 C -6.421875 -3.234375 -6.453125 -3.453125 -6.453125 -3.703125 C -6.453125 -4.191406 -6.359375 -4.570312 -6.171875 -4.84375 C -5.984375 -5.125 -5.675781 -5.320312 -5.25 -5.4375 L -5.25 -5.453125 C -5.4375 -5.546875 -5.601562 -5.648438 -5.75 -5.765625 C -5.90625 -5.878906 -6.03125 -6.015625 -6.125 -6.171875 C -6.226562 -6.328125 -6.304688 -6.503906 -6.359375 -6.703125 C -6.421875 -6.898438 -6.453125 -7.125 -6.453125 -7.375 C -6.453125 -7.695312 -6.410156 -7.972656 -6.328125 -8.203125 C -6.242188 -8.429688 -6.109375 -8.617188 -5.921875 -8.765625 C -5.742188 -8.921875 -5.515625 -9.03125 -5.234375 -9.09375 C -4.953125 -9.164062 -4.613281 -9.203125 -4.21875 -9.203125 L 0 -9.203125 L 0 -8.15625 L -4.015625 -8.15625 C -4.328125 -8.15625 -4.585938 -8.132812 -4.796875 -8.09375 C -5.003906 -8.0625 -5.171875 -8 -5.296875 -7.90625 C -5.421875 -7.8125 -5.507812 -7.691406 -5.5625 -7.546875 C -5.613281 -7.398438 -5.640625 -7.21875 -5.640625 -7 C -5.640625 -6.78125 -5.597656 -6.578125 -5.515625 -6.390625 C -5.429688 -6.210938 -5.304688 -6.0625 -5.140625 -5.9375 C -4.984375 -5.8125 -4.78125 -5.710938 -4.53125 -5.640625 C -4.28125 -5.578125 -3.992188 -5.546875 -3.671875 -5.546875 L 0 -5.546875 Z M 0 -4.5 \"/>\n",
       "</symbol>\n",
       "<symbol overflow=\"visible\" id=\"glyph2-13\">\n",
       "<path style=\"stroke:none;\" d=\"M -2.953125 -1.625 C -2.617188 -1.625 -2.3125 -1.65625 -2.03125 -1.71875 C -1.75 -1.789062 -1.507812 -1.894531 -1.3125 -2.03125 C -1.113281 -2.175781 -0.957031 -2.359375 -0.84375 -2.578125 C -0.726562 -2.804688 -0.671875 -3.078125 -0.671875 -3.390625 C -0.671875 -3.847656 -0.757812 -4.210938 -0.9375 -4.484375 C -1.125 -4.765625 -1.359375 -4.953125 -1.640625 -5.046875 L -1.390625 -5.96875 C -1.210938 -5.90625 -1.035156 -5.8125 -0.859375 -5.6875 C -0.679688 -5.570312 -0.519531 -5.414062 -0.375 -5.21875 C -0.226562 -5.019531 -0.109375 -4.769531 -0.015625 -4.46875 C 0.078125 -4.164062 0.125 -3.804688 0.125 -3.390625 C 0.125 -2.453125 -0.15625 -1.738281 -0.71875 -1.25 C -1.28125 -0.757812 -2.113281 -0.515625 -3.21875 -0.515625 C -3.8125 -0.515625 -4.3125 -0.585938 -4.71875 -0.734375 C -5.132812 -0.878906 -5.46875 -1.082031 -5.71875 -1.34375 C -5.976562 -1.601562 -6.164062 -1.90625 -6.28125 -2.25 C -6.394531 -2.59375 -6.453125 -2.957031 -6.453125 -3.34375 C -6.453125 -3.875 -6.363281 -4.316406 -6.1875 -4.671875 C -6.019531 -5.035156 -5.785156 -5.320312 -5.484375 -5.53125 C -5.179688 -5.75 -4.820312 -5.90625 -4.40625 -6 C -4 -6.09375 -3.5625 -6.140625 -3.09375 -6.140625 L -2.953125 -6.140625 Z M -3.75 -5.046875 C -4.425781 -4.992188 -4.914062 -4.828125 -5.21875 -4.546875 C -5.519531 -4.265625 -5.671875 -3.859375 -5.671875 -3.328125 C -5.671875 -3.148438 -5.644531 -2.960938 -5.59375 -2.765625 C -5.539062 -2.578125 -5.441406 -2.398438 -5.296875 -2.234375 C -5.148438 -2.078125 -4.953125 -1.941406 -4.703125 -1.828125 C -4.453125 -1.710938 -4.132812 -1.644531 -3.75 -1.625 Z M -3.75 -5.046875 \"/>\n",
       "</symbol>\n",
       "</g>\n",
       "<clipPath id=\"clip1\">\n",
       "  <path d=\"M 43.152344 5.480469 L 498.523438 5.480469 L 498.523438 470.851562 L 43.152344 470.851562 Z M 43.152344 5.480469 \"/>\n",
       "</clipPath>\n",
       "<clipPath id=\"clip2\">\n",
       "  <path d=\"M 43.152344 412 L 498.523438 412 L 498.523438 413 L 43.152344 413 Z M 43.152344 412 \"/>\n",
       "</clipPath>\n",
       "<clipPath id=\"clip3\">\n",
       "  <path d=\"M 43.152344 282 L 498.523438 282 L 498.523438 283 L 43.152344 283 Z M 43.152344 282 \"/>\n",
       "</clipPath>\n",
       "<clipPath id=\"clip4\">\n",
       "  <path d=\"M 43.152344 152 L 498.523438 152 L 498.523438 154 L 43.152344 154 Z M 43.152344 152 \"/>\n",
       "</clipPath>\n",
       "<clipPath id=\"clip5\">\n",
       "  <path d=\"M 43.152344 23 L 498.523438 23 L 498.523438 24 L 43.152344 24 Z M 43.152344 23 \"/>\n",
       "</clipPath>\n",
       "<clipPath id=\"clip6\">\n",
       "  <path d=\"M 113 5.480469 L 115 5.480469 L 115 470.851562 L 113 470.851562 Z M 113 5.480469 \"/>\n",
       "</clipPath>\n",
       "<clipPath id=\"clip7\">\n",
       "  <path d=\"M 222 5.480469 L 224 5.480469 L 224 470.851562 L 222 470.851562 Z M 222 5.480469 \"/>\n",
       "</clipPath>\n",
       "<clipPath id=\"clip8\">\n",
       "  <path d=\"M 331 5.480469 L 333 5.480469 L 333 470.851562 L 331 470.851562 Z M 331 5.480469 \"/>\n",
       "</clipPath>\n",
       "<clipPath id=\"clip9\">\n",
       "  <path d=\"M 440 5.480469 L 442 5.480469 L 442 470.851562 L 440 470.851562 Z M 440 5.480469 \"/>\n",
       "</clipPath>\n",
       "<clipPath id=\"clip10\">\n",
       "  <path d=\"M 43.152344 346 L 498.523438 346 L 498.523438 349 L 43.152344 349 Z M 43.152344 346 \"/>\n",
       "</clipPath>\n",
       "<clipPath id=\"clip11\">\n",
       "  <path d=\"M 43.152344 217 L 498.523438 217 L 498.523438 219 L 43.152344 219 Z M 43.152344 217 \"/>\n",
       "</clipPath>\n",
       "<clipPath id=\"clip12\">\n",
       "  <path d=\"M 43.152344 87 L 498.523438 87 L 498.523438 89 L 43.152344 89 Z M 43.152344 87 \"/>\n",
       "</clipPath>\n",
       "<clipPath id=\"clip13\">\n",
       "  <path d=\"M 58 5.480469 L 61 5.480469 L 61 470.851562 L 58 470.851562 Z M 58 5.480469 \"/>\n",
       "</clipPath>\n",
       "<clipPath id=\"clip14\">\n",
       "  <path d=\"M 167 5.480469 L 169 5.480469 L 169 470.851562 L 167 470.851562 Z M 167 5.480469 \"/>\n",
       "</clipPath>\n",
       "<clipPath id=\"clip15\">\n",
       "  <path d=\"M 276 5.480469 L 278 5.480469 L 278 470.851562 L 276 470.851562 Z M 276 5.480469 \"/>\n",
       "</clipPath>\n",
       "<clipPath id=\"clip16\">\n",
       "  <path d=\"M 385 5.480469 L 387 5.480469 L 387 470.851562 L 385 470.851562 Z M 385 5.480469 \"/>\n",
       "</clipPath>\n",
       "<clipPath id=\"clip17\">\n",
       "  <path d=\"M 494 5.480469 L 496 5.480469 L 496 470.851562 L 494 470.851562 Z M 494 5.480469 \"/>\n",
       "</clipPath>\n",
       "</defs>\n",
       "<g id=\"surface113\">\n",
       "<rect x=\"0\" y=\"0\" width=\"504\" height=\"504\" style=\"fill:rgb(100%,100%,100%);fill-opacity:1;stroke:none;\"/>\n",
       "<rect x=\"0\" y=\"0\" width=\"504\" height=\"504\" style=\"fill:rgb(100%,100%,100%);fill-opacity:1;stroke:none;\"/>\n",
       "<path style=\"fill:none;stroke-width:1.066978;stroke-linecap:round;stroke-linejoin:round;stroke:rgb(100%,100%,100%);stroke-opacity:1;stroke-miterlimit:10;\" d=\"M 0 504 L 504 504 L 504 0 L 0 0 Z M 0 504 \"/>\n",
       "<g clip-path=\"url(#clip1)\" clip-rule=\"nonzero\">\n",
       "<path style=\" stroke:none;fill-rule:nonzero;fill:rgb(92.156863%,92.156863%,92.156863%);fill-opacity:1;\" d=\"M 43.152344 470.847656 L 498.523438 470.847656 L 498.523438 5.476562 L 43.152344 5.476562 Z M 43.152344 470.847656 \"/>\n",
       "</g>\n",
       "<g clip-path=\"url(#clip2)\" clip-rule=\"nonzero\">\n",
       "<path style=\"fill:none;stroke-width:0.533489;stroke-linecap:butt;stroke-linejoin:round;stroke:rgb(100%,100%,100%);stroke-opacity:1;stroke-miterlimit:10;\" d=\"M 43.152344 412.328125 L 498.519531 412.328125 \"/>\n",
       "</g>\n",
       "<g clip-path=\"url(#clip3)\" clip-rule=\"nonzero\">\n",
       "<path style=\"fill:none;stroke-width:0.533489;stroke-linecap:butt;stroke-linejoin:round;stroke:rgb(100%,100%,100%);stroke-opacity:1;stroke-miterlimit:10;\" d=\"M 43.152344 282.722656 L 498.519531 282.722656 \"/>\n",
       "</g>\n",
       "<g clip-path=\"url(#clip4)\" clip-rule=\"nonzero\">\n",
       "<path style=\"fill:none;stroke-width:0.533489;stroke-linecap:butt;stroke-linejoin:round;stroke:rgb(100%,100%,100%);stroke-opacity:1;stroke-miterlimit:10;\" d=\"M 43.152344 153.117188 L 498.519531 153.117188 \"/>\n",
       "</g>\n",
       "<g clip-path=\"url(#clip5)\" clip-rule=\"nonzero\">\n",
       "<path style=\"fill:none;stroke-width:0.533489;stroke-linecap:butt;stroke-linejoin:round;stroke:rgb(100%,100%,100%);stroke-opacity:1;stroke-miterlimit:10;\" d=\"M 43.152344 23.515625 L 498.519531 23.515625 \"/>\n",
       "</g>\n",
       "<g clip-path=\"url(#clip6)\" clip-rule=\"nonzero\">\n",
       "<path style=\"fill:none;stroke-width:0.533489;stroke-linecap:butt;stroke-linejoin:round;stroke:rgb(100%,100%,100%);stroke-opacity:1;stroke-miterlimit:10;\" d=\"M 113.960938 470.847656 L 113.960938 5.480469 \"/>\n",
       "</g>\n",
       "<g clip-path=\"url(#clip7)\" clip-rule=\"nonzero\">\n",
       "<path style=\"fill:none;stroke-width:0.533489;stroke-linecap:butt;stroke-linejoin:round;stroke:rgb(100%,100%,100%);stroke-opacity:1;stroke-miterlimit:10;\" d=\"M 222.902344 470.847656 L 222.902344 5.480469 \"/>\n",
       "</g>\n",
       "<g clip-path=\"url(#clip8)\" clip-rule=\"nonzero\">\n",
       "<path style=\"fill:none;stroke-width:0.533489;stroke-linecap:butt;stroke-linejoin:round;stroke:rgb(100%,100%,100%);stroke-opacity:1;stroke-miterlimit:10;\" d=\"M 331.84375 470.847656 L 331.84375 5.480469 \"/>\n",
       "</g>\n",
       "<g clip-path=\"url(#clip9)\" clip-rule=\"nonzero\">\n",
       "<path style=\"fill:none;stroke-width:0.533489;stroke-linecap:butt;stroke-linejoin:round;stroke:rgb(100%,100%,100%);stroke-opacity:1;stroke-miterlimit:10;\" d=\"M 440.78125 470.847656 L 440.78125 5.480469 \"/>\n",
       "</g>\n",
       "<g clip-path=\"url(#clip10)\" clip-rule=\"nonzero\">\n",
       "<path style=\"fill:none;stroke-width:1.066978;stroke-linecap:butt;stroke-linejoin:round;stroke:rgb(100%,100%,100%);stroke-opacity:1;stroke-miterlimit:10;\" d=\"M 43.152344 347.527344 L 498.519531 347.527344 \"/>\n",
       "</g>\n",
       "<g clip-path=\"url(#clip11)\" clip-rule=\"nonzero\">\n",
       "<path style=\"fill:none;stroke-width:1.066978;stroke-linecap:butt;stroke-linejoin:round;stroke:rgb(100%,100%,100%);stroke-opacity:1;stroke-miterlimit:10;\" d=\"M 43.152344 217.921875 L 498.519531 217.921875 \"/>\n",
       "</g>\n",
       "<g clip-path=\"url(#clip12)\" clip-rule=\"nonzero\">\n",
       "<path style=\"fill:none;stroke-width:1.066978;stroke-linecap:butt;stroke-linejoin:round;stroke:rgb(100%,100%,100%);stroke-opacity:1;stroke-miterlimit:10;\" d=\"M 43.152344 88.316406 L 498.519531 88.316406 \"/>\n",
       "</g>\n",
       "<g clip-path=\"url(#clip13)\" clip-rule=\"nonzero\">\n",
       "<path style=\"fill:none;stroke-width:1.066978;stroke-linecap:butt;stroke-linejoin:round;stroke:rgb(100%,100%,100%);stroke-opacity:1;stroke-miterlimit:10;\" d=\"M 59.492188 470.847656 L 59.492188 5.480469 \"/>\n",
       "</g>\n",
       "<g clip-path=\"url(#clip14)\" clip-rule=\"nonzero\">\n",
       "<path style=\"fill:none;stroke-width:1.066978;stroke-linecap:butt;stroke-linejoin:round;stroke:rgb(100%,100%,100%);stroke-opacity:1;stroke-miterlimit:10;\" d=\"M 168.433594 470.847656 L 168.433594 5.480469 \"/>\n",
       "</g>\n",
       "<g clip-path=\"url(#clip15)\" clip-rule=\"nonzero\">\n",
       "<path style=\"fill:none;stroke-width:1.066978;stroke-linecap:butt;stroke-linejoin:round;stroke:rgb(100%,100%,100%);stroke-opacity:1;stroke-miterlimit:10;\" d=\"M 277.371094 470.847656 L 277.371094 5.480469 \"/>\n",
       "</g>\n",
       "<g clip-path=\"url(#clip16)\" clip-rule=\"nonzero\">\n",
       "<path style=\"fill:none;stroke-width:1.066978;stroke-linecap:butt;stroke-linejoin:round;stroke:rgb(100%,100%,100%);stroke-opacity:1;stroke-miterlimit:10;\" d=\"M 386.3125 470.847656 L 386.3125 5.480469 \"/>\n",
       "</g>\n",
       "<g clip-path=\"url(#clip17)\" clip-rule=\"nonzero\">\n",
       "<path style=\"fill:none;stroke-width:1.066978;stroke-linecap:butt;stroke-linejoin:round;stroke:rgb(100%,100%,100%);stroke-opacity:1;stroke-miterlimit:10;\" d=\"M 495.253906 470.847656 L 495.253906 5.480469 \"/>\n",
       "</g>\n",
       "<path style=\"fill-rule:nonzero;fill:rgb(0%,0%,0%);fill-opacity:1;stroke-width:0.708661;stroke-linecap:round;stroke-linejoin:round;stroke:rgb(0%,0%,0%);stroke-opacity:1;stroke-miterlimit:10;\" d=\"M 65.804688 449.695312 C 65.804688 452.300781 61.894531 452.300781 61.894531 449.695312 C 61.894531 447.089844 65.804688 447.089844 65.804688 449.695312 \"/>\n",
       "<path style=\"fill-rule:nonzero;fill:rgb(0%,0%,0%);fill-opacity:1;stroke-width:0.708661;stroke-linecap:round;stroke-linejoin:round;stroke:rgb(0%,0%,0%);stroke-opacity:1;stroke-miterlimit:10;\" d=\"M 87.59375 84.675781 C 87.59375 87.285156 83.683594 87.285156 83.683594 84.675781 C 83.683594 82.070312 87.59375 82.070312 87.59375 84.675781 \"/>\n",
       "<path style=\"fill-rule:nonzero;fill:rgb(0%,0%,0%);fill-opacity:1;stroke-width:0.708661;stroke-linecap:round;stroke-linejoin:round;stroke:rgb(0%,0%,0%);stroke-opacity:1;stroke-miterlimit:10;\" d=\"M 109.378906 26.632812 C 109.378906 29.238281 105.46875 29.238281 105.46875 26.632812 C 105.46875 24.027344 109.378906 24.027344 109.378906 26.632812 \"/>\n",
       "<path style=\"fill-rule:nonzero;fill:rgb(0%,0%,0%);fill-opacity:1;stroke-width:0.708661;stroke-linecap:round;stroke-linejoin:round;stroke:rgb(0%,0%,0%);stroke-opacity:1;stroke-miterlimit:10;\" d=\"M 131.167969 83.8125 C 131.167969 86.417969 127.257812 86.417969 127.257812 83.8125 C 127.257812 81.203125 131.167969 81.203125 131.167969 83.8125 \"/>\n",
       "<path style=\"fill-rule:nonzero;fill:rgb(0%,0%,0%);fill-opacity:1;stroke-width:0.708661;stroke-linecap:round;stroke-linejoin:round;stroke:rgb(0%,0%,0%);stroke-opacity:1;stroke-miterlimit:10;\" d=\"M 152.957031 45.402344 C 152.957031 48.007812 149.046875 48.007812 149.046875 45.402344 C 149.046875 42.796875 152.957031 42.796875 152.957031 45.402344 \"/>\n",
       "<path style=\"fill-rule:nonzero;fill:rgb(0%,0%,0%);fill-opacity:1;stroke-width:0.708661;stroke-linecap:round;stroke-linejoin:round;stroke:rgb(0%,0%,0%);stroke-opacity:1;stroke-miterlimit:10;\" d=\"M 174.746094 84.101562 C 174.746094 86.707031 170.835938 86.707031 170.835938 84.101562 C 170.835938 81.492188 174.746094 81.492188 174.746094 84.101562 \"/>\n",
       "<path style=\"fill-rule:nonzero;fill:rgb(0%,0%,0%);fill-opacity:1;stroke-width:0.708661;stroke-linecap:round;stroke-linejoin:round;stroke:rgb(0%,0%,0%);stroke-opacity:1;stroke-miterlimit:10;\" d=\"M 196.53125 112.6875 C 196.53125 115.296875 192.621094 115.296875 192.621094 112.6875 C 192.621094 110.082031 196.53125 110.082031 196.53125 112.6875 \"/>\n",
       "<path style=\"fill-rule:nonzero;fill:rgb(0%,0%,0%);fill-opacity:1;stroke-width:0.708661;stroke-linecap:round;stroke-linejoin:round;stroke:rgb(0%,0%,0%);stroke-opacity:1;stroke-miterlimit:10;\" d=\"M 218.320312 112.976562 C 218.320312 115.585938 214.410156 115.585938 214.410156 112.976562 C 214.410156 110.371094 218.320312 110.371094 218.320312 112.976562 \"/>\n",
       "<path style=\"fill-rule:nonzero;fill:rgb(0%,0%,0%);fill-opacity:1;stroke-width:0.708661;stroke-linecap:round;stroke-linejoin:round;stroke:rgb(0%,0%,0%);stroke-opacity:1;stroke-miterlimit:10;\" d=\"M 240.109375 93.628906 C 240.109375 96.234375 236.199219 96.234375 236.199219 93.628906 C 236.199219 91.023438 240.109375 91.023438 240.109375 93.628906 \"/>\n",
       "<path style=\"fill-rule:nonzero;fill:rgb(0%,0%,0%);fill-opacity:1;stroke-width:0.708661;stroke-linecap:round;stroke-linejoin:round;stroke:rgb(0%,0%,0%);stroke-opacity:1;stroke-miterlimit:10;\" d=\"M 261.894531 93.628906 C 261.894531 96.234375 257.988281 96.234375 257.988281 93.628906 C 257.988281 91.023438 261.894531 91.023438 261.894531 93.628906 \"/>\n",
       "<path style=\"fill-rule:nonzero;fill:rgb(0%,0%,0%);fill-opacity:1;stroke-width:0.708661;stroke-linecap:round;stroke-linejoin:round;stroke:rgb(0%,0%,0%);stroke-opacity:1;stroke-miterlimit:10;\" d=\"M 283.683594 112.6875 C 283.683594 115.296875 279.773438 115.296875 279.773438 112.6875 C 279.773438 110.082031 283.683594 110.082031 283.683594 112.6875 \"/>\n",
       "<path style=\"fill-rule:nonzero;fill:rgb(0%,0%,0%);fill-opacity:1;stroke-width:0.708661;stroke-linecap:round;stroke-linejoin:round;stroke:rgb(0%,0%,0%);stroke-opacity:1;stroke-miterlimit:10;\" d=\"M 305.472656 93.628906 C 305.472656 96.234375 301.5625 96.234375 301.5625 93.628906 C 301.5625 91.023438 305.472656 91.023438 305.472656 93.628906 \"/>\n",
       "<path style=\"fill-rule:nonzero;fill:rgb(0%,0%,0%);fill-opacity:1;stroke-width:0.708661;stroke-linecap:round;stroke-linejoin:round;stroke:rgb(0%,0%,0%);stroke-opacity:1;stroke-miterlimit:10;\" d=\"M 327.261719 103.160156 C 327.261719 105.765625 323.351562 105.765625 323.351562 103.160156 C 323.351562 100.554688 327.261719 100.554688 327.261719 103.160156 \"/>\n",
       "<path style=\"fill-rule:nonzero;fill:rgb(0%,0%,0%);fill-opacity:1;stroke-width:0.708661;stroke-linecap:round;stroke-linejoin:round;stroke:rgb(0%,0%,0%);stroke-opacity:1;stroke-miterlimit:10;\" d=\"M 349.046875 102.871094 C 349.046875 105.476562 345.140625 105.476562 345.140625 102.871094 C 345.140625 100.265625 349.046875 100.265625 349.046875 102.871094 \"/>\n",
       "<path style=\"fill-rule:nonzero;fill:rgb(0%,0%,0%);fill-opacity:1;stroke-width:0.708661;stroke-linecap:round;stroke-linejoin:round;stroke:rgb(0%,0%,0%);stroke-opacity:1;stroke-miterlimit:10;\" d=\"M 370.835938 83.8125 C 370.835938 86.417969 366.925781 86.417969 366.925781 83.8125 C 366.925781 81.203125 370.835938 81.203125 370.835938 83.8125 \"/>\n",
       "<path style=\"fill-rule:nonzero;fill:rgb(0%,0%,0%);fill-opacity:1;stroke-width:0.708661;stroke-linecap:round;stroke-linejoin:round;stroke:rgb(0%,0%,0%);stroke-opacity:1;stroke-miterlimit:10;\" d=\"M 392.625 93.339844 C 392.625 95.949219 388.714844 95.949219 388.714844 93.339844 C 388.714844 90.734375 392.625 90.734375 392.625 93.339844 \"/>\n",
       "<path style=\"fill-rule:nonzero;fill:rgb(0%,0%,0%);fill-opacity:1;stroke-width:0.708661;stroke-linecap:round;stroke-linejoin:round;stroke:rgb(0%,0%,0%);stroke-opacity:1;stroke-miterlimit:10;\" d=\"M 414.414062 73.414062 C 414.414062 76.019531 410.503906 76.019531 410.503906 73.414062 C 410.503906 70.808594 414.414062 70.808594 414.414062 73.414062 \"/>\n",
       "<path style=\"fill-rule:nonzero;fill:rgb(0%,0%,0%);fill-opacity:1;stroke-width:0.708661;stroke-linecap:round;stroke-linejoin:round;stroke:rgb(0%,0%,0%);stroke-opacity:1;stroke-miterlimit:10;\" d=\"M 436.199219 64.460938 C 436.199219 67.070312 432.292969 67.070312 432.292969 64.460938 C 432.292969 61.855469 436.199219 61.855469 436.199219 64.460938 \"/>\n",
       "<path style=\"fill-rule:nonzero;fill:rgb(0%,0%,0%);fill-opacity:1;stroke-width:0.708661;stroke-linecap:round;stroke-linejoin:round;stroke:rgb(0%,0%,0%);stroke-opacity:1;stroke-miterlimit:10;\" d=\"M 457.988281 64.175781 C 457.988281 66.78125 454.078125 66.78125 454.078125 64.175781 C 454.078125 61.566406 457.988281 61.566406 457.988281 64.175781 \"/>\n",
       "<path style=\"fill-rule:nonzero;fill:rgb(0%,0%,0%);fill-opacity:1;stroke-width:0.708661;stroke-linecap:round;stroke-linejoin:round;stroke:rgb(0%,0%,0%);stroke-opacity:1;stroke-miterlimit:10;\" d=\"M 479.777344 83.523438 C 479.777344 86.128906 475.867188 86.128906 475.867188 83.523438 C 475.867188 80.914062 479.777344 80.914062 479.777344 83.523438 \"/>\n",
       "<path style=\"fill:none;stroke-width:1.066978;stroke-linecap:butt;stroke-linejoin:round;stroke:rgb(0%,0%,0%);stroke-opacity:1;stroke-miterlimit:10;\" d=\"M 63.847656 449.695312 L 85.636719 84.675781 L 107.425781 26.632812 L 129.214844 83.8125 L 151 45.402344 L 172.789062 84.101562 L 194.578125 112.6875 L 216.367188 112.976562 L 238.152344 93.628906 L 259.941406 93.628906 L 281.730469 112.6875 L 303.519531 93.628906 L 325.304688 103.160156 L 347.09375 102.871094 L 368.882812 83.8125 L 390.667969 93.339844 L 412.457031 73.414062 L 434.246094 64.460938 L 456.035156 64.175781 L 477.820312 83.523438 \"/>\n",
       "<g style=\"fill:rgb(30.196078%,30.196078%,30.196078%);fill-opacity:1;\">\n",
       "  <use xlink:href=\"#glyph0-1\" x=\"20.21875\" y=\"350.716797\"/>\n",
       "  <use xlink:href=\"#glyph0-2\" x=\"25.21875\" y=\"350.716797\"/>\n",
       "  <use xlink:href=\"#glyph0-3\" x=\"28.21875\" y=\"350.716797\"/>\n",
       "  <use xlink:href=\"#glyph0-4\" x=\"33.21875\" y=\"350.716797\"/>\n",
       "</g>\n",
       "<g style=\"fill:rgb(30.196078%,30.196078%,30.196078%);fill-opacity:1;\">\n",
       "  <use xlink:href=\"#glyph0-1\" x=\"20.21875\" y=\"221.111328\"/>\n",
       "  <use xlink:href=\"#glyph0-2\" x=\"25.21875\" y=\"221.111328\"/>\n",
       "  <use xlink:href=\"#glyph0-3\" x=\"28.21875\" y=\"221.111328\"/>\n",
       "  <use xlink:href=\"#glyph0-5\" x=\"33.21875\" y=\"221.111328\"/>\n",
       "</g>\n",
       "<g style=\"fill:rgb(30.196078%,30.196078%,30.196078%);fill-opacity:1;\">\n",
       "  <use xlink:href=\"#glyph0-1\" x=\"20.21875\" y=\"91.505859\"/>\n",
       "  <use xlink:href=\"#glyph0-2\" x=\"25.21875\" y=\"91.505859\"/>\n",
       "  <use xlink:href=\"#glyph0-3\" x=\"28.21875\" y=\"91.505859\"/>\n",
       "  <use xlink:href=\"#glyph0-6\" x=\"33.21875\" y=\"91.505859\"/>\n",
       "</g>\n",
       "<path style=\"fill:none;stroke-width:1.066978;stroke-linecap:butt;stroke-linejoin:round;stroke:rgb(20%,20%,20%);stroke-opacity:1;stroke-miterlimit:10;\" d=\"M 40.410156 347.527344 L 43.152344 347.527344 \"/>\n",
       "<path style=\"fill:none;stroke-width:1.066978;stroke-linecap:butt;stroke-linejoin:round;stroke:rgb(20%,20%,20%);stroke-opacity:1;stroke-miterlimit:10;\" d=\"M 40.410156 217.921875 L 43.152344 217.921875 \"/>\n",
       "<path style=\"fill:none;stroke-width:1.066978;stroke-linecap:butt;stroke-linejoin:round;stroke:rgb(20%,20%,20%);stroke-opacity:1;stroke-miterlimit:10;\" d=\"M 40.410156 88.316406 L 43.152344 88.316406 \"/>\n",
       "<path style=\"fill:none;stroke-width:1.066978;stroke-linecap:butt;stroke-linejoin:round;stroke:rgb(20%,20%,20%);stroke-opacity:1;stroke-miterlimit:10;\" d=\"M 59.492188 473.589844 L 59.492188 470.847656 \"/>\n",
       "<path style=\"fill:none;stroke-width:1.066978;stroke-linecap:butt;stroke-linejoin:round;stroke:rgb(20%,20%,20%);stroke-opacity:1;stroke-miterlimit:10;\" d=\"M 168.433594 473.589844 L 168.433594 470.847656 \"/>\n",
       "<path style=\"fill:none;stroke-width:1.066978;stroke-linecap:butt;stroke-linejoin:round;stroke:rgb(20%,20%,20%);stroke-opacity:1;stroke-miterlimit:10;\" d=\"M 277.371094 473.589844 L 277.371094 470.847656 \"/>\n",
       "<path style=\"fill:none;stroke-width:1.066978;stroke-linecap:butt;stroke-linejoin:round;stroke:rgb(20%,20%,20%);stroke-opacity:1;stroke-miterlimit:10;\" d=\"M 386.3125 473.589844 L 386.3125 470.847656 \"/>\n",
       "<path style=\"fill:none;stroke-width:1.066978;stroke-linecap:butt;stroke-linejoin:round;stroke:rgb(20%,20%,20%);stroke-opacity:1;stroke-miterlimit:10;\" d=\"M 495.253906 473.589844 L 495.253906 470.847656 \"/>\n",
       "<g style=\"fill:rgb(30.196078%,30.196078%,30.196078%);fill-opacity:1;\">\n",
       "  <use xlink:href=\"#glyph0-1\" x=\"56.992188\" y=\"482.470703\"/>\n",
       "</g>\n",
       "<g style=\"fill:rgb(30.196078%,30.196078%,30.196078%);fill-opacity:1;\">\n",
       "  <use xlink:href=\"#glyph0-4\" x=\"163.433594\" y=\"482.470703\"/>\n",
       "  <use xlink:href=\"#glyph0-7\" x=\"168.433594\" y=\"482.470703\"/>\n",
       "</g>\n",
       "<g style=\"fill:rgb(30.196078%,30.196078%,30.196078%);fill-opacity:1;\">\n",
       "  <use xlink:href=\"#glyph0-7\" x=\"272.371094\" y=\"482.470703\"/>\n",
       "  <use xlink:href=\"#glyph0-1\" x=\"277.371094\" y=\"482.470703\"/>\n",
       "</g>\n",
       "<g style=\"fill:rgb(30.196078%,30.196078%,30.196078%);fill-opacity:1;\">\n",
       "  <use xlink:href=\"#glyph0-8\" x=\"381.3125\" y=\"482.470703\"/>\n",
       "  <use xlink:href=\"#glyph0-7\" x=\"386.3125\" y=\"482.470703\"/>\n",
       "</g>\n",
       "<g style=\"fill:rgb(30.196078%,30.196078%,30.196078%);fill-opacity:1;\">\n",
       "  <use xlink:href=\"#glyph0-9\" x=\"487.753906\" y=\"482.470703\"/>\n",
       "  <use xlink:href=\"#glyph0-1\" x=\"492.753906\" y=\"482.470703\"/>\n",
       "  <use xlink:href=\"#glyph0-1\" x=\"497.753906\" y=\"482.470703\"/>\n",
       "</g>\n",
       "<g style=\"fill:rgb(0%,0%,0%);fill-opacity:1;\">\n",
       "  <use xlink:href=\"#glyph1-1\" x=\"242.335938\" y=\"495.382812\"/>\n",
       "  <use xlink:href=\"#glyph1-2\" x=\"251.335938\" y=\"495.382812\"/>\n",
       "  <use xlink:href=\"#glyph1-3\" x=\"258.335938\" y=\"495.382812\"/>\n",
       "  <use xlink:href=\"#glyph1-4\" x=\"261.335938\" y=\"495.382812\"/>\n",
       "  <use xlink:href=\"#glyph1-5\" x=\"268.335938\" y=\"495.382812\"/>\n",
       "  <use xlink:href=\"#glyph1-6\" x=\"275.335938\" y=\"495.382812\"/>\n",
       "  <use xlink:href=\"#glyph1-7\" x=\"282.335938\" y=\"495.382812\"/>\n",
       "  <use xlink:href=\"#glyph1-8\" x=\"289.335938\" y=\"495.382812\"/>\n",
       "  <use xlink:href=\"#glyph1-9\" x=\"293.335938\" y=\"495.382812\"/>\n",
       "</g>\n",
       "<g style=\"fill:rgb(0%,0%,0%);fill-opacity:1;\">\n",
       "  <use xlink:href=\"#glyph2-1\" x=\"14.34375\" y=\"288.164062\"/>\n",
       "  <use xlink:href=\"#glyph2-2\" x=\"14.34375\" y=\"280.164062\"/>\n",
       "  <use xlink:href=\"#glyph2-2\" x=\"14.34375\" y=\"274.164062\"/>\n",
       "  <use xlink:href=\"#glyph2-3\" x=\"14.34375\" y=\"268.164062\"/>\n",
       "  <use xlink:href=\"#glyph2-4\" x=\"14.34375\" y=\"261.164062\"/>\n",
       "  <use xlink:href=\"#glyph2-5\" x=\"14.34375\" y=\"257.164062\"/>\n",
       "  <use xlink:href=\"#glyph2-2\" x=\"14.34375\" y=\"250.164062\"/>\n",
       "  <use xlink:href=\"#glyph2-6\" x=\"14.34375\" y=\"244.164062\"/>\n",
       "  <use xlink:href=\"#glyph2-7\" x=\"14.34375\" y=\"238.164062\"/>\n",
       "  <use xlink:href=\"#glyph2-8\" x=\"14.34375\" y=\"235.164062\"/>\n",
       "  <use xlink:href=\"#glyph2-9\" x=\"14.34375\" y=\"227.164062\"/>\n",
       "  <use xlink:href=\"#glyph2-10\" x=\"14.34375\" y=\"221.164062\"/>\n",
       "  <use xlink:href=\"#glyph2-11\" x=\"14.34375\" y=\"218.164062\"/>\n",
       "  <use xlink:href=\"#glyph2-12\" x=\"14.34375\" y=\"215.164062\"/>\n",
       "  <use xlink:href=\"#glyph2-5\" x=\"14.34375\" y=\"205.164062\"/>\n",
       "  <use xlink:href=\"#glyph2-10\" x=\"14.34375\" y=\"198.164062\"/>\n",
       "  <use xlink:href=\"#glyph2-13\" x=\"14.34375\" y=\"195.164062\"/>\n",
       "</g>\n",
       "</g>\n",
       "</svg>\n"
      ],
      "text/plain": [
       "plot without title"
      ]
     },
     "metadata": {
      "application/pdf": {
       "height": 420,
       "width": 420
      },
      "image/jpeg": {
       "height": 420,
       "width": 420
      },
      "image/png": {
       "height": 420,
       "width": 420
      },
      "image/svg+xml": {
       "height": 420,
       "isolated": true,
       "width": 420
      }
     },
     "output_type": "display_data"
    }
   ],
   "source": [
    "accuracy_vs_k <- ggplot(accuracy, aes(x = neighbors, y = mean)) +\n",
    "  geom_point() +\n",
    "  geom_line() +\n",
    "  labs(x = \"Neighbors\", y = \"Accuracy Estimate\") +\n",
    "  theme(text = element_text(size = 12))\n",
    "\n",
    "accuracy_vs_k"
   ]
  },
  {
   "cell_type": "markdown",
   "id": "47e84a16-8324-4b87-8c8d-646dd4be9150",
   "metadata": {},
   "source": [
    "Find where mean is highest to definitively find best k. "
   ]
  },
  {
   "cell_type": "code",
   "execution_count": 10,
   "id": "ef466c06-6d56-49c8-bcee-5594c52b323b",
   "metadata": {},
   "outputs": [
    {
     "data": {
      "text/html": [
       "11"
      ],
      "text/latex": [
       "11"
      ],
      "text/markdown": [
       "11"
      ],
      "text/plain": [
       "[1] 11"
      ]
     },
     "metadata": {},
     "output_type": "display_data"
    }
   ],
   "source": [
    "best_k <- accuracy |>\n",
    "        arrange(desc(mean)) |>\n",
    "        head(1) |>\n",
    "        pull(neighbors)\n",
    "best_k"
   ]
  },
  {
   "cell_type": "markdown",
   "id": "b16a73cc-4a60-433b-870e-7a535b4db3a1",
   "metadata": {},
   "source": [
    "Fitting using new best k."
   ]
  },
  {
   "cell_type": "code",
   "execution_count": 11,
   "id": "2a833904-0d6b-4f56-8a00-436f0bf592ed",
   "metadata": {},
   "outputs": [
    {
     "data": {
      "text/plain": [
       "══ Workflow [trained] ══════════════════════════════════════════════════════════\n",
       "\u001b[3mPreprocessor:\u001b[23m Recipe\n",
       "\u001b[3mModel:\u001b[23m nearest_neighbor()\n",
       "\n",
       "── Preprocessor ────────────────────────────────────────────────────────────────\n",
       "2 Recipe Steps\n",
       "\n",
       "• step_scale()\n",
       "• step_center()\n",
       "\n",
       "── Model ───────────────────────────────────────────────────────────────────────\n",
       "\n",
       "Call:\n",
       "kknn::train.kknn(formula = ..y ~ ., data = data, ks = min_rows(11,     data, 5), kernel = ~\"rectangular\")\n",
       "\n",
       "Type of response variable: nominal\n",
       "Minimal misclassification: 0.1275964\n",
       "Best kernel: rectangular\n",
       "Best k: 11"
      ]
     },
     "metadata": {},
     "output_type": "display_data"
    }
   ],
   "source": [
    "knn_spec <- nearest_neighbor(weight_func = \"rectangular\", neighbors = best_k) |>\n",
    "  set_engine(\"kknn\") |>\n",
    "  set_mode(\"classification\")\n",
    "\n",
    "knn_fit <- workflow() |>\n",
    "  add_recipe(raisin_recipe) |>\n",
    "  add_model(knn_spec) |>\n",
    "  fit(data = raisin_train)\n",
    "\n",
    "knn_fit\n"
   ]
  },
  {
   "cell_type": "markdown",
   "id": "ee69f3da-0679-4647-a350-1233da830468",
   "metadata": {},
   "source": [
    "Predict and obtain accuracy."
   ]
  },
  {
   "cell_type": "code",
   "execution_count": 16,
   "id": "860c9e3c-d14f-48a0-a39b-f707431320aa",
   "metadata": {},
   "outputs": [
    {
     "data": {
      "text/html": [
       "<table class=\"dataframe\">\n",
       "<caption>A tibble: 226 × 9</caption>\n",
       "<thead>\n",
       "\t<tr><th scope=col>.pred_class</th><th scope=col>Area</th><th scope=col>Major_Axis_Length</th><th scope=col>Minor_Axis_Length</th><th scope=col>Eccentricity</th><th scope=col>Convex_Area</th><th scope=col>Extent</th><th scope=col>Perimeter</th><th scope=col>Class</th></tr>\n",
       "\t<tr><th scope=col>&lt;fct&gt;</th><th scope=col>&lt;dbl&gt;</th><th scope=col>&lt;dbl&gt;</th><th scope=col>&lt;dbl&gt;</th><th scope=col>&lt;dbl&gt;</th><th scope=col>&lt;dbl&gt;</th><th scope=col>&lt;dbl&gt;</th><th scope=col>&lt;dbl&gt;</th><th scope=col>&lt;fct&gt;</th></tr>\n",
       "</thead>\n",
       "<tbody>\n",
       "\t<tr><td>Besni  </td><td>87524</td><td>442.2460</td><td>253.2912</td><td>0.8197384</td><td>90546</td><td>0.7586506</td><td>1184.040</td><td>Kecimen</td></tr>\n",
       "\t<tr><td>Kecimen</td><td>75166</td><td>406.6907</td><td>243.0324</td><td>0.8018052</td><td>78789</td><td>0.6841296</td><td>1121.786</td><td>Kecimen</td></tr>\n",
       "\t<tr><td>Kecimen</td><td>79408</td><td>352.1908</td><td>290.8275</td><td>0.5640113</td><td>81463</td><td>0.7927719</td><td>1073.251</td><td>Kecimen</td></tr>\n",
       "\t<tr><td>⋮</td><td>⋮</td><td>⋮</td><td>⋮</td><td>⋮</td><td>⋮</td><td>⋮</td><td>⋮</td><td>⋮</td></tr>\n",
       "\t<tr><td>Besni  </td><td>94282</td><td>494.1630</td><td>244.8039</td><td>0.8686701</td><td>97707</td><td>0.7023862</td><td>1269.680</td><td>Besni</td></tr>\n",
       "\t<tr><td>Kecimen</td><td>68799</td><td>356.5678</td><td>253.2547</td><td>0.7039427</td><td>71879</td><td>0.7009292</td><td>1041.270</td><td>Besni</td></tr>\n",
       "\t<tr><td>Besni  </td><td>93523</td><td>476.3441</td><td>254.1761</td><td>0.8457385</td><td>97653</td><td>0.6587983</td><td>1258.548</td><td>Besni</td></tr>\n",
       "</tbody>\n",
       "</table>\n"
      ],
      "text/latex": [
       "A tibble: 226 × 9\n",
       "\\begin{tabular}{lllllllll}\n",
       " .pred\\_class & Area & Major\\_Axis\\_Length & Minor\\_Axis\\_Length & Eccentricity & Convex\\_Area & Extent & Perimeter & Class\\\\\n",
       " <fct> & <dbl> & <dbl> & <dbl> & <dbl> & <dbl> & <dbl> & <dbl> & <fct>\\\\\n",
       "\\hline\n",
       "\t Besni   & 87524 & 442.2460 & 253.2912 & 0.8197384 & 90546 & 0.7586506 & 1184.040 & Kecimen\\\\\n",
       "\t Kecimen & 75166 & 406.6907 & 243.0324 & 0.8018052 & 78789 & 0.6841296 & 1121.786 & Kecimen\\\\\n",
       "\t Kecimen & 79408 & 352.1908 & 290.8275 & 0.5640113 & 81463 & 0.7927719 & 1073.251 & Kecimen\\\\\n",
       "\t ⋮ & ⋮ & ⋮ & ⋮ & ⋮ & ⋮ & ⋮ & ⋮ & ⋮\\\\\n",
       "\t Besni   & 94282 & 494.1630 & 244.8039 & 0.8686701 & 97707 & 0.7023862 & 1269.680 & Besni\\\\\n",
       "\t Kecimen & 68799 & 356.5678 & 253.2547 & 0.7039427 & 71879 & 0.7009292 & 1041.270 & Besni\\\\\n",
       "\t Besni   & 93523 & 476.3441 & 254.1761 & 0.8457385 & 97653 & 0.6587983 & 1258.548 & Besni\\\\\n",
       "\\end{tabular}\n"
      ],
      "text/markdown": [
       "\n",
       "A tibble: 226 × 9\n",
       "\n",
       "| .pred_class &lt;fct&gt; | Area &lt;dbl&gt; | Major_Axis_Length &lt;dbl&gt; | Minor_Axis_Length &lt;dbl&gt; | Eccentricity &lt;dbl&gt; | Convex_Area &lt;dbl&gt; | Extent &lt;dbl&gt; | Perimeter &lt;dbl&gt; | Class &lt;fct&gt; |\n",
       "|---|---|---|---|---|---|---|---|---|\n",
       "| Besni   | 87524 | 442.2460 | 253.2912 | 0.8197384 | 90546 | 0.7586506 | 1184.040 | Kecimen |\n",
       "| Kecimen | 75166 | 406.6907 | 243.0324 | 0.8018052 | 78789 | 0.6841296 | 1121.786 | Kecimen |\n",
       "| Kecimen | 79408 | 352.1908 | 290.8275 | 0.5640113 | 81463 | 0.7927719 | 1073.251 | Kecimen |\n",
       "| ⋮ | ⋮ | ⋮ | ⋮ | ⋮ | ⋮ | ⋮ | ⋮ | ⋮ |\n",
       "| Besni   | 94282 | 494.1630 | 244.8039 | 0.8686701 | 97707 | 0.7023862 | 1269.680 | Besni |\n",
       "| Kecimen | 68799 | 356.5678 | 253.2547 | 0.7039427 | 71879 | 0.7009292 | 1041.270 | Besni |\n",
       "| Besni   | 93523 | 476.3441 | 254.1761 | 0.8457385 | 97653 | 0.6587983 | 1258.548 | Besni |\n",
       "\n"
      ],
      "text/plain": [
       "    .pred_class Area  Major_Axis_Length Minor_Axis_Length Eccentricity\n",
       "1   Besni       87524 442.2460          253.2912          0.8197384   \n",
       "2   Kecimen     75166 406.6907          243.0324          0.8018052   \n",
       "3   Kecimen     79408 352.1908          290.8275          0.5640113   \n",
       "⋮   ⋮           ⋮     ⋮                 ⋮                 ⋮           \n",
       "224 Besni       94282 494.1630          244.8039          0.8686701   \n",
       "225 Kecimen     68799 356.5678          253.2547          0.7039427   \n",
       "226 Besni       93523 476.3441          254.1761          0.8457385   \n",
       "    Convex_Area Extent    Perimeter Class  \n",
       "1   90546       0.7586506 1184.040  Kecimen\n",
       "2   78789       0.6841296 1121.786  Kecimen\n",
       "3   81463       0.7927719 1073.251  Kecimen\n",
       "⋮   ⋮           ⋮         ⋮         ⋮      \n",
       "224 97707       0.7023862 1269.680  Besni  \n",
       "225 71879       0.7009292 1041.270  Besni  \n",
       "226 97653       0.6587983 1258.548  Besni  "
      ]
     },
     "metadata": {},
     "output_type": "display_data"
    },
    {
     "data": {
      "text/html": [
       "<table class=\"dataframe\">\n",
       "<caption>A tibble: 1 × 3</caption>\n",
       "<thead>\n",
       "\t<tr><th scope=col>.metric</th><th scope=col>.estimator</th><th scope=col>.estimate</th></tr>\n",
       "\t<tr><th scope=col>&lt;chr&gt;</th><th scope=col>&lt;chr&gt;</th><th scope=col>&lt;dbl&gt;</th></tr>\n",
       "</thead>\n",
       "<tbody>\n",
       "\t<tr><td>accuracy</td><td>binary</td><td>0.8274336</td></tr>\n",
       "</tbody>\n",
       "</table>\n"
      ],
      "text/latex": [
       "A tibble: 1 × 3\n",
       "\\begin{tabular}{lll}\n",
       " .metric & .estimator & .estimate\\\\\n",
       " <chr> & <chr> & <dbl>\\\\\n",
       "\\hline\n",
       "\t accuracy & binary & 0.8274336\\\\\n",
       "\\end{tabular}\n"
      ],
      "text/markdown": [
       "\n",
       "A tibble: 1 × 3\n",
       "\n",
       "| .metric &lt;chr&gt; | .estimator &lt;chr&gt; | .estimate &lt;dbl&gt; |\n",
       "|---|---|---|\n",
       "| accuracy | binary | 0.8274336 |\n",
       "\n"
      ],
      "text/plain": [
       "  .metric  .estimator .estimate\n",
       "1 accuracy binary     0.8274336"
      ]
     },
     "metadata": {},
     "output_type": "display_data"
    }
   ],
   "source": [
    "raisin_predictions <- predict(knn_fit, raisin_test) |>\n",
    "  bind_cols(raisin_test)\n",
    "raisin_predictions\n",
    "raisin_predictions |>\n",
    "  metrics(truth = Class, estimate = .pred_class) |>\n",
    "  filter(.metric == \"accuracy\")"
   ]
  },
  {
   "cell_type": "markdown",
   "id": "bfa9c3e2-041f-49df-8c5e-cc343fff886c",
   "metadata": {},
   "source": [
    "Estimated precision."
   ]
  },
  {
   "cell_type": "code",
   "execution_count": 13,
   "id": "50f38bf6-c5e7-4a2e-ba73-9b977a51be59",
   "metadata": {},
   "outputs": [
    {
     "data": {
      "text/html": [
       "<table class=\"dataframe\">\n",
       "<caption>A tibble: 1 × 3</caption>\n",
       "<thead>\n",
       "\t<tr><th scope=col>.metric</th><th scope=col>.estimator</th><th scope=col>.estimate</th></tr>\n",
       "\t<tr><th scope=col>&lt;chr&gt;</th><th scope=col>&lt;chr&gt;</th><th scope=col>&lt;dbl&gt;</th></tr>\n",
       "</thead>\n",
       "<tbody>\n",
       "\t<tr><td>precision</td><td>binary</td><td>0.7761194</td></tr>\n",
       "</tbody>\n",
       "</table>\n"
      ],
      "text/latex": [
       "A tibble: 1 × 3\n",
       "\\begin{tabular}{lll}\n",
       " .metric & .estimator & .estimate\\\\\n",
       " <chr> & <chr> & <dbl>\\\\\n",
       "\\hline\n",
       "\t precision & binary & 0.7761194\\\\\n",
       "\\end{tabular}\n"
      ],
      "text/markdown": [
       "\n",
       "A tibble: 1 × 3\n",
       "\n",
       "| .metric &lt;chr&gt; | .estimator &lt;chr&gt; | .estimate &lt;dbl&gt; |\n",
       "|---|---|---|\n",
       "| precision | binary | 0.7761194 |\n",
       "\n"
      ],
      "text/plain": [
       "  .metric   .estimator .estimate\n",
       "1 precision binary     0.7761194"
      ]
     },
     "metadata": {},
     "output_type": "display_data"
    }
   ],
   "source": [
    "raisin_predictions |>\n",
    "    precision(truth = Class, estimate = .pred_class, event_level=\"first\")"
   ]
  },
  {
   "cell_type": "markdown",
   "id": "7212bd78-826d-4e69-98f1-f85dbaa69ac1",
   "metadata": {},
   "source": [
    "Estimated recall."
   ]
  },
  {
   "cell_type": "code",
   "execution_count": 14,
   "id": "dcc8666c-9c28-4a6c-a960-94a66a0db18a",
   "metadata": {},
   "outputs": [
    {
     "data": {
      "text/html": [
       "<table class=\"dataframe\">\n",
       "<caption>A tibble: 1 × 3</caption>\n",
       "<thead>\n",
       "\t<tr><th scope=col>.metric</th><th scope=col>.estimator</th><th scope=col>.estimate</th></tr>\n",
       "\t<tr><th scope=col>&lt;chr&gt;</th><th scope=col>&lt;chr&gt;</th><th scope=col>&lt;dbl&gt;</th></tr>\n",
       "</thead>\n",
       "<tbody>\n",
       "\t<tr><td>recall</td><td>binary</td><td>0.920354</td></tr>\n",
       "</tbody>\n",
       "</table>\n"
      ],
      "text/latex": [
       "A tibble: 1 × 3\n",
       "\\begin{tabular}{lll}\n",
       " .metric & .estimator & .estimate\\\\\n",
       " <chr> & <chr> & <dbl>\\\\\n",
       "\\hline\n",
       "\t recall & binary & 0.920354\\\\\n",
       "\\end{tabular}\n"
      ],
      "text/markdown": [
       "\n",
       "A tibble: 1 × 3\n",
       "\n",
       "| .metric &lt;chr&gt; | .estimator &lt;chr&gt; | .estimate &lt;dbl&gt; |\n",
       "|---|---|---|\n",
       "| recall | binary | 0.920354 |\n",
       "\n"
      ],
      "text/plain": [
       "  .metric .estimator .estimate\n",
       "1 recall  binary     0.920354 "
      ]
     },
     "metadata": {},
     "output_type": "display_data"
    }
   ],
   "source": [
    "raisin_predictions |>\n",
    "    recall(truth = Class, estimate = .pred_class, event_level=\"first\")"
   ]
  },
  {
   "cell_type": "markdown",
   "id": "07f012de-1811-4418-beb7-080743225d65",
   "metadata": {},
   "source": [
    "Confusion matrix."
   ]
  },
  {
   "cell_type": "code",
   "execution_count": 15,
   "id": "c3839f3d-05f9-4259-844c-a25a24763558",
   "metadata": {},
   "outputs": [
    {
     "data": {
      "text/plain": [
       "          Truth\n",
       "Prediction Kecimen Besni\n",
       "   Kecimen     104    30\n",
       "   Besni         9    83"
      ]
     },
     "metadata": {},
     "output_type": "display_data"
    }
   ],
   "source": [
    "confusion_matrix <- raisin_predictions |>\n",
    "             conf_mat(truth = Class, estimate = .pred_class)\n",
    "confusion_matrix"
   ]
  }
 ],
 "metadata": {
  "kernelspec": {
   "display_name": "R",
   "language": "R",
   "name": "ir"
  },
  "language_info": {
   "codemirror_mode": "r",
   "file_extension": ".r",
   "mimetype": "text/x-r-source",
   "name": "R",
   "pygments_lexer": "r",
   "version": "4.3.1"
  }
 },
 "nbformat": 4,
 "nbformat_minor": 5
}
