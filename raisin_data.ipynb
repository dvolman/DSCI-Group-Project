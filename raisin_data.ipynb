{
 "cells": [
  {
   "cell_type": "code",
   "execution_count": 1,
   "id": "ab13efb9-f804-4d19-849b-c3774ee40862",
   "metadata": {},
   "outputs": [
    {
     "name": "stderr",
     "output_type": "stream",
     "text": [
      "── \u001b[1mAttaching core tidyverse packages\u001b[22m ──────────────────────── tidyverse 2.0.0 ──\n",
      "\u001b[32m✔\u001b[39m \u001b[34mdplyr    \u001b[39m 1.1.3     \u001b[32m✔\u001b[39m \u001b[34mreadr    \u001b[39m 2.1.4\n",
      "\u001b[32m✔\u001b[39m \u001b[34mforcats  \u001b[39m 1.0.0     \u001b[32m✔\u001b[39m \u001b[34mstringr  \u001b[39m 1.5.0\n",
      "\u001b[32m✔\u001b[39m \u001b[34mggplot2  \u001b[39m 3.4.4     \u001b[32m✔\u001b[39m \u001b[34mtibble   \u001b[39m 3.2.1\n",
      "\u001b[32m✔\u001b[39m \u001b[34mlubridate\u001b[39m 1.9.3     \u001b[32m✔\u001b[39m \u001b[34mtidyr    \u001b[39m 1.3.0\n",
      "\u001b[32m✔\u001b[39m \u001b[34mpurrr    \u001b[39m 1.0.2     \n",
      "── \u001b[1mConflicts\u001b[22m ────────────────────────────────────────── tidyverse_conflicts() ──\n",
      "\u001b[31m✖\u001b[39m \u001b[34mdplyr\u001b[39m::\u001b[32mfilter()\u001b[39m masks \u001b[34mstats\u001b[39m::filter()\n",
      "\u001b[31m✖\u001b[39m \u001b[34mdplyr\u001b[39m::\u001b[32mlag()\u001b[39m    masks \u001b[34mstats\u001b[39m::lag()\n",
      "\u001b[36mℹ\u001b[39m Use the conflicted package (\u001b[3m\u001b[34m<http://conflicted.r-lib.org/>\u001b[39m\u001b[23m) to force all conflicts to become errors\n",
      "── \u001b[1mAttaching packages\u001b[22m ────────────────────────────────────── tidymodels 1.1.1 ──\n",
      "\n",
      "\u001b[32m✔\u001b[39m \u001b[34mbroom       \u001b[39m 1.0.5     \u001b[32m✔\u001b[39m \u001b[34mrsample     \u001b[39m 1.2.0\n",
      "\u001b[32m✔\u001b[39m \u001b[34mdials       \u001b[39m 1.2.0     \u001b[32m✔\u001b[39m \u001b[34mtune        \u001b[39m 1.1.2\n",
      "\u001b[32m✔\u001b[39m \u001b[34minfer       \u001b[39m 1.0.5     \u001b[32m✔\u001b[39m \u001b[34mworkflows   \u001b[39m 1.1.3\n",
      "\u001b[32m✔\u001b[39m \u001b[34mmodeldata   \u001b[39m 1.2.0     \u001b[32m✔\u001b[39m \u001b[34mworkflowsets\u001b[39m 1.0.1\n",
      "\u001b[32m✔\u001b[39m \u001b[34mparsnip     \u001b[39m 1.1.1     \u001b[32m✔\u001b[39m \u001b[34myardstick   \u001b[39m 1.2.0\n",
      "\u001b[32m✔\u001b[39m \u001b[34mrecipes     \u001b[39m 1.0.8     \n",
      "\n",
      "── \u001b[1mConflicts\u001b[22m ───────────────────────────────────────── tidymodels_conflicts() ──\n",
      "\u001b[31m✖\u001b[39m \u001b[34mscales\u001b[39m::\u001b[32mdiscard()\u001b[39m masks \u001b[34mpurrr\u001b[39m::discard()\n",
      "\u001b[31m✖\u001b[39m \u001b[34mdplyr\u001b[39m::\u001b[32mfilter()\u001b[39m   masks \u001b[34mstats\u001b[39m::filter()\n",
      "\u001b[31m✖\u001b[39m \u001b[34mrecipes\u001b[39m::\u001b[32mfixed()\u001b[39m  masks \u001b[34mstringr\u001b[39m::fixed()\n",
      "\u001b[31m✖\u001b[39m \u001b[34mdplyr\u001b[39m::\u001b[32mlag()\u001b[39m      masks \u001b[34mstats\u001b[39m::lag()\n",
      "\u001b[31m✖\u001b[39m \u001b[34myardstick\u001b[39m::\u001b[32mspec()\u001b[39m masks \u001b[34mreadr\u001b[39m::spec()\n",
      "\u001b[31m✖\u001b[39m \u001b[34mrecipes\u001b[39m::\u001b[32mstep()\u001b[39m   masks \u001b[34mstats\u001b[39m::step()\n",
      "\u001b[34m•\u001b[39m Use \u001b[32mtidymodels_prefer()\u001b[39m to resolve common conflicts.\n",
      "\n"
     ]
    }
   ],
   "source": [
    "library(tidyverse)\n",
    "library(tidymodels)\n",
    "library(repr)\n",
    "options(repr.matrix.max.rows = 6)\n",
    "set.seed(5)"
   ]
  },
  {
   "cell_type": "markdown",
   "id": "725cfac8-64d1-4263-909d-c7c7826e5101",
   "metadata": {},
   "source": [
    "Read dataset from web into R"
   ]
  },
  {
   "cell_type": "code",
   "execution_count": 2,
   "id": "3c151af7-b41a-4b3f-aa0d-861918e6f426",
   "metadata": {},
   "outputs": [
    {
     "name": "stderr",
     "output_type": "stream",
     "text": [
      "\u001b[1mRows: \u001b[22m\u001b[34m900\u001b[39m \u001b[1mColumns: \u001b[22m\u001b[34m8\u001b[39m\n",
      "\u001b[36m──\u001b[39m \u001b[1mColumn specification\u001b[22m \u001b[36m────────────────────────────────────────────────────────\u001b[39m\n",
      "\u001b[1mDelimiter:\u001b[22m \",\"\n",
      "\u001b[31mchr\u001b[39m (1): Class\n",
      "\u001b[32mdbl\u001b[39m (7): Area, MajorAxisLength, MinorAxisLength, Eccentricity, ConvexArea, E...\n",
      "\n",
      "\u001b[36mℹ\u001b[39m Use `spec()` to retrieve the full column specification for this data.\n",
      "\u001b[36mℹ\u001b[39m Specify the column types or set `show_col_types = FALSE` to quiet this message.\n"
     ]
    },
    {
     "data": {
      "text/html": [
       "<table class=\"dataframe\">\n",
       "<caption>A spec_tbl_df: 900 × 8</caption>\n",
       "<thead>\n",
       "\t<tr><th scope=col>Area</th><th scope=col>MajorAxisLength</th><th scope=col>MinorAxisLength</th><th scope=col>Eccentricity</th><th scope=col>ConvexArea</th><th scope=col>Extent</th><th scope=col>Perimeter</th><th scope=col>Class</th></tr>\n",
       "\t<tr><th scope=col>&lt;dbl&gt;</th><th scope=col>&lt;dbl&gt;</th><th scope=col>&lt;dbl&gt;</th><th scope=col>&lt;dbl&gt;</th><th scope=col>&lt;dbl&gt;</th><th scope=col>&lt;dbl&gt;</th><th scope=col>&lt;dbl&gt;</th><th scope=col>&lt;chr&gt;</th></tr>\n",
       "</thead>\n",
       "<tbody>\n",
       "\t<tr><td>87524</td><td>442.2460</td><td>253.2912</td><td>0.8197384</td><td>90546</td><td>0.7586506</td><td>1184.040</td><td>Kecimen</td></tr>\n",
       "\t<tr><td>75166</td><td>406.6907</td><td>243.0324</td><td>0.8018052</td><td>78789</td><td>0.6841296</td><td>1121.786</td><td>Kecimen</td></tr>\n",
       "\t<tr><td>90856</td><td>442.2670</td><td>266.3283</td><td>0.7983536</td><td>93717</td><td>0.6376128</td><td>1208.575</td><td>Kecimen</td></tr>\n",
       "\t<tr><td>⋮</td><td>⋮</td><td>⋮</td><td>⋮</td><td>⋮</td><td>⋮</td><td>⋮</td><td>⋮</td></tr>\n",
       "\t<tr><td>99657</td><td>431.7070</td><td>298.8373</td><td>0.7216841</td><td>106264</td><td>0.7410985</td><td>1292.828</td><td>Besni</td></tr>\n",
       "\t<tr><td>93523</td><td>476.3441</td><td>254.1761</td><td>0.8457385</td><td> 97653</td><td>0.6587983</td><td>1258.548</td><td>Besni</td></tr>\n",
       "\t<tr><td>85609</td><td>512.0818</td><td>215.2720</td><td>0.9073454</td><td> 89197</td><td>0.6320200</td><td>1272.862</td><td>Besni</td></tr>\n",
       "</tbody>\n",
       "</table>\n"
      ],
      "text/latex": [
       "A spec\\_tbl\\_df: 900 × 8\n",
       "\\begin{tabular}{llllllll}\n",
       " Area & MajorAxisLength & MinorAxisLength & Eccentricity & ConvexArea & Extent & Perimeter & Class\\\\\n",
       " <dbl> & <dbl> & <dbl> & <dbl> & <dbl> & <dbl> & <dbl> & <chr>\\\\\n",
       "\\hline\n",
       "\t 87524 & 442.2460 & 253.2912 & 0.8197384 & 90546 & 0.7586506 & 1184.040 & Kecimen\\\\\n",
       "\t 75166 & 406.6907 & 243.0324 & 0.8018052 & 78789 & 0.6841296 & 1121.786 & Kecimen\\\\\n",
       "\t 90856 & 442.2670 & 266.3283 & 0.7983536 & 93717 & 0.6376128 & 1208.575 & Kecimen\\\\\n",
       "\t ⋮ & ⋮ & ⋮ & ⋮ & ⋮ & ⋮ & ⋮ & ⋮\\\\\n",
       "\t 99657 & 431.7070 & 298.8373 & 0.7216841 & 106264 & 0.7410985 & 1292.828 & Besni\\\\\n",
       "\t 93523 & 476.3441 & 254.1761 & 0.8457385 &  97653 & 0.6587983 & 1258.548 & Besni\\\\\n",
       "\t 85609 & 512.0818 & 215.2720 & 0.9073454 &  89197 & 0.6320200 & 1272.862 & Besni\\\\\n",
       "\\end{tabular}\n"
      ],
      "text/markdown": [
       "\n",
       "A spec_tbl_df: 900 × 8\n",
       "\n",
       "| Area &lt;dbl&gt; | MajorAxisLength &lt;dbl&gt; | MinorAxisLength &lt;dbl&gt; | Eccentricity &lt;dbl&gt; | ConvexArea &lt;dbl&gt; | Extent &lt;dbl&gt; | Perimeter &lt;dbl&gt; | Class &lt;chr&gt; |\n",
       "|---|---|---|---|---|---|---|---|\n",
       "| 87524 | 442.2460 | 253.2912 | 0.8197384 | 90546 | 0.7586506 | 1184.040 | Kecimen |\n",
       "| 75166 | 406.6907 | 243.0324 | 0.8018052 | 78789 | 0.6841296 | 1121.786 | Kecimen |\n",
       "| 90856 | 442.2670 | 266.3283 | 0.7983536 | 93717 | 0.6376128 | 1208.575 | Kecimen |\n",
       "| ⋮ | ⋮ | ⋮ | ⋮ | ⋮ | ⋮ | ⋮ | ⋮ |\n",
       "| 99657 | 431.7070 | 298.8373 | 0.7216841 | 106264 | 0.7410985 | 1292.828 | Besni |\n",
       "| 93523 | 476.3441 | 254.1761 | 0.8457385 |  97653 | 0.6587983 | 1258.548 | Besni |\n",
       "| 85609 | 512.0818 | 215.2720 | 0.9073454 |  89197 | 0.6320200 | 1272.862 | Besni |\n",
       "\n"
      ],
      "text/plain": [
       "    Area  MajorAxisLength MinorAxisLength Eccentricity ConvexArea Extent   \n",
       "1   87524 442.2460        253.2912        0.8197384    90546      0.7586506\n",
       "2   75166 406.6907        243.0324        0.8018052    78789      0.6841296\n",
       "3   90856 442.2670        266.3283        0.7983536    93717      0.6376128\n",
       "⋮   ⋮     ⋮               ⋮               ⋮            ⋮          ⋮        \n",
       "898 99657 431.7070        298.8373        0.7216841    106264     0.7410985\n",
       "899 93523 476.3441        254.1761        0.8457385     97653     0.6587983\n",
       "900 85609 512.0818        215.2720        0.9073454     89197     0.6320200\n",
       "    Perimeter Class  \n",
       "1   1184.040  Kecimen\n",
       "2   1121.786  Kecimen\n",
       "3   1208.575  Kecimen\n",
       "⋮   ⋮         ⋮      \n",
       "898 1292.828  Besni  \n",
       "899 1258.548  Besni  \n",
       "900 1272.862  Besni  "
      ]
     },
     "metadata": {},
     "output_type": "display_data"
    }
   ],
   "source": [
    "url <- \"https://raw.githubusercontent.com/dvolman/DSCI-Group-Project/main/Raisin_Dataset.csv\"\n",
    "raisin_data <- read_csv(url)\n",
    "raisin_data"
   ]
  },
  {
   "cell_type": "markdown",
   "id": "365a4565-ee5b-4913-8780-38abe0cb87e7",
   "metadata": {},
   "source": [
    "Since we are treating `Class` as a categorical variable, we convert it into a factor."
   ]
  },
  {
   "cell_type": "code",
   "execution_count": 5,
   "id": "18e18c0b-4cca-4e85-87ba-7e538ab9c8ca",
   "metadata": {},
   "outputs": [
    {
     "data": {
      "text/html": [
       "<table class=\"dataframe\">\n",
       "<caption>A tibble: 900 × 8</caption>\n",
       "<thead>\n",
       "\t<tr><th scope=col>Area</th><th scope=col>MajorAxisLength</th><th scope=col>MinorAxisLength</th><th scope=col>Eccentricity</th><th scope=col>ConvexArea</th><th scope=col>Extent</th><th scope=col>Perimeter</th><th scope=col>Class</th></tr>\n",
       "\t<tr><th scope=col>&lt;dbl&gt;</th><th scope=col>&lt;dbl&gt;</th><th scope=col>&lt;dbl&gt;</th><th scope=col>&lt;dbl&gt;</th><th scope=col>&lt;dbl&gt;</th><th scope=col>&lt;dbl&gt;</th><th scope=col>&lt;dbl&gt;</th><th scope=col>&lt;fct&gt;</th></tr>\n",
       "</thead>\n",
       "<tbody>\n",
       "\t<tr><td>87524</td><td>442.2460</td><td>253.2912</td><td>0.8197384</td><td>90546</td><td>0.7586506</td><td>1184.040</td><td>Kecimen</td></tr>\n",
       "\t<tr><td>75166</td><td>406.6907</td><td>243.0324</td><td>0.8018052</td><td>78789</td><td>0.6841296</td><td>1121.786</td><td>Kecimen</td></tr>\n",
       "\t<tr><td>90856</td><td>442.2670</td><td>266.3283</td><td>0.7983536</td><td>93717</td><td>0.6376128</td><td>1208.575</td><td>Kecimen</td></tr>\n",
       "\t<tr><td>⋮</td><td>⋮</td><td>⋮</td><td>⋮</td><td>⋮</td><td>⋮</td><td>⋮</td><td>⋮</td></tr>\n",
       "\t<tr><td>99657</td><td>431.7070</td><td>298.8373</td><td>0.7216841</td><td>106264</td><td>0.7410985</td><td>1292.828</td><td>Besni</td></tr>\n",
       "\t<tr><td>93523</td><td>476.3441</td><td>254.1761</td><td>0.8457385</td><td> 97653</td><td>0.6587983</td><td>1258.548</td><td>Besni</td></tr>\n",
       "\t<tr><td>85609</td><td>512.0818</td><td>215.2720</td><td>0.9073454</td><td> 89197</td><td>0.6320200</td><td>1272.862</td><td>Besni</td></tr>\n",
       "</tbody>\n",
       "</table>\n"
      ],
      "text/latex": [
       "A tibble: 900 × 8\n",
       "\\begin{tabular}{llllllll}\n",
       " Area & MajorAxisLength & MinorAxisLength & Eccentricity & ConvexArea & Extent & Perimeter & Class\\\\\n",
       " <dbl> & <dbl> & <dbl> & <dbl> & <dbl> & <dbl> & <dbl> & <fct>\\\\\n",
       "\\hline\n",
       "\t 87524 & 442.2460 & 253.2912 & 0.8197384 & 90546 & 0.7586506 & 1184.040 & Kecimen\\\\\n",
       "\t 75166 & 406.6907 & 243.0324 & 0.8018052 & 78789 & 0.6841296 & 1121.786 & Kecimen\\\\\n",
       "\t 90856 & 442.2670 & 266.3283 & 0.7983536 & 93717 & 0.6376128 & 1208.575 & Kecimen\\\\\n",
       "\t ⋮ & ⋮ & ⋮ & ⋮ & ⋮ & ⋮ & ⋮ & ⋮\\\\\n",
       "\t 99657 & 431.7070 & 298.8373 & 0.7216841 & 106264 & 0.7410985 & 1292.828 & Besni\\\\\n",
       "\t 93523 & 476.3441 & 254.1761 & 0.8457385 &  97653 & 0.6587983 & 1258.548 & Besni\\\\\n",
       "\t 85609 & 512.0818 & 215.2720 & 0.9073454 &  89197 & 0.6320200 & 1272.862 & Besni\\\\\n",
       "\\end{tabular}\n"
      ],
      "text/markdown": [
       "\n",
       "A tibble: 900 × 8\n",
       "\n",
       "| Area &lt;dbl&gt; | MajorAxisLength &lt;dbl&gt; | MinorAxisLength &lt;dbl&gt; | Eccentricity &lt;dbl&gt; | ConvexArea &lt;dbl&gt; | Extent &lt;dbl&gt; | Perimeter &lt;dbl&gt; | Class &lt;fct&gt; |\n",
       "|---|---|---|---|---|---|---|---|\n",
       "| 87524 | 442.2460 | 253.2912 | 0.8197384 | 90546 | 0.7586506 | 1184.040 | Kecimen |\n",
       "| 75166 | 406.6907 | 243.0324 | 0.8018052 | 78789 | 0.6841296 | 1121.786 | Kecimen |\n",
       "| 90856 | 442.2670 | 266.3283 | 0.7983536 | 93717 | 0.6376128 | 1208.575 | Kecimen |\n",
       "| ⋮ | ⋮ | ⋮ | ⋮ | ⋮ | ⋮ | ⋮ | ⋮ |\n",
       "| 99657 | 431.7070 | 298.8373 | 0.7216841 | 106264 | 0.7410985 | 1292.828 | Besni |\n",
       "| 93523 | 476.3441 | 254.1761 | 0.8457385 |  97653 | 0.6587983 | 1258.548 | Besni |\n",
       "| 85609 | 512.0818 | 215.2720 | 0.9073454 |  89197 | 0.6320200 | 1272.862 | Besni |\n",
       "\n"
      ],
      "text/plain": [
       "    Area  MajorAxisLength MinorAxisLength Eccentricity ConvexArea Extent   \n",
       "1   87524 442.2460        253.2912        0.8197384    90546      0.7586506\n",
       "2   75166 406.6907        243.0324        0.8018052    78789      0.6841296\n",
       "3   90856 442.2670        266.3283        0.7983536    93717      0.6376128\n",
       "⋮   ⋮     ⋮               ⋮               ⋮            ⋮          ⋮        \n",
       "898 99657 431.7070        298.8373        0.7216841    106264     0.7410985\n",
       "899 93523 476.3441        254.1761        0.8457385     97653     0.6587983\n",
       "900 85609 512.0818        215.2720        0.9073454     89197     0.6320200\n",
       "    Perimeter Class  \n",
       "1   1184.040  Kecimen\n",
       "2   1121.786  Kecimen\n",
       "3   1208.575  Kecimen\n",
       "⋮   ⋮         ⋮      \n",
       "898 1292.828  Besni  \n",
       "899 1258.548  Besni  \n",
       "900 1272.862  Besni  "
      ]
     },
     "metadata": {},
     "output_type": "display_data"
    }
   ],
   "source": [
    "raisin_data <- raisin_data |>\n",
    "                mutate(Class = as_factor(Class))\n",
    "raisin_data"
   ]
  },
  {
   "cell_type": "markdown",
   "id": "333018af-272a-4031-bd18-6b0e808a0ad7",
   "metadata": {},
   "source": [
    "Splitting data into training set and testing set."
   ]
  },
  {
   "cell_type": "code",
   "execution_count": 6,
   "id": "ddad85d8-5a8d-4c33-8fe1-f290ac067ca0",
   "metadata": {},
   "outputs": [
    {
     "data": {
      "text/html": [
       "<table class=\"dataframe\">\n",
       "<caption>A tibble: 674 × 8</caption>\n",
       "<thead>\n",
       "\t<tr><th scope=col>Area</th><th scope=col>MajorAxisLength</th><th scope=col>MinorAxisLength</th><th scope=col>Eccentricity</th><th scope=col>ConvexArea</th><th scope=col>Extent</th><th scope=col>Perimeter</th><th scope=col>Class</th></tr>\n",
       "\t<tr><th scope=col>&lt;dbl&gt;</th><th scope=col>&lt;dbl&gt;</th><th scope=col>&lt;dbl&gt;</th><th scope=col>&lt;dbl&gt;</th><th scope=col>&lt;dbl&gt;</th><th scope=col>&lt;dbl&gt;</th><th scope=col>&lt;dbl&gt;</th><th scope=col>&lt;fct&gt;</th></tr>\n",
       "</thead>\n",
       "<tbody>\n",
       "\t<tr><td>137583</td><td>649.5415</td><td>273.2603</td><td>0.9072011</td><td>142650</td><td>0.7316377</td><td>1590.354</td><td>Besni</td></tr>\n",
       "\t<tr><td>117592</td><td>533.2929</td><td>288.5583</td><td>0.8409660</td><td>123587</td><td>0.7300677</td><td>1432.006</td><td>Besni</td></tr>\n",
       "\t<tr><td> 95546</td><td>487.1783</td><td>251.9602</td><td>0.8558749</td><td> 99166</td><td>0.7227820</td><td>1276.807</td><td>Besni</td></tr>\n",
       "\t<tr><td>⋮</td><td>⋮</td><td>⋮</td><td>⋮</td><td>⋮</td><td>⋮</td><td>⋮</td><td>⋮</td></tr>\n",
       "\t<tr><td>67874</td><td>360.0235</td><td>243.2720</td><td>0.7371662</td><td>69889</td><td>0.6783194</td><td>1035.277</td><td>Kecimen</td></tr>\n",
       "\t<tr><td>50312</td><td>354.2356</td><td>182.3121</td><td>0.8573923</td><td>52070</td><td>0.6233522</td><td> 961.439</td><td>Kecimen</td></tr>\n",
       "\t<tr><td>41995</td><td>259.2089</td><td>210.3508</td><td>0.5843375</td><td>43443</td><td>0.7297006</td><td> 801.526</td><td>Kecimen</td></tr>\n",
       "</tbody>\n",
       "</table>\n"
      ],
      "text/latex": [
       "A tibble: 674 × 8\n",
       "\\begin{tabular}{llllllll}\n",
       " Area & MajorAxisLength & MinorAxisLength & Eccentricity & ConvexArea & Extent & Perimeter & Class\\\\\n",
       " <dbl> & <dbl> & <dbl> & <dbl> & <dbl> & <dbl> & <dbl> & <fct>\\\\\n",
       "\\hline\n",
       "\t 137583 & 649.5415 & 273.2603 & 0.9072011 & 142650 & 0.7316377 & 1590.354 & Besni\\\\\n",
       "\t 117592 & 533.2929 & 288.5583 & 0.8409660 & 123587 & 0.7300677 & 1432.006 & Besni\\\\\n",
       "\t  95546 & 487.1783 & 251.9602 & 0.8558749 &  99166 & 0.7227820 & 1276.807 & Besni\\\\\n",
       "\t ⋮ & ⋮ & ⋮ & ⋮ & ⋮ & ⋮ & ⋮ & ⋮\\\\\n",
       "\t 67874 & 360.0235 & 243.2720 & 0.7371662 & 69889 & 0.6783194 & 1035.277 & Kecimen\\\\\n",
       "\t 50312 & 354.2356 & 182.3121 & 0.8573923 & 52070 & 0.6233522 &  961.439 & Kecimen\\\\\n",
       "\t 41995 & 259.2089 & 210.3508 & 0.5843375 & 43443 & 0.7297006 &  801.526 & Kecimen\\\\\n",
       "\\end{tabular}\n"
      ],
      "text/markdown": [
       "\n",
       "A tibble: 674 × 8\n",
       "\n",
       "| Area &lt;dbl&gt; | MajorAxisLength &lt;dbl&gt; | MinorAxisLength &lt;dbl&gt; | Eccentricity &lt;dbl&gt; | ConvexArea &lt;dbl&gt; | Extent &lt;dbl&gt; | Perimeter &lt;dbl&gt; | Class &lt;fct&gt; |\n",
       "|---|---|---|---|---|---|---|---|\n",
       "| 137583 | 649.5415 | 273.2603 | 0.9072011 | 142650 | 0.7316377 | 1590.354 | Besni |\n",
       "| 117592 | 533.2929 | 288.5583 | 0.8409660 | 123587 | 0.7300677 | 1432.006 | Besni |\n",
       "|  95546 | 487.1783 | 251.9602 | 0.8558749 |  99166 | 0.7227820 | 1276.807 | Besni |\n",
       "| ⋮ | ⋮ | ⋮ | ⋮ | ⋮ | ⋮ | ⋮ | ⋮ |\n",
       "| 67874 | 360.0235 | 243.2720 | 0.7371662 | 69889 | 0.6783194 | 1035.277 | Kecimen |\n",
       "| 50312 | 354.2356 | 182.3121 | 0.8573923 | 52070 | 0.6233522 |  961.439 | Kecimen |\n",
       "| 41995 | 259.2089 | 210.3508 | 0.5843375 | 43443 | 0.7297006 |  801.526 | Kecimen |\n",
       "\n"
      ],
      "text/plain": [
       "    Area   MajorAxisLength MinorAxisLength Eccentricity ConvexArea Extent   \n",
       "1   137583 649.5415        273.2603        0.9072011    142650     0.7316377\n",
       "2   117592 533.2929        288.5583        0.8409660    123587     0.7300677\n",
       "3    95546 487.1783        251.9602        0.8558749     99166     0.7227820\n",
       "⋮   ⋮      ⋮               ⋮               ⋮            ⋮          ⋮        \n",
       "672 67874  360.0235        243.2720        0.7371662    69889      0.6783194\n",
       "673 50312  354.2356        182.3121        0.8573923    52070      0.6233522\n",
       "674 41995  259.2089        210.3508        0.5843375    43443      0.7297006\n",
       "    Perimeter Class  \n",
       "1   1590.354  Besni  \n",
       "2   1432.006  Besni  \n",
       "3   1276.807  Besni  \n",
       "⋮   ⋮         ⋮      \n",
       "672 1035.277  Kecimen\n",
       "673  961.439  Kecimen\n",
       "674  801.526  Kecimen"
      ]
     },
     "metadata": {},
     "output_type": "display_data"
    },
    {
     "data": {
      "text/html": [
       "<table class=\"dataframe\">\n",
       "<caption>A tibble: 226 × 8</caption>\n",
       "<thead>\n",
       "\t<tr><th scope=col>Area</th><th scope=col>MajorAxisLength</th><th scope=col>MinorAxisLength</th><th scope=col>Eccentricity</th><th scope=col>ConvexArea</th><th scope=col>Extent</th><th scope=col>Perimeter</th><th scope=col>Class</th></tr>\n",
       "\t<tr><th scope=col>&lt;dbl&gt;</th><th scope=col>&lt;dbl&gt;</th><th scope=col>&lt;dbl&gt;</th><th scope=col>&lt;dbl&gt;</th><th scope=col>&lt;dbl&gt;</th><th scope=col>&lt;dbl&gt;</th><th scope=col>&lt;dbl&gt;</th><th scope=col>&lt;fct&gt;</th></tr>\n",
       "</thead>\n",
       "<tbody>\n",
       "\t<tr><td>87524</td><td>442.2460</td><td>253.2912</td><td>0.8197384</td><td>90546</td><td>0.7586506</td><td>1184.040</td><td>Kecimen</td></tr>\n",
       "\t<tr><td>75166</td><td>406.6907</td><td>243.0324</td><td>0.8018052</td><td>78789</td><td>0.6841296</td><td>1121.786</td><td>Kecimen</td></tr>\n",
       "\t<tr><td>79408</td><td>352.1908</td><td>290.8275</td><td>0.5640113</td><td>81463</td><td>0.7927719</td><td>1073.251</td><td>Kecimen</td></tr>\n",
       "\t<tr><td>⋮</td><td>⋮</td><td>⋮</td><td>⋮</td><td>⋮</td><td>⋮</td><td>⋮</td><td>⋮</td></tr>\n",
       "\t<tr><td>94282</td><td>494.1630</td><td>244.8039</td><td>0.8686701</td><td>97707</td><td>0.7023862</td><td>1269.680</td><td>Besni</td></tr>\n",
       "\t<tr><td>68799</td><td>356.5678</td><td>253.2547</td><td>0.7039427</td><td>71879</td><td>0.7009292</td><td>1041.270</td><td>Besni</td></tr>\n",
       "\t<tr><td>93523</td><td>476.3441</td><td>254.1761</td><td>0.8457385</td><td>97653</td><td>0.6587983</td><td>1258.548</td><td>Besni</td></tr>\n",
       "</tbody>\n",
       "</table>\n"
      ],
      "text/latex": [
       "A tibble: 226 × 8\n",
       "\\begin{tabular}{llllllll}\n",
       " Area & MajorAxisLength & MinorAxisLength & Eccentricity & ConvexArea & Extent & Perimeter & Class\\\\\n",
       " <dbl> & <dbl> & <dbl> & <dbl> & <dbl> & <dbl> & <dbl> & <fct>\\\\\n",
       "\\hline\n",
       "\t 87524 & 442.2460 & 253.2912 & 0.8197384 & 90546 & 0.7586506 & 1184.040 & Kecimen\\\\\n",
       "\t 75166 & 406.6907 & 243.0324 & 0.8018052 & 78789 & 0.6841296 & 1121.786 & Kecimen\\\\\n",
       "\t 79408 & 352.1908 & 290.8275 & 0.5640113 & 81463 & 0.7927719 & 1073.251 & Kecimen\\\\\n",
       "\t ⋮ & ⋮ & ⋮ & ⋮ & ⋮ & ⋮ & ⋮ & ⋮\\\\\n",
       "\t 94282 & 494.1630 & 244.8039 & 0.8686701 & 97707 & 0.7023862 & 1269.680 & Besni\\\\\n",
       "\t 68799 & 356.5678 & 253.2547 & 0.7039427 & 71879 & 0.7009292 & 1041.270 & Besni\\\\\n",
       "\t 93523 & 476.3441 & 254.1761 & 0.8457385 & 97653 & 0.6587983 & 1258.548 & Besni\\\\\n",
       "\\end{tabular}\n"
      ],
      "text/markdown": [
       "\n",
       "A tibble: 226 × 8\n",
       "\n",
       "| Area &lt;dbl&gt; | MajorAxisLength &lt;dbl&gt; | MinorAxisLength &lt;dbl&gt; | Eccentricity &lt;dbl&gt; | ConvexArea &lt;dbl&gt; | Extent &lt;dbl&gt; | Perimeter &lt;dbl&gt; | Class &lt;fct&gt; |\n",
       "|---|---|---|---|---|---|---|---|\n",
       "| 87524 | 442.2460 | 253.2912 | 0.8197384 | 90546 | 0.7586506 | 1184.040 | Kecimen |\n",
       "| 75166 | 406.6907 | 243.0324 | 0.8018052 | 78789 | 0.6841296 | 1121.786 | Kecimen |\n",
       "| 79408 | 352.1908 | 290.8275 | 0.5640113 | 81463 | 0.7927719 | 1073.251 | Kecimen |\n",
       "| ⋮ | ⋮ | ⋮ | ⋮ | ⋮ | ⋮ | ⋮ | ⋮ |\n",
       "| 94282 | 494.1630 | 244.8039 | 0.8686701 | 97707 | 0.7023862 | 1269.680 | Besni |\n",
       "| 68799 | 356.5678 | 253.2547 | 0.7039427 | 71879 | 0.7009292 | 1041.270 | Besni |\n",
       "| 93523 | 476.3441 | 254.1761 | 0.8457385 | 97653 | 0.6587983 | 1258.548 | Besni |\n",
       "\n"
      ],
      "text/plain": [
       "    Area  MajorAxisLength MinorAxisLength Eccentricity ConvexArea Extent   \n",
       "1   87524 442.2460        253.2912        0.8197384    90546      0.7586506\n",
       "2   75166 406.6907        243.0324        0.8018052    78789      0.6841296\n",
       "3   79408 352.1908        290.8275        0.5640113    81463      0.7927719\n",
       "⋮   ⋮     ⋮               ⋮               ⋮            ⋮          ⋮        \n",
       "224 94282 494.1630        244.8039        0.8686701    97707      0.7023862\n",
       "225 68799 356.5678        253.2547        0.7039427    71879      0.7009292\n",
       "226 93523 476.3441        254.1761        0.8457385    97653      0.6587983\n",
       "    Perimeter Class  \n",
       "1   1184.040  Kecimen\n",
       "2   1121.786  Kecimen\n",
       "3   1073.251  Kecimen\n",
       "⋮   ⋮         ⋮      \n",
       "224 1269.680  Besni  \n",
       "225 1041.270  Besni  \n",
       "226 1258.548  Besni  "
      ]
     },
     "metadata": {},
     "output_type": "display_data"
    }
   ],
   "source": [
    "raisin_split <- initial_split(raisin_data, prop = 0.75, strata = Class)\n",
    "raisin_training <- training(raisin_split)\n",
    "raisin_testing <- testing(raisin_split)\n",
    "raisin_training\n",
    "raisin_testing"
   ]
  },
  {
   "cell_type": "markdown",
   "id": "b758765b-bfc6-4aa7-896f-739caae0b14b",
   "metadata": {},
   "source": [
    "Summarize number of observations for each class as a percentage of total observations. Confirm there are no missing data. "
   ]
  },
  {
   "cell_type": "code",
   "execution_count": 11,
   "id": "2d9b3128-6969-4a43-9d6a-7b49b1ec141a",
   "metadata": {},
   "outputs": [
    {
     "data": {
      "text/html": [
       "<table class=\"dataframe\">\n",
       "<caption>A tibble: 2 × 4</caption>\n",
       "<thead>\n",
       "\t<tr><th scope=col>Class</th><th scope=col>count</th><th scope=col>percentage</th><th scope=col>missing_data</th></tr>\n",
       "\t<tr><th scope=col>&lt;fct&gt;</th><th scope=col>&lt;int&gt;</th><th scope=col>&lt;dbl&gt;</th><th scope=col>&lt;lgl&gt;</th></tr>\n",
       "</thead>\n",
       "<tbody>\n",
       "\t<tr><td>Kecimen</td><td>450</td><td>50</td><td>FALSE</td></tr>\n",
       "\t<tr><td>Besni  </td><td>450</td><td>50</td><td>FALSE</td></tr>\n",
       "</tbody>\n",
       "</table>\n"
      ],
      "text/latex": [
       "A tibble: 2 × 4\n",
       "\\begin{tabular}{llll}\n",
       " Class & count & percentage & missing\\_data\\\\\n",
       " <fct> & <int> & <dbl> & <lgl>\\\\\n",
       "\\hline\n",
       "\t Kecimen & 450 & 50 & FALSE\\\\\n",
       "\t Besni   & 450 & 50 & FALSE\\\\\n",
       "\\end{tabular}\n"
      ],
      "text/markdown": [
       "\n",
       "A tibble: 2 × 4\n",
       "\n",
       "| Class &lt;fct&gt; | count &lt;int&gt; | percentage &lt;dbl&gt; | missing_data &lt;lgl&gt; |\n",
       "|---|---|---|---|\n",
       "| Kecimen | 450 | 50 | FALSE |\n",
       "| Besni   | 450 | 50 | FALSE |\n",
       "\n"
      ],
      "text/plain": [
       "  Class   count percentage missing_data\n",
       "1 Kecimen 450   50         FALSE       \n",
       "2 Besni   450   50         FALSE       "
      ]
     },
     "metadata": {},
     "output_type": "display_data"
    }
   ],
   "source": [
    "missing_data <- any(is.na(raisin_training))\n",
    "total_obs <- nrow(raisin_data) \n",
    "summary <- raisin_data |>\n",
    "            group_by(Class) |>\n",
    "            summarize(count = n(), percentage = n() / total_obs * 100, missing_data = missing_data)\n",
    "summary"
   ]
  },
  {
   "cell_type": "markdown",
   "id": "ad43202e-cdcf-4cd4-b88d-b0b8d4991321",
   "metadata": {},
   "source": [
    "Mean values of predictors we will be using. "
   ]
  },
  {
   "cell_type": "code",
   "execution_count": 14,
   "id": "02d36b07-9893-467a-894c-4a9aca9747b3",
   "metadata": {},
   "outputs": [
    {
     "data": {
      "text/html": [
       "<table class=\"dataframe\">\n",
       "<caption>A tibble: 1 × 4</caption>\n",
       "<thead>\n",
       "\t<tr><th scope=col>mean_Area</th><th scope=col>mean_Major_Axis_Length</th><th scope=col>mean_Minor_Axis_Length</th><th scope=col>mean_Perimeter</th></tr>\n",
       "\t<tr><th scope=col>&lt;dbl&gt;</th><th scope=col>&lt;dbl&gt;</th><th scope=col>&lt;dbl&gt;</th><th scope=col>&lt;dbl&gt;</th></tr>\n",
       "</thead>\n",
       "<tbody>\n",
       "\t<tr><td>87804.13</td><td>430.93</td><td>254.4881</td><td>1165.907</td></tr>\n",
       "</tbody>\n",
       "</table>\n"
      ],
      "text/latex": [
       "A tibble: 1 × 4\n",
       "\\begin{tabular}{llll}\n",
       " mean\\_Area & mean\\_Major\\_Axis\\_Length & mean\\_Minor\\_Axis\\_Length & mean\\_Perimeter\\\\\n",
       " <dbl> & <dbl> & <dbl> & <dbl>\\\\\n",
       "\\hline\n",
       "\t 87804.13 & 430.93 & 254.4881 & 1165.907\\\\\n",
       "\\end{tabular}\n"
      ],
      "text/markdown": [
       "\n",
       "A tibble: 1 × 4\n",
       "\n",
       "| mean_Area &lt;dbl&gt; | mean_Major_Axis_Length &lt;dbl&gt; | mean_Minor_Axis_Length &lt;dbl&gt; | mean_Perimeter &lt;dbl&gt; |\n",
       "|---|---|---|---|\n",
       "| 87804.13 | 430.93 | 254.4881 | 1165.907 |\n",
       "\n"
      ],
      "text/plain": [
       "  mean_Area mean_Major_Axis_Length mean_Minor_Axis_Length mean_Perimeter\n",
       "1 87804.13  430.93                 254.4881               1165.907      "
      ]
     },
     "metadata": {},
     "output_type": "display_data"
    }
   ],
   "source": [
    "mean_predictors <- raisin_data |>\n",
    "                summarize(mean_Area = mean(Area),\n",
    "                         mean_Major_Axis_Length = mean(MajorAxisLength),\n",
    "                         mean_Minor_Axis_Length = mean(MinorAxisLength),\n",
    "                         mean_Perimeter = mean(Perimeter))\n",
    "mean_predictors"
   ]
  }
 ],
 "metadata": {
  "kernelspec": {
   "display_name": "R",
   "language": "R",
   "name": "ir"
  },
  "language_info": {
   "codemirror_mode": "r",
   "file_extension": ".r",
   "mimetype": "text/x-r-source",
   "name": "R",
   "pygments_lexer": "r",
   "version": "4.3.1"
  }
 },
 "nbformat": 4,
 "nbformat_minor": 5
}
