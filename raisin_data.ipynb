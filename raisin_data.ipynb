{
 "cells": [
  {
   "cell_type": "markdown",
   "id": "51d27b1a-e969-40e0-9804-7e2bec3567e8",
   "metadata": {},
   "source": [
    "Predicting The Class of a Given Raisin Observation By Considering Area, Major Axis Lengths, and Perimeter as Predictors \n",
    "\n",
    "**Intro**\n",
    "\n",
    "Raisins are a common snack distributed globally which contain high concentrations of carbohydrates, and beneficial nutrients\n",
    "such as Iron, Potassium, fiber, and antioxidants. Cinar et al., (2020) conducted an analysis of two common classes of raisins \n",
    "produced using grapes grown in Turkey with the intention of developing a machine vision system which could use multiple predictors \n",
    "to differentiate between Besni and Keciman raisin varieties. The study used a morphological interface consisting of seven different\n",
    "features to collect data on the varieties. The program uses imaging, which takes measurements of each raisin based on the number of\n",
    "pixels it takes up. We will be using this previously collected data from Cinar et al., (2020) to predict the class of an observed \n",
    "raisin based on predictors including the raisins area, major axis lengths, convex area, and perimeter."
   ]
  },
  {
   "cell_type": "markdown",
   "id": "0b8febb6-3d11-4c7b-aef4-9c35f4ec982a",
   "metadata": {},
   "source": [
    "First, we load any neccesary libraries."
   ]
  },
  {
   "cell_type": "code",
   "execution_count": 1,
   "id": "13b74b59-d573-4220-a0e4-70a5a5880089",
   "metadata": {},
   "outputs": [
    {
     "name": "stderr",
     "output_type": "stream",
     "text": [
      "── \u001b[1mAttaching core tidyverse packages\u001b[22m ──────────────────────── tidyverse 2.0.0 ──\n",
      "\u001b[32m✔\u001b[39m \u001b[34mdplyr    \u001b[39m 1.1.3     \u001b[32m✔\u001b[39m \u001b[34mreadr    \u001b[39m 2.1.4\n",
      "\u001b[32m✔\u001b[39m \u001b[34mforcats  \u001b[39m 1.0.0     \u001b[32m✔\u001b[39m \u001b[34mstringr  \u001b[39m 1.5.0\n",
      "\u001b[32m✔\u001b[39m \u001b[34mggplot2  \u001b[39m 3.4.4     \u001b[32m✔\u001b[39m \u001b[34mtibble   \u001b[39m 3.2.1\n",
      "\u001b[32m✔\u001b[39m \u001b[34mlubridate\u001b[39m 1.9.3     \u001b[32m✔\u001b[39m \u001b[34mtidyr    \u001b[39m 1.3.0\n",
      "\u001b[32m✔\u001b[39m \u001b[34mpurrr    \u001b[39m 1.0.2     \n",
      "── \u001b[1mConflicts\u001b[22m ────────────────────────────────────────── tidyverse_conflicts() ──\n",
      "\u001b[31m✖\u001b[39m \u001b[34mdplyr\u001b[39m::\u001b[32mfilter()\u001b[39m masks \u001b[34mstats\u001b[39m::filter()\n",
      "\u001b[31m✖\u001b[39m \u001b[34mdplyr\u001b[39m::\u001b[32mlag()\u001b[39m    masks \u001b[34mstats\u001b[39m::lag()\n",
      "\u001b[36mℹ\u001b[39m Use the conflicted package (\u001b[3m\u001b[34m<http://conflicted.r-lib.org/>\u001b[39m\u001b[23m) to force all conflicts to become errors\n",
      "── \u001b[1mAttaching packages\u001b[22m ────────────────────────────────────── tidymodels 1.1.1 ──\n",
      "\n",
      "\u001b[32m✔\u001b[39m \u001b[34mbroom       \u001b[39m 1.0.5     \u001b[32m✔\u001b[39m \u001b[34mrsample     \u001b[39m 1.2.0\n",
      "\u001b[32m✔\u001b[39m \u001b[34mdials       \u001b[39m 1.2.0     \u001b[32m✔\u001b[39m \u001b[34mtune        \u001b[39m 1.1.2\n",
      "\u001b[32m✔\u001b[39m \u001b[34minfer       \u001b[39m 1.0.5     \u001b[32m✔\u001b[39m \u001b[34mworkflows   \u001b[39m 1.1.3\n",
      "\u001b[32m✔\u001b[39m \u001b[34mmodeldata   \u001b[39m 1.2.0     \u001b[32m✔\u001b[39m \u001b[34mworkflowsets\u001b[39m 1.0.1\n",
      "\u001b[32m✔\u001b[39m \u001b[34mparsnip     \u001b[39m 1.1.1     \u001b[32m✔\u001b[39m \u001b[34myardstick   \u001b[39m 1.2.0\n",
      "\u001b[32m✔\u001b[39m \u001b[34mrecipes     \u001b[39m 1.0.8     \n",
      "\n",
      "── \u001b[1mConflicts\u001b[22m ───────────────────────────────────────── tidymodels_conflicts() ──\n",
      "\u001b[31m✖\u001b[39m \u001b[34mscales\u001b[39m::\u001b[32mdiscard()\u001b[39m masks \u001b[34mpurrr\u001b[39m::discard()\n",
      "\u001b[31m✖\u001b[39m \u001b[34mdplyr\u001b[39m::\u001b[32mfilter()\u001b[39m   masks \u001b[34mstats\u001b[39m::filter()\n",
      "\u001b[31m✖\u001b[39m \u001b[34mrecipes\u001b[39m::\u001b[32mfixed()\u001b[39m  masks \u001b[34mstringr\u001b[39m::fixed()\n",
      "\u001b[31m✖\u001b[39m \u001b[34mdplyr\u001b[39m::\u001b[32mlag()\u001b[39m      masks \u001b[34mstats\u001b[39m::lag()\n",
      "\u001b[31m✖\u001b[39m \u001b[34myardstick\u001b[39m::\u001b[32mspec()\u001b[39m masks \u001b[34mreadr\u001b[39m::spec()\n",
      "\u001b[31m✖\u001b[39m \u001b[34mrecipes\u001b[39m::\u001b[32mstep()\u001b[39m   masks \u001b[34mstats\u001b[39m::step()\n",
      "\u001b[34m•\u001b[39m Use \u001b[32mtidymodels_prefer()\u001b[39m to resolve common conflicts.\n",
      "\n"
     ]
    }
   ],
   "source": [
    "library(tidyverse)\n",
    "library(tidymodels)\n",
    "library(repr)\n",
    "options(repr.matrix.max.rows = 6)"
   ]
  },
  {
   "cell_type": "markdown",
   "id": "725cfac8-64d1-4263-909d-c7c7826e5101",
   "metadata": {},
   "source": [
    "In the following cell, we read the dataset from web into R."
   ]
  },
  {
   "cell_type": "code",
   "execution_count": 3,
   "id": "3c151af7-b41a-4b3f-aa0d-861918e6f426",
   "metadata": {},
   "outputs": [
    {
     "name": "stderr",
     "output_type": "stream",
     "text": [
      "\u001b[1mRows: \u001b[22m\u001b[34m900\u001b[39m \u001b[1mColumns: \u001b[22m\u001b[34m8\u001b[39m\n",
      "\u001b[36m──\u001b[39m \u001b[1mColumn specification\u001b[22m \u001b[36m────────────────────────────────────────────────────────\u001b[39m\n",
      "\u001b[1mDelimiter:\u001b[22m \",\"\n",
      "\u001b[31mchr\u001b[39m (1): Class\n",
      "\u001b[32mdbl\u001b[39m (7): Area, MajorAxisLength, MinorAxisLength, Eccentricity, ConvexArea, E...\n",
      "\n",
      "\u001b[36mℹ\u001b[39m Use `spec()` to retrieve the full column specification for this data.\n",
      "\u001b[36mℹ\u001b[39m Specify the column types or set `show_col_types = FALSE` to quiet this message.\n"
     ]
    },
    {
     "data": {
      "text/html": [
       "<table class=\"dataframe\">\n",
       "<caption>A spec_tbl_df: 900 × 8</caption>\n",
       "<thead>\n",
       "\t<tr><th scope=col>Area</th><th scope=col>MajorAxisLength</th><th scope=col>MinorAxisLength</th><th scope=col>Eccentricity</th><th scope=col>ConvexArea</th><th scope=col>Extent</th><th scope=col>Perimeter</th><th scope=col>Class</th></tr>\n",
       "\t<tr><th scope=col>&lt;dbl&gt;</th><th scope=col>&lt;dbl&gt;</th><th scope=col>&lt;dbl&gt;</th><th scope=col>&lt;dbl&gt;</th><th scope=col>&lt;dbl&gt;</th><th scope=col>&lt;dbl&gt;</th><th scope=col>&lt;dbl&gt;</th><th scope=col>&lt;chr&gt;</th></tr>\n",
       "</thead>\n",
       "<tbody>\n",
       "\t<tr><td>87524</td><td>442.2460</td><td>253.2912</td><td>0.8197384</td><td>90546</td><td>0.7586506</td><td>1184.040</td><td>Kecimen</td></tr>\n",
       "\t<tr><td>75166</td><td>406.6907</td><td>243.0324</td><td>0.8018052</td><td>78789</td><td>0.6841296</td><td>1121.786</td><td>Kecimen</td></tr>\n",
       "\t<tr><td>90856</td><td>442.2670</td><td>266.3283</td><td>0.7983536</td><td>93717</td><td>0.6376128</td><td>1208.575</td><td>Kecimen</td></tr>\n",
       "\t<tr><td>⋮</td><td>⋮</td><td>⋮</td><td>⋮</td><td>⋮</td><td>⋮</td><td>⋮</td><td>⋮</td></tr>\n",
       "\t<tr><td>99657</td><td>431.7070</td><td>298.8373</td><td>0.7216841</td><td>106264</td><td>0.7410985</td><td>1292.828</td><td>Besni</td></tr>\n",
       "\t<tr><td>93523</td><td>476.3441</td><td>254.1761</td><td>0.8457385</td><td> 97653</td><td>0.6587983</td><td>1258.548</td><td>Besni</td></tr>\n",
       "\t<tr><td>85609</td><td>512.0818</td><td>215.2720</td><td>0.9073454</td><td> 89197</td><td>0.6320200</td><td>1272.862</td><td>Besni</td></tr>\n",
       "</tbody>\n",
       "</table>\n"
      ],
      "text/latex": [
       "A spec\\_tbl\\_df: 900 × 8\n",
       "\\begin{tabular}{llllllll}\n",
       " Area & MajorAxisLength & MinorAxisLength & Eccentricity & ConvexArea & Extent & Perimeter & Class\\\\\n",
       " <dbl> & <dbl> & <dbl> & <dbl> & <dbl> & <dbl> & <dbl> & <chr>\\\\\n",
       "\\hline\n",
       "\t 87524 & 442.2460 & 253.2912 & 0.8197384 & 90546 & 0.7586506 & 1184.040 & Kecimen\\\\\n",
       "\t 75166 & 406.6907 & 243.0324 & 0.8018052 & 78789 & 0.6841296 & 1121.786 & Kecimen\\\\\n",
       "\t 90856 & 442.2670 & 266.3283 & 0.7983536 & 93717 & 0.6376128 & 1208.575 & Kecimen\\\\\n",
       "\t ⋮ & ⋮ & ⋮ & ⋮ & ⋮ & ⋮ & ⋮ & ⋮\\\\\n",
       "\t 99657 & 431.7070 & 298.8373 & 0.7216841 & 106264 & 0.7410985 & 1292.828 & Besni\\\\\n",
       "\t 93523 & 476.3441 & 254.1761 & 0.8457385 &  97653 & 0.6587983 & 1258.548 & Besni\\\\\n",
       "\t 85609 & 512.0818 & 215.2720 & 0.9073454 &  89197 & 0.6320200 & 1272.862 & Besni\\\\\n",
       "\\end{tabular}\n"
      ],
      "text/markdown": [
       "\n",
       "A spec_tbl_df: 900 × 8\n",
       "\n",
       "| Area &lt;dbl&gt; | MajorAxisLength &lt;dbl&gt; | MinorAxisLength &lt;dbl&gt; | Eccentricity &lt;dbl&gt; | ConvexArea &lt;dbl&gt; | Extent &lt;dbl&gt; | Perimeter &lt;dbl&gt; | Class &lt;chr&gt; |\n",
       "|---|---|---|---|---|---|---|---|\n",
       "| 87524 | 442.2460 | 253.2912 | 0.8197384 | 90546 | 0.7586506 | 1184.040 | Kecimen |\n",
       "| 75166 | 406.6907 | 243.0324 | 0.8018052 | 78789 | 0.6841296 | 1121.786 | Kecimen |\n",
       "| 90856 | 442.2670 | 266.3283 | 0.7983536 | 93717 | 0.6376128 | 1208.575 | Kecimen |\n",
       "| ⋮ | ⋮ | ⋮ | ⋮ | ⋮ | ⋮ | ⋮ | ⋮ |\n",
       "| 99657 | 431.7070 | 298.8373 | 0.7216841 | 106264 | 0.7410985 | 1292.828 | Besni |\n",
       "| 93523 | 476.3441 | 254.1761 | 0.8457385 |  97653 | 0.6587983 | 1258.548 | Besni |\n",
       "| 85609 | 512.0818 | 215.2720 | 0.9073454 |  89197 | 0.6320200 | 1272.862 | Besni |\n",
       "\n"
      ],
      "text/plain": [
       "    Area  MajorAxisLength MinorAxisLength Eccentricity ConvexArea Extent   \n",
       "1   87524 442.2460        253.2912        0.8197384    90546      0.7586506\n",
       "2   75166 406.6907        243.0324        0.8018052    78789      0.6841296\n",
       "3   90856 442.2670        266.3283        0.7983536    93717      0.6376128\n",
       "⋮   ⋮     ⋮               ⋮               ⋮            ⋮          ⋮        \n",
       "898 99657 431.7070        298.8373        0.7216841    106264     0.7410985\n",
       "899 93523 476.3441        254.1761        0.8457385     97653     0.6587983\n",
       "900 85609 512.0818        215.2720        0.9073454     89197     0.6320200\n",
       "    Perimeter Class  \n",
       "1   1184.040  Kecimen\n",
       "2   1121.786  Kecimen\n",
       "3   1208.575  Kecimen\n",
       "⋮   ⋮         ⋮      \n",
       "898 1292.828  Besni  \n",
       "899 1258.548  Besni  \n",
       "900 1272.862  Besni  "
      ]
     },
     "metadata": {},
     "output_type": "display_data"
    }
   ],
   "source": [
    "url <- \"https://raw.githubusercontent.com/dvolman/DSCI-Group-Project/main/Raisin_Dataset.csv\"\n",
    "raisin_data <- read_csv(url)\n",
    "raisin_data"
   ]
  },
  {
   "cell_type": "markdown",
   "id": "cae1834f-bfd2-495e-982f-d5b9da73c99b",
   "metadata": {},
   "source": [
    "**Tidy Data**\n",
    "\n",
    "A data frame can be considered tidy when it meets the following requirements:\n",
    "\n",
    "- each row is a single observation,\n",
    "- each column is a single variable, and\n",
    "- each value is a single cell (i.e., its entry in the data frame is not shared with another value).\n",
    "  \n",
    "Given that `raisin_data` already meets these conditions, additional steps to tidy the data are not required. "
   ]
  },
  {
   "cell_type": "markdown",
   "id": "365a4565-ee5b-4913-8780-38abe0cb87e7",
   "metadata": {},
   "source": [
    "Since we are treating `Class` as a categorical variable, we convert it into a factor. We also rename the columns for readability."
   ]
  },
  {
   "cell_type": "code",
   "execution_count": null,
   "id": "18e18c0b-4cca-4e85-87ba-7e538ab9c8ca",
   "metadata": {},
   "outputs": [],
   "source": [
    "raisin_data <- raisin_data |>\n",
    "                mutate(Class = as_factor(Class))\n",
    "colnames(raisin_data) <- c(\"Area\", \"Major_Axis_Length\", \"Minor_Axis_Length\", \"Eccentricity\", \"Convex_Area\", \"Extent\", \"Perimeter\", \"Class\")\n",
    "raisin_data"
   ]
  },
  {
   "cell_type": "markdown",
   "id": "333018af-272a-4031-bd18-6b0e808a0ad7",
   "metadata": {},
   "source": [
    "**Method**\n",
    "\n",
    "We will conduct a data analysis using the K-Nearest algorithm to perform a binary classification. We will split our dataset into a training set, validation set, and testing set using the `initial_split()` function from the tidymodels package. We will use columns including `Area` (the number of pixels within the raisins boundary), `Major_Axis_Length` (the length of the main axis, which is the longest line that can be drawn on the raisin grain), `Convex_Area` (the number of pixels within the smallest convex shell of the raisin), and `Perimeter` (measures the environment by calculating the distance between the boundaries of the raisin grain and the pixels around it) as our predictors, due to their high values of standard deviation. Due to the large range of values in each column, an important step will be to standardize the data to give each value  the same weight. Results will be visualized using histograms in order to observe the relationships between various predictors and raisin class. These visualizations will also be helpful to understand distances between observations during the classification process. "
   ]
  },
  {
   "cell_type": "code",
   "execution_count": null,
   "id": "ddad85d8-5a8d-4c33-8fe1-f290ac067ca0",
   "metadata": {},
   "outputs": [],
   "source": [
    "set.seed(5)\n",
    "\n",
    "raisin_split <- initial_split(raisin_data, prop = 0.75, strata = Class)\n",
    "raisin_train <- training(raisin_split)\n",
    "raisin_test <- testing(raisin_split)\n",
    "raisin_train\n",
    "raisin_test"
   ]
  },
  {
   "cell_type": "markdown",
   "id": "b758765b-bfc6-4aa7-896f-739caae0b14b",
   "metadata": {},
   "source": [
    "In the following cell, we summarize number of observations for each class as a percentage of total observations. We also confirm there are no missing data. "
   ]
  },
  {
   "cell_type": "code",
   "execution_count": null,
   "id": "2d9b3128-6969-4a43-9d6a-7b49b1ec141a",
   "metadata": {},
   "outputs": [],
   "source": [
    "missing_data <- any(is.na(raisin_train))\n",
    "total_obs <- nrow(raisin_data) \n",
    "summary <- raisin_data |>\n",
    "            group_by(Class) |>\n",
    "            summarize(count = n(), percentage = n() / total_obs * 100, missing_data = missing_data)\n",
    "summary"
   ]
  },
  {
   "cell_type": "markdown",
   "id": "ad43202e-cdcf-4cd4-b88d-b0b8d4991321",
   "metadata": {},
   "source": [
    "The following table will summarize the mean values of the predictors we will be using. "
   ]
  },
  {
   "cell_type": "code",
   "execution_count": null,
   "id": "02d36b07-9893-467a-894c-4a9aca9747b3",
   "metadata": {},
   "outputs": [],
   "source": [
    "mean_predictors <- raisin_data |>\n",
    "                summarize(mean_Area = mean(Area),\n",
    "                         mean_Major_Axis_Length = mean(Major_Axis_Length),\n",
    "                         mean_Convex_Area = mean(Convex_Area),\n",
    "                         mean_Perimeter = mean(Perimeter))\n",
    "mean_predictors"
   ]
  },
  {
   "cell_type": "markdown",
   "id": "f2274a6d-4c98-40ab-bfe4-a21efbb2a3f0",
   "metadata": {},
   "source": [
    "The following visualizations show the distribution of each class in each predictor we will be using."
   ]
  },
  {
   "cell_type": "code",
   "execution_count": null,
   "id": "96ce02ae-66fa-43ac-856f-b1ce23816392",
   "metadata": {},
   "outputs": [],
   "source": [
    "hist_Area <- raisin_train |>\n",
    "                    ggplot(aes(x = Area, fill = Class)) +\n",
    "                    geom_histogram(position = \"identity\", alpha = 0.7, bins = 40) +\n",
    "                    labs(x = \"Area (in micrometres squared)\", fill = \"Raisin Class\", \n",
    "                         title = \"Distrubution of Raisin Class on Area\") +\n",
    "                    theme(text = element_text(size = 15))\n",
    "hist_Major_Axis_Length <- raisin_train |>\n",
    "                    ggplot(aes(x = Major_Axis_Length, fill = Class)) +\n",
    "                    geom_histogram(position = \"identity\", alpha = 0.7, bins = 40) +\n",
    "                    labs(x = \"Major Axis Length (in micrometres)\", fill = \"Raisin Class\", \n",
    "                         title = \"Distrubution of Raisin Class on Major Axis Length\") +\n",
    "                    theme(text = element_text(size = 15))\n",
    "hist_Convex_Area <- raisin_train |>\n",
    "                    ggplot(aes(x = Convex_Area, fill = Class)) +\n",
    "                    geom_histogram(position = \"identity\", alpha = 0.7, bins = 40) +\n",
    "                    labs(x = \"Convex Area (in micrometres squared)\", fill = \"Raisin Class\", \n",
    "                         title = \"Distrubution of Raisin Class on Convex Area\") +\n",
    "                    theme(text = element_text(size = 15))\n",
    "hist_Perimeter <- raisin_train |>\n",
    "                    ggplot(aes(x = Perimeter, fill = Class)) +\n",
    "                    geom_histogram(position = \"identity\", alpha = 0.7, bins = 40) +\n",
    "                    labs(x = \"Perimeter (in micrometres)\", fill = \"Raisin Class\", \n",
    "                         title = \"Distrubution of Raisin Class on Perimeter\") +\n",
    "                    theme(text = element_text(size = 15))\n",
    "hist_Area\n",
    "hist_Major_Axis_Length\n",
    "hist_Convex_Area\n",
    "hist_Perimeter"
   ]
  },
  {
   "cell_type": "markdown",
   "id": "75950c1d-5105-42e5-817a-feb4ff4f88a5",
   "metadata": {},
   "source": [
    "**Expected outcomes and significance**\n",
    "\n",
    "We expect to find that the raisins with the largest area, convex area, and major axis lengths will be of the Besni variety. These findings could improve the quality of raisin class evaluation and aid in the development of automated raisin evaluation systems, which can be more accurate and significantly more efficient than evaluating raisins by hand (Cinar et al., 2020). Reducing the time and financial requirements of raisin evaluation would have financial benefits for raisin producers, and economic benefits for countries with large exports of raisin products. These findings also raise questions about other measurable features that may be important in assessing raisin quality, and about how improved class evaluation could be used to maximize the production of raisins with preferable features. \n",
    "\n",
    "References\n",
    "    Çinar, İ̇., Koklu, M., & Tasdemir, S. (2023). Raisin. UCI Machine Learning Repository. https://doi.org/10.24432/C5660T.\n",
    "    Cinar, I., Koklu, M., & Tasdemir, S. (2020). Kuru Üzüm Tanelerinin Makine Görüşü ve Yapay Zeka Yöntemleri Kullanılarak Sınıflandırılması. Gazi Journal of Engineering Sciences."
   ]
  },
  {
   "cell_type": "code",
   "execution_count": null,
   "id": "40ee174d-5d75-49e1-b199-a69b6a67fc46",
   "metadata": {},
   "outputs": [],
   "source": []
  }
 ],
 "metadata": {
  "kernelspec": {
   "display_name": "R",
   "language": "R",
   "name": "ir"
  },
  "language_info": {
   "codemirror_mode": "r",
   "file_extension": ".r",
   "mimetype": "text/x-r-source",
   "name": "R",
   "pygments_lexer": "r",
   "version": "4.3.1"
  }
 },
 "nbformat": 4,
 "nbformat_minor": 5
}
